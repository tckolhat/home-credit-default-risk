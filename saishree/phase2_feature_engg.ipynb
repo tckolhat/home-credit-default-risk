{
 "cells": [
  {
   "cell_type": "markdown",
   "metadata": {},
   "source": [
    "# Imports"
   ]
  },
  {
   "cell_type": "code",
   "execution_count": 4,
   "metadata": {},
   "outputs": [],
   "source": [
    "import numpy as np\n",
    "import pandas as pd \n",
    "from sklearn.preprocessing import LabelEncoder\n",
    "import zipfile\n",
    "import os\n",
    "from sklearn.base import BaseEstimator, TransformerMixin\n",
    "import matplotlib.pyplot as plt\n",
    "import seaborn as sns\n",
    "from sklearn.linear_model import LogisticRegression\n",
    "from sklearn.model_selection import train_test_split\n",
    "from sklearn.model_selection import KFold\n",
    "from sklearn.model_selection import cross_val_score\n",
    "from sklearn.model_selection import GridSearchCV\n",
    "from sklearn.impute import SimpleImputer\n",
    "from sklearn.preprocessing import MinMaxScaler\n",
    "from sklearn.pipeline import Pipeline, FeatureUnion\n",
    "from pandas.plotting import scatter_matrix\n",
    "from sklearn.preprocessing import StandardScaler\n",
    "from sklearn.preprocessing import OneHotEncoder\n",
    "import warnings\n",
    "warnings.filterwarnings('ignore')"
   ]
  },
  {
   "cell_type": "markdown",
   "metadata": {},
   "source": [
    "# POS Cash dataset"
   ]
  },
  {
   "cell_type": "code",
   "execution_count": 5,
   "metadata": {},
   "outputs": [],
   "source": [
    "#loading the dataset\n",
    "cash = pd.read_csv(\"home-credit-default-risk/POS_CASH_balance.csv\")"
   ]
  },
  {
   "cell_type": "code",
   "execution_count": 20,
   "metadata": {},
   "outputs": [],
   "source": [
    "application_train = pd.read_csv(\"home-credit-default-risk/application_train.csv\")"
   ]
  },
  {
   "cell_type": "code",
   "execution_count": 4,
   "metadata": {},
   "outputs": [
    {
     "data": {
      "text/plain": [
       "SK_ID_PREV               936325\n",
       "SK_ID_CURR               337252\n",
       "MONTHS_BALANCE               96\n",
       "CNT_INSTALMENT               73\n",
       "CNT_INSTALMENT_FUTURE        79\n",
       "NAME_CONTRACT_STATUS          9\n",
       "SK_DPD                     3400\n",
       "SK_DPD_DEF                 2307\n",
       "dtype: int64"
      ]
     },
     "execution_count": 4,
     "metadata": {},
     "output_type": "execute_result"
    }
   ],
   "source": [
    "cash.nunique()"
   ]
  },
  {
   "cell_type": "code",
   "execution_count": 113,
   "metadata": {},
   "outputs": [
    {
     "name": "stdout",
     "output_type": "stream",
     "text": [
      "<class 'pandas.core.frame.DataFrame'>\n",
      "RangeIndex: 10001358 entries, 0 to 10001357\n",
      "Data columns (total 8 columns):\n",
      " #   Column                 Dtype  \n",
      "---  ------                 -----  \n",
      " 0   SK_ID_PREV             int64  \n",
      " 1   SK_ID_CURR             int64  \n",
      " 2   MONTHS_BALANCE         int64  \n",
      " 3   CNT_INSTALMENT         float64\n",
      " 4   CNT_INSTALMENT_FUTURE  float64\n",
      " 5   NAME_CONTRACT_STATUS   object \n",
      " 6   SK_DPD                 int64  \n",
      " 7   SK_DPD_DEF             int64  \n",
      "dtypes: float64(2), int64(5), object(1)\n",
      "memory usage: 610.4+ MB\n"
     ]
    }
   ],
   "source": [
    "cash.info()"
   ]
  },
  {
   "cell_type": "markdown",
   "metadata": {},
   "source": [
    "## missing values"
   ]
  },
  {
   "cell_type": "code",
   "execution_count": 114,
   "metadata": {},
   "outputs": [
    {
     "data": {
      "text/html": [
       "<div>\n",
       "<style scoped>\n",
       "    .dataframe tbody tr th:only-of-type {\n",
       "        vertical-align: middle;\n",
       "    }\n",
       "\n",
       "    .dataframe tbody tr th {\n",
       "        vertical-align: top;\n",
       "    }\n",
       "\n",
       "    .dataframe thead th {\n",
       "        text-align: right;\n",
       "    }\n",
       "</style>\n",
       "<table border=\"1\" class=\"dataframe\">\n",
       "  <thead>\n",
       "    <tr style=\"text-align: right;\">\n",
       "      <th></th>\n",
       "      <th>Percent</th>\n",
       "      <th>POS cash Missing Count</th>\n",
       "    </tr>\n",
       "  </thead>\n",
       "  <tbody>\n",
       "    <tr>\n",
       "      <th>CNT_INSTALMENT_FUTURE</th>\n",
       "      <td>0.26</td>\n",
       "      <td>26087</td>\n",
       "    </tr>\n",
       "    <tr>\n",
       "      <th>CNT_INSTALMENT</th>\n",
       "      <td>0.26</td>\n",
       "      <td>26071</td>\n",
       "    </tr>\n",
       "    <tr>\n",
       "      <th>SK_ID_PREV</th>\n",
       "      <td>0.00</td>\n",
       "      <td>0</td>\n",
       "    </tr>\n",
       "    <tr>\n",
       "      <th>SK_ID_CURR</th>\n",
       "      <td>0.00</td>\n",
       "      <td>0</td>\n",
       "    </tr>\n",
       "    <tr>\n",
       "      <th>MONTHS_BALANCE</th>\n",
       "      <td>0.00</td>\n",
       "      <td>0</td>\n",
       "    </tr>\n",
       "    <tr>\n",
       "      <th>NAME_CONTRACT_STATUS</th>\n",
       "      <td>0.00</td>\n",
       "      <td>0</td>\n",
       "    </tr>\n",
       "    <tr>\n",
       "      <th>SK_DPD</th>\n",
       "      <td>0.00</td>\n",
       "      <td>0</td>\n",
       "    </tr>\n",
       "    <tr>\n",
       "      <th>SK_DPD_DEF</th>\n",
       "      <td>0.00</td>\n",
       "      <td>0</td>\n",
       "    </tr>\n",
       "  </tbody>\n",
       "</table>\n",
       "</div>"
      ],
      "text/plain": [
       "                       Percent  POS cash Missing Count\n",
       "CNT_INSTALMENT_FUTURE     0.26                   26087\n",
       "CNT_INSTALMENT            0.26                   26071\n",
       "SK_ID_PREV                0.00                       0\n",
       "SK_ID_CURR                0.00                       0\n",
       "MONTHS_BALANCE            0.00                       0\n",
       "NAME_CONTRACT_STATUS      0.00                       0\n",
       "SK_DPD                    0.00                       0\n",
       "SK_DPD_DEF                0.00                       0"
      ]
     },
     "execution_count": 114,
     "metadata": {},
     "output_type": "execute_result"
    }
   ],
   "source": [
    "percent = (cash.isnull().sum()/cash.isnull().count()*100).sort_values(ascending = False).round(2)\n",
    "sum_missing = cash.isna().sum().sort_values(ascending = False)\n",
    "missing_pos_cash_data  = pd.concat([percent, sum_missing], axis=1, keys=['Percent', \"POS cash Missing Count\"])\n",
    "missing_pos_cash_data.head(20)"
   ]
  },
  {
   "cell_type": "code",
   "execution_count": 119,
   "metadata": {},
   "outputs": [],
   "source": [
    "#Should used mean for imputing missing values of installments paid and left for previous applications"
   ]
  },
  {
   "cell_type": "code",
   "execution_count": 12,
   "metadata": {},
   "outputs": [
    {
     "data": {
      "text/plain": [
       "<AxesSubplot:>"
      ]
     },
     "execution_count": 12,
     "metadata": {},
     "output_type": "execute_result"
    },
    {
     "data": {
      "image/png": "[encoded data removed]",
      "text/plain": [
       "<Figure size 432x288 with 1 Axes>"
      ]
     },
     "metadata": {
      "needs_background": "light"
     },
     "output_type": "display_data"
    }
   ],
   "source": [
    "cash['SK_DPD'].hist()"
   ]
  },
  {
   "cell_type": "code",
   "execution_count": 13,
   "metadata": {},
   "outputs": [
    {
     "data": {
      "text/plain": [
       "<AxesSubplot:>"
      ]
     },
     "execution_count": 13,
     "metadata": {},
     "output_type": "execute_result"
    },
    {
     "data": {
      "image/png": "[encoded data removed]",
      "text/plain": [
       "<Figure size 432x288 with 1 Axes>"
      ]
     },
     "metadata": {
      "needs_background": "light"
     },
     "output_type": "display_data"
    }
   ],
   "source": [
    "cash['SK_DPD_DEF'].hist()"
   ]
  },
  {
   "cell_type": "markdown",
   "metadata": {},
   "source": [
    "## feature engg"
   ]
  },
  {
   "cell_type": "markdown",
   "metadata": {},
   "source": [
    "left skewed - months_balance,<br>\n",
    "right skewed - CNT_INSTALMENT, CNT_INSTALMENT_FUTURE,"
   ]
  },
  {
   "cell_type": "code",
   "execution_count": 7,
   "metadata": {},
   "outputs": [],
   "source": [
    "cash['pos_cash_paid_late'] = (cash['SK_DPD'] > 0).astype(int)\n",
    "cash['pos_cash_paid_late_with_tolerance'] = (cash['SK_DPD_DEF'] > 0).astype(int)"
   ]
  },
  {
   "cell_type": "code",
   "execution_count": 170,
   "metadata": {},
   "outputs": [
    {
     "data": {
      "text/plain": [
       "array([0, 1])"
      ]
     },
     "execution_count": 170,
     "metadata": {},
     "output_type": "execute_result"
    }
   ],
   "source": [
    "cash['pos_cash_paid_late'].unique()"
   ]
  },
  {
   "cell_type": "code",
   "execution_count": 120,
   "metadata": {},
   "outputs": [
    {
     "name": "stdout",
     "output_type": "stream",
     "text": [
      "<class 'pandas.core.frame.DataFrame'>\n",
      "RangeIndex: 10001358 entries, 0 to 10001357\n",
      "Data columns (total 10 columns):\n",
      " #   Column                             Dtype  \n",
      "---  ------                             -----  \n",
      " 0   SK_ID_PREV                         int64  \n",
      " 1   SK_ID_CURR                         int64  \n",
      " 2   MONTHS_BALANCE                     int64  \n",
      " 3   CNT_INSTALMENT                     float64\n",
      " 4   CNT_INSTALMENT_FUTURE              float64\n",
      " 5   NAME_CONTRACT_STATUS               object \n",
      " 6   SK_DPD                             int64  \n",
      " 7   SK_DPD_DEF                         int64  \n",
      " 8   pos_cash_paid_late                 int64  \n",
      " 9   pos_cash_paid_late_with_tolerance  int64  \n",
      "dtypes: float64(2), int64(7), object(1)\n",
      "memory usage: 763.0+ MB\n"
     ]
    }
   ],
   "source": [
    "cash.info()"
   ]
  },
  {
   "cell_type": "code",
   "execution_count": null,
   "metadata": {},
   "outputs": [],
   "source": [
    "#Convert flag variables to categorical?"
   ]
  },
  {
   "cell_type": "markdown",
   "metadata": {},
   "source": [
    "## merge train and POS cash dataset"
   ]
  },
  {
   "cell_type": "code",
   "execution_count": 44,
   "metadata": {},
   "outputs": [],
   "source": [
    "cash_train = cash.merge(application_train, left_on='SK_ID_CURR', right_on='SK_ID_CURR', how='inner')"
   ]
  },
  {
   "cell_type": "code",
   "execution_count": 45,
   "metadata": {},
   "outputs": [],
   "source": [
    "cash_train = cash_train.filter(['SK_ID_PREV','SK_ID_CURR','MONTHS_BALANCE','CNT_INSTALMENT','CNT_INSTALMENT_FUTURE','NAME_CONTRACT_STATUS','SK_DPD','pos_cash_paid_late_with_tolerance','pos_cash_paid_late','SK_DPD_DEF','TARGET'], axis=1)\n"
   ]
  },
  {
   "cell_type": "code",
   "execution_count": 169,
   "metadata": {},
   "outputs": [
    {
     "data": {
      "text/html": [
       "<div>\n",
       "<style scoped>\n",
       "    .dataframe tbody tr th:only-of-type {\n",
       "        vertical-align: middle;\n",
       "    }\n",
       "\n",
       "    .dataframe tbody tr th {\n",
       "        vertical-align: top;\n",
       "    }\n",
       "\n",
       "    .dataframe thead th {\n",
       "        text-align: right;\n",
       "    }\n",
       "</style>\n",
       "<table border=\"1\" class=\"dataframe\">\n",
       "  <thead>\n",
       "    <tr style=\"text-align: right;\">\n",
       "      <th></th>\n",
       "      <th>SK_ID_PREV</th>\n",
       "      <th>SK_ID_CURR</th>\n",
       "      <th>MONTHS_BALANCE</th>\n",
       "      <th>CNT_INSTALMENT</th>\n",
       "      <th>CNT_INSTALMENT_FUTURE</th>\n",
       "      <th>NAME_CONTRACT_STATUS</th>\n",
       "      <th>SK_DPD</th>\n",
       "      <th>pos_cash_paid_late_with_tolerance</th>\n",
       "      <th>pos_cash_paid_late</th>\n",
       "      <th>SK_DPD_DEF</th>\n",
       "      <th>TARGET</th>\n",
       "    </tr>\n",
       "  </thead>\n",
       "  <tbody>\n",
       "    <tr>\n",
       "      <th>0</th>\n",
       "      <td>1803195</td>\n",
       "      <td>182943</td>\n",
       "      <td>3.465736</td>\n",
       "      <td>3.891820</td>\n",
       "      <td>3.828641</td>\n",
       "      <td>Active</td>\n",
       "      <td>0</td>\n",
       "      <td>0</td>\n",
       "      <td>0</td>\n",
       "      <td>0</td>\n",
       "      <td>0</td>\n",
       "    </tr>\n",
       "    <tr>\n",
       "      <th>1</th>\n",
       "      <td>1803195</td>\n",
       "      <td>182943</td>\n",
       "      <td>2.890372</td>\n",
       "      <td>3.891820</td>\n",
       "      <td>3.465736</td>\n",
       "      <td>Active</td>\n",
       "      <td>0</td>\n",
       "      <td>0</td>\n",
       "      <td>0</td>\n",
       "      <td>0</td>\n",
       "      <td>0</td>\n",
       "    </tr>\n",
       "    <tr>\n",
       "      <th>2</th>\n",
       "      <td>1803195</td>\n",
       "      <td>182943</td>\n",
       "      <td>3.091042</td>\n",
       "      <td>3.891820</td>\n",
       "      <td>3.583519</td>\n",
       "      <td>Active</td>\n",
       "      <td>0</td>\n",
       "      <td>0</td>\n",
       "      <td>0</td>\n",
       "      <td>0</td>\n",
       "      <td>0</td>\n",
       "    </tr>\n",
       "    <tr>\n",
       "      <th>3</th>\n",
       "      <td>1803195</td>\n",
       "      <td>182943</td>\n",
       "      <td>2.197225</td>\n",
       "      <td>3.891820</td>\n",
       "      <td>3.091042</td>\n",
       "      <td>Active</td>\n",
       "      <td>0</td>\n",
       "      <td>0</td>\n",
       "      <td>0</td>\n",
       "      <td>0</td>\n",
       "      <td>0</td>\n",
       "    </tr>\n",
       "    <tr>\n",
       "      <th>4</th>\n",
       "      <td>1803195</td>\n",
       "      <td>182943</td>\n",
       "      <td>1.609438</td>\n",
       "      <td>3.891820</td>\n",
       "      <td>2.890372</td>\n",
       "      <td>Active</td>\n",
       "      <td>0</td>\n",
       "      <td>0</td>\n",
       "      <td>0</td>\n",
       "      <td>0</td>\n",
       "      <td>0</td>\n",
       "    </tr>\n",
       "    <tr>\n",
       "      <th>5</th>\n",
       "      <td>1803195</td>\n",
       "      <td>182943</td>\n",
       "      <td>1.098612</td>\n",
       "      <td>3.891820</td>\n",
       "      <td>2.772589</td>\n",
       "      <td>Active</td>\n",
       "      <td>0</td>\n",
       "      <td>0</td>\n",
       "      <td>0</td>\n",
       "      <td>0</td>\n",
       "      <td>0</td>\n",
       "    </tr>\n",
       "    <tr>\n",
       "      <th>6</th>\n",
       "      <td>1803195</td>\n",
       "      <td>182943</td>\n",
       "      <td>3.218876</td>\n",
       "      <td>3.891820</td>\n",
       "      <td>3.663562</td>\n",
       "      <td>Active</td>\n",
       "      <td>0</td>\n",
       "      <td>0</td>\n",
       "      <td>0</td>\n",
       "      <td>0</td>\n",
       "      <td>0</td>\n",
       "    </tr>\n",
       "    <tr>\n",
       "      <th>7</th>\n",
       "      <td>1803195</td>\n",
       "      <td>182943</td>\n",
       "      <td>2.484907</td>\n",
       "      <td>3.891820</td>\n",
       "      <td>3.258097</td>\n",
       "      <td>Active</td>\n",
       "      <td>0</td>\n",
       "      <td>0</td>\n",
       "      <td>0</td>\n",
       "      <td>0</td>\n",
       "      <td>0</td>\n",
       "    </tr>\n",
       "    <tr>\n",
       "      <th>8</th>\n",
       "      <td>1803195</td>\n",
       "      <td>182943</td>\n",
       "      <td>1.386294</td>\n",
       "      <td>3.891820</td>\n",
       "      <td>2.833213</td>\n",
       "      <td>Active</td>\n",
       "      <td>0</td>\n",
       "      <td>0</td>\n",
       "      <td>0</td>\n",
       "      <td>0</td>\n",
       "      <td>0</td>\n",
       "    </tr>\n",
       "    <tr>\n",
       "      <th>9</th>\n",
       "      <td>1803195</td>\n",
       "      <td>182943</td>\n",
       "      <td>2.397895</td>\n",
       "      <td>3.891820</td>\n",
       "      <td>3.178054</td>\n",
       "      <td>Active</td>\n",
       "      <td>0</td>\n",
       "      <td>0</td>\n",
       "      <td>0</td>\n",
       "      <td>0</td>\n",
       "      <td>0</td>\n",
       "    </tr>\n",
       "    <tr>\n",
       "      <th>10</th>\n",
       "      <td>1803195</td>\n",
       "      <td>182943</td>\n",
       "      <td>2.564949</td>\n",
       "      <td>3.891820</td>\n",
       "      <td>3.295837</td>\n",
       "      <td>Active</td>\n",
       "      <td>0</td>\n",
       "      <td>0</td>\n",
       "      <td>0</td>\n",
       "      <td>0</td>\n",
       "      <td>0</td>\n",
       "    </tr>\n",
       "    <tr>\n",
       "      <th>11</th>\n",
       "      <td>1803195</td>\n",
       "      <td>182943</td>\n",
       "      <td>2.995732</td>\n",
       "      <td>3.891820</td>\n",
       "      <td>3.526361</td>\n",
       "      <td>Active</td>\n",
       "      <td>0</td>\n",
       "      <td>0</td>\n",
       "      <td>0</td>\n",
       "      <td>0</td>\n",
       "      <td>0</td>\n",
       "    </tr>\n",
       "    <tr>\n",
       "      <th>12</th>\n",
       "      <td>1803195</td>\n",
       "      <td>182943</td>\n",
       "      <td>2.639057</td>\n",
       "      <td>3.891820</td>\n",
       "      <td>3.332205</td>\n",
       "      <td>Active</td>\n",
       "      <td>0</td>\n",
       "      <td>0</td>\n",
       "      <td>0</td>\n",
       "      <td>0</td>\n",
       "      <td>0</td>\n",
       "    </tr>\n",
       "    <tr>\n",
       "      <th>13</th>\n",
       "      <td>1803195</td>\n",
       "      <td>182943</td>\n",
       "      <td>2.833213</td>\n",
       "      <td>3.891820</td>\n",
       "      <td>3.433987</td>\n",
       "      <td>Active</td>\n",
       "      <td>0</td>\n",
       "      <td>0</td>\n",
       "      <td>0</td>\n",
       "      <td>0</td>\n",
       "      <td>0</td>\n",
       "    </tr>\n",
       "    <tr>\n",
       "      <th>14</th>\n",
       "      <td>1803195</td>\n",
       "      <td>182943</td>\n",
       "      <td>3.555348</td>\n",
       "      <td>3.891820</td>\n",
       "      <td>3.891820</td>\n",
       "      <td>Active</td>\n",
       "      <td>0</td>\n",
       "      <td>0</td>\n",
       "      <td>0</td>\n",
       "      <td>0</td>\n",
       "      <td>0</td>\n",
       "    </tr>\n",
       "    <tr>\n",
       "      <th>15</th>\n",
       "      <td>1803195</td>\n",
       "      <td>182943</td>\n",
       "      <td>3.496508</td>\n",
       "      <td>3.891820</td>\n",
       "      <td>3.850148</td>\n",
       "      <td>Active</td>\n",
       "      <td>0</td>\n",
       "      <td>0</td>\n",
       "      <td>0</td>\n",
       "      <td>0</td>\n",
       "      <td>0</td>\n",
       "    </tr>\n",
       "    <tr>\n",
       "      <th>16</th>\n",
       "      <td>1803195</td>\n",
       "      <td>182943</td>\n",
       "      <td>3.258097</td>\n",
       "      <td>3.891820</td>\n",
       "      <td>3.688879</td>\n",
       "      <td>Active</td>\n",
       "      <td>0</td>\n",
       "      <td>0</td>\n",
       "      <td>0</td>\n",
       "      <td>0</td>\n",
       "      <td>0</td>\n",
       "    </tr>\n",
       "    <tr>\n",
       "      <th>17</th>\n",
       "      <td>1803195</td>\n",
       "      <td>182943</td>\n",
       "      <td>1.791759</td>\n",
       "      <td>3.891820</td>\n",
       "      <td>2.944439</td>\n",
       "      <td>Active</td>\n",
       "      <td>0</td>\n",
       "      <td>0</td>\n",
       "      <td>0</td>\n",
       "      <td>0</td>\n",
       "      <td>0</td>\n",
       "    </tr>\n",
       "    <tr>\n",
       "      <th>18</th>\n",
       "      <td>1803195</td>\n",
       "      <td>182943</td>\n",
       "      <td>3.367296</td>\n",
       "      <td>3.891820</td>\n",
       "      <td>3.761200</td>\n",
       "      <td>Active</td>\n",
       "      <td>0</td>\n",
       "      <td>0</td>\n",
       "      <td>0</td>\n",
       "      <td>0</td>\n",
       "      <td>0</td>\n",
       "    </tr>\n",
       "    <tr>\n",
       "      <th>19</th>\n",
       "      <td>1215673</td>\n",
       "      <td>182943</td>\n",
       "      <td>4.127134</td>\n",
       "      <td>2.302585</td>\n",
       "      <td>2.197225</td>\n",
       "      <td>Active</td>\n",
       "      <td>0</td>\n",
       "      <td>0</td>\n",
       "      <td>0</td>\n",
       "      <td>0</td>\n",
       "      <td>0</td>\n",
       "    </tr>\n",
       "  </tbody>\n",
       "</table>\n",
       "</div>"
      ],
      "text/plain": [
       "    SK_ID_PREV  SK_ID_CURR  MONTHS_BALANCE  CNT_INSTALMENT  \\\n",
       "0      1803195      182943        3.465736        3.891820   \n",
       "1      1803195      182943        2.890372        3.891820   \n",
       "2      1803195      182943        3.091042        3.891820   \n",
       "3      1803195      182943        2.197225        3.891820   \n",
       "4      1803195      182943        1.609438        3.891820   \n",
       "5      1803195      182943        1.098612        3.891820   \n",
       "6      1803195      182943        3.218876        3.891820   \n",
       "7      1803195      182943        2.484907        3.891820   \n",
       "8      1803195      182943        1.386294        3.891820   \n",
       "9      1803195      182943        2.397895        3.891820   \n",
       "10     1803195      182943        2.564949        3.891820   \n",
       "11     1803195      182943        2.995732        3.891820   \n",
       "12     1803195      182943        2.639057        3.891820   \n",
       "13     1803195      182943        2.833213        3.891820   \n",
       "14     1803195      182943        3.555348        3.891820   \n",
       "15     1803195      182943        3.496508        3.891820   \n",
       "16     1803195      182943        3.258097        3.891820   \n",
       "17     1803195      182943        1.791759        3.891820   \n",
       "18     1803195      182943        3.367296        3.891820   \n",
       "19     1215673      182943        4.127134        2.302585   \n",
       "\n",
       "    CNT_INSTALMENT_FUTURE NAME_CONTRACT_STATUS  SK_DPD  \\\n",
       "0                3.828641               Active       0   \n",
       "1                3.465736               Active       0   \n",
       "2                3.583519               Active       0   \n",
       "3                3.091042               Active       0   \n",
       "4                2.890372               Active       0   \n",
       "5                2.772589               Active       0   \n",
       "6                3.663562               Active       0   \n",
       "7                3.258097               Active       0   \n",
       "8                2.833213               Active       0   \n",
       "9                3.178054               Active       0   \n",
       "10               3.295837               Active       0   \n",
       "11               3.526361               Active       0   \n",
       "12               3.332205               Active       0   \n",
       "13               3.433987               Active       0   \n",
       "14               3.891820               Active       0   \n",
       "15               3.850148               Active       0   \n",
       "16               3.688879               Active       0   \n",
       "17               2.944439               Active       0   \n",
       "18               3.761200               Active       0   \n",
       "19               2.197225               Active       0   \n",
       "\n",
       "    pos_cash_paid_late_with_tolerance  pos_cash_paid_late  SK_DPD_DEF  TARGET  \n",
       "0                                   0                   0           0       0  \n",
       "1                                   0                   0           0       0  \n",
       "2                                   0                   0           0       0  \n",
       "3                                   0                   0           0       0  \n",
       "4                                   0                   0           0       0  \n",
       "5                                   0                   0           0       0  \n",
       "6                                   0                   0           0       0  \n",
       "7                                   0                   0           0       0  \n",
       "8                                   0                   0           0       0  \n",
       "9                                   0                   0           0       0  \n",
       "10                                  0                   0           0       0  \n",
       "11                                  0                   0           0       0  \n",
       "12                                  0                   0           0       0  \n",
       "13                                  0                   0           0       0  \n",
       "14                                  0                   0           0       0  \n",
       "15                                  0                   0           0       0  \n",
       "16                                  0                   0           0       0  \n",
       "17                                  0                   0           0       0  \n",
       "18                                  0                   0           0       0  \n",
       "19                                  0                   0           0       0  "
      ]
     },
     "execution_count": 169,
     "metadata": {},
     "output_type": "execute_result"
    }
   ],
   "source": [
    "cash_train.head()"
   ]
  },
  {
   "cell_type": "markdown",
   "metadata": {},
   "source": [
    "## correlation with target"
   ]
  },
  {
   "cell_type": "code",
   "execution_count": 54,
   "metadata": {},
   "outputs": [
    {
     "data": {
      "text/plain": [
       "SK_ID_PREV                          -0.000056\n",
       "SK_ID_CURR                          -0.002245\n",
       "MONTHS_BALANCE                       0.020147\n",
       "CNT_INSTALMENT                       0.018506\n",
       "CNT_INSTALMENT_FUTURE                0.021972\n",
       "SK_DPD                               0.009866\n",
       "pos_cash_paid_late_with_tolerance    0.017128\n",
       "pos_cash_paid_late                   0.017466\n",
       "SK_DPD_DEF                           0.008594\n",
       "TARGET                               1.000000\n",
       "Name: TARGET, dtype: float64"
      ]
     },
     "metadata": {},
     "output_type": "display_data"
    }
   ],
   "source": [
    "corr_matrix = cash_train.corr()\n",
    "display(corr_matrix[\"TARGET\"])"
   ]
  },
  {
   "cell_type": "code",
   "execution_count": 121,
   "metadata": {},
   "outputs": [],
   "source": [
    "#correlation to target improves with newly engineered features"
   ]
  },
  {
   "cell_type": "code",
   "execution_count": null,
   "metadata": {},
   "outputs": [],
   "source": [
    "#TO-DO check correlation for NAME_CONTRACT_STATUS(cat var)"
   ]
  },
  {
   "cell_type": "code",
   "execution_count": 123,
   "metadata": {},
   "outputs": [
    {
     "data": {
      "text/html": [
       "<div>\n",
       "<style scoped>\n",
       "    .dataframe tbody tr th:only-of-type {\n",
       "        vertical-align: middle;\n",
       "    }\n",
       "\n",
       "    .dataframe tbody tr th {\n",
       "        vertical-align: top;\n",
       "    }\n",
       "\n",
       "    .dataframe thead th {\n",
       "        text-align: right;\n",
       "    }\n",
       "</style>\n",
       "<table border=\"1\" class=\"dataframe\">\n",
       "  <thead>\n",
       "    <tr style=\"text-align: right;\">\n",
       "      <th></th>\n",
       "      <th>SK_ID_PREV</th>\n",
       "      <th>SK_ID_CURR</th>\n",
       "      <th>MONTHS_BALANCE</th>\n",
       "      <th>CNT_INSTALMENT</th>\n",
       "      <th>CNT_INSTALMENT_FUTURE</th>\n",
       "      <th>NAME_CONTRACT_STATUS</th>\n",
       "      <th>SK_DPD</th>\n",
       "      <th>pos_cash_paid_late_with_tolerance</th>\n",
       "      <th>pos_cash_paid_late</th>\n",
       "      <th>SK_DPD_DEF</th>\n",
       "      <th>TARGET</th>\n",
       "    </tr>\n",
       "  </thead>\n",
       "  <tbody>\n",
       "    <tr>\n",
       "      <th>0</th>\n",
       "      <td>1803195</td>\n",
       "      <td>182943</td>\n",
       "      <td>-31</td>\n",
       "      <td>48.0</td>\n",
       "      <td>45.0</td>\n",
       "      <td>Active</td>\n",
       "      <td>0</td>\n",
       "      <td>0</td>\n",
       "      <td>0</td>\n",
       "      <td>0</td>\n",
       "      <td>0</td>\n",
       "    </tr>\n",
       "    <tr>\n",
       "      <th>1</th>\n",
       "      <td>1803195</td>\n",
       "      <td>182943</td>\n",
       "      <td>-17</td>\n",
       "      <td>48.0</td>\n",
       "      <td>31.0</td>\n",
       "      <td>Active</td>\n",
       "      <td>0</td>\n",
       "      <td>0</td>\n",
       "      <td>0</td>\n",
       "      <td>0</td>\n",
       "      <td>0</td>\n",
       "    </tr>\n",
       "    <tr>\n",
       "      <th>2</th>\n",
       "      <td>1803195</td>\n",
       "      <td>182943</td>\n",
       "      <td>-21</td>\n",
       "      <td>48.0</td>\n",
       "      <td>35.0</td>\n",
       "      <td>Active</td>\n",
       "      <td>0</td>\n",
       "      <td>0</td>\n",
       "      <td>0</td>\n",
       "      <td>0</td>\n",
       "      <td>0</td>\n",
       "    </tr>\n",
       "    <tr>\n",
       "      <th>3</th>\n",
       "      <td>1803195</td>\n",
       "      <td>182943</td>\n",
       "      <td>-8</td>\n",
       "      <td>48.0</td>\n",
       "      <td>21.0</td>\n",
       "      <td>Active</td>\n",
       "      <td>0</td>\n",
       "      <td>0</td>\n",
       "      <td>0</td>\n",
       "      <td>0</td>\n",
       "      <td>0</td>\n",
       "    </tr>\n",
       "    <tr>\n",
       "      <th>4</th>\n",
       "      <td>1803195</td>\n",
       "      <td>182943</td>\n",
       "      <td>-4</td>\n",
       "      <td>48.0</td>\n",
       "      <td>17.0</td>\n",
       "      <td>Active</td>\n",
       "      <td>0</td>\n",
       "      <td>0</td>\n",
       "      <td>0</td>\n",
       "      <td>0</td>\n",
       "      <td>0</td>\n",
       "    </tr>\n",
       "  </tbody>\n",
       "</table>\n",
       "</div>"
      ],
      "text/plain": [
       "   SK_ID_PREV  SK_ID_CURR  MONTHS_BALANCE  CNT_INSTALMENT  \\\n",
       "0     1803195      182943             -31            48.0   \n",
       "1     1803195      182943             -17            48.0   \n",
       "2     1803195      182943             -21            48.0   \n",
       "3     1803195      182943              -8            48.0   \n",
       "4     1803195      182943              -4            48.0   \n",
       "\n",
       "   CNT_INSTALMENT_FUTURE NAME_CONTRACT_STATUS  SK_DPD  \\\n",
       "0                   45.0               Active       0   \n",
       "1                   31.0               Active       0   \n",
       "2                   35.0               Active       0   \n",
       "3                   21.0               Active       0   \n",
       "4                   17.0               Active       0   \n",
       "\n",
       "   pos_cash_paid_late_with_tolerance  pos_cash_paid_late  SK_DPD_DEF  TARGET  \n",
       "0                                  0                   0           0       0  \n",
       "1                                  0                   0           0       0  \n",
       "2                                  0                   0           0       0  \n",
       "3                                  0                   0           0       0  \n",
       "4                                  0                   0           0       0  "
      ]
     },
     "execution_count": 123,
     "metadata": {},
     "output_type": "execute_result"
    }
   ],
   "source": [
    "cash_train.head()"
   ]
  },
  {
   "cell_type": "markdown",
   "metadata": {},
   "source": [
    "## cleaning skew and -ve values"
   ]
  },
  {
   "cell_type": "code",
   "execution_count": 8,
   "metadata": {},
   "outputs": [],
   "source": [
    "def fix_skew_months(X):\n",
    "    mask = X > 0\n",
    "    X[mask] = np.NaN\n",
    "    return np.log1p(-1*X)\n",
    "\n",
    "def fix_skew(X):\n",
    "    return np.log1p(X)"
   ]
  },
  {
   "cell_type": "code",
   "execution_count": 9,
   "metadata": {},
   "outputs": [
    {
     "ename": "NameError",
     "evalue": "name 'cash_train' is not defined",
     "output_type": "error",
     "traceback": [
      "\u001b[0;31m---------------------------------------------------------------------------\u001b[0m",
      "\u001b[0;31mNameError\u001b[0m                                 Traceback (most recent call last)",
      "\u001b[0;32m<ipython-input-9-60567f1dbac8>\u001b[0m in \u001b[0;36m<module>\u001b[0;34m\u001b[0m\n\u001b[0;32m----> 1\u001b[0;31m \u001b[0mcash_train\u001b[0m\u001b[0;34m[\u001b[0m\u001b[0;34m'MONTHS_BALANCE'\u001b[0m\u001b[0;34m]\u001b[0m\u001b[0;34m.\u001b[0m\u001b[0mhist\u001b[0m\u001b[0;34m(\u001b[0m\u001b[0;34m)\u001b[0m\u001b[0;34m\u001b[0m\u001b[0;34m\u001b[0m\u001b[0m\n\u001b[0m",
      "\u001b[0;31mNameError\u001b[0m: name 'cash_train' is not defined"
     ]
    }
   ],
   "source": [
    "cash_train['MONTHS_BALANCE'].hist()"
   ]
  },
  {
   "cell_type": "code",
   "execution_count": 126,
   "metadata": {},
   "outputs": [],
   "source": [
    "cash_train['MONTHS_BALANCE'] = fix_skew_months(cash_train['MONTHS_BALANCE'])"
   ]
  },
  {
   "cell_type": "code",
   "execution_count": 127,
   "metadata": {},
   "outputs": [
    {
     "data": {
      "text/plain": [
       "<AxesSubplot:>"
      ]
     },
     "execution_count": 127,
     "metadata": {},
     "output_type": "execute_result"
    },
    {
     "data": {
      "image/png": "[encoded data removed]",
      "text/plain": [
       "<Figure size 432x288 with 1 Axes>"
      ]
     },
     "metadata": {
      "needs_background": "light"
     },
     "output_type": "display_data"
    }
   ],
   "source": [
    "cash_train['MONTHS_BALANCE'].hist()"
   ]
  },
  {
   "cell_type": "code",
   "execution_count": 128,
   "metadata": {},
   "outputs": [
    {
     "data": {
      "text/plain": [
       "<AxesSubplot:>"
      ]
     },
     "execution_count": 128,
     "metadata": {},
     "output_type": "execute_result"
    },
    {
     "data": {
      "image/png": "[encoded data removed]",
      "text/plain": [
       "<Figure size 432x288 with 1 Axes>"
      ]
     },
     "metadata": {
      "needs_background": "light"
     },
     "output_type": "display_data"
    }
   ],
   "source": [
    "cash_train['CNT_INSTALMENT'].hist()"
   ]
  },
  {
   "cell_type": "code",
   "execution_count": 129,
   "metadata": {},
   "outputs": [],
   "source": [
    "cash_train['CNT_INSTALMENT'] = fix_skew(cash_train['CNT_INSTALMENT'])"
   ]
  },
  {
   "cell_type": "code",
   "execution_count": 130,
   "metadata": {},
   "outputs": [
    {
     "data": {
      "text/plain": [
       "<AxesSubplot:>"
      ]
     },
     "execution_count": 130,
     "metadata": {},
     "output_type": "execute_result"
    },
    {
     "data": {
      "image/png": "[encoded data removed]",
      "text/plain": [
       "<Figure size 432x288 with 1 Axes>"
      ]
     },
     "metadata": {
      "needs_background": "light"
     },
     "output_type": "display_data"
    }
   ],
   "source": [
    "cash_train['CNT_INSTALMENT'].hist()"
   ]
  },
  {
   "cell_type": "code",
   "execution_count": 131,
   "metadata": {},
   "outputs": [
    {
     "data": {
      "text/plain": [
       "<AxesSubplot:>"
      ]
     },
     "execution_count": 131,
     "metadata": {},
     "output_type": "execute_result"
    },
    {
     "data": {
      "image/png": "[encoded data removed]",
      "text/plain": [
       "<Figure size 432x288 with 1 Axes>"
      ]
     },
     "metadata": {
      "needs_background": "light"
     },
     "output_type": "display_data"
    }
   ],
   "source": [
    "cash_train['CNT_INSTALMENT_FUTURE'].hist()"
   ]
  },
  {
   "cell_type": "code",
   "execution_count": 132,
   "metadata": {},
   "outputs": [],
   "source": [
    "cash_train['CNT_INSTALMENT_FUTURE'] = fix_skew(cash_train['CNT_INSTALMENT_FUTURE'])"
   ]
  },
  {
   "cell_type": "code",
   "execution_count": 133,
   "metadata": {},
   "outputs": [
    {
     "data": {
      "text/plain": [
       "<AxesSubplot:>"
      ]
     },
     "execution_count": 133,
     "metadata": {},
     "output_type": "execute_result"
    },
    {
     "data": {
      "image/png": "[encoded data removed]",
      "text/plain": [
       "<Figure size 432x288 with 1 Axes>"
      ]
     },
     "metadata": {
      "needs_background": "light"
     },
     "output_type": "display_data"
    }
   ],
   "source": [
    "cash_train['CNT_INSTALMENT_FUTURE'].hist()"
   ]
  },
  {
   "cell_type": "markdown",
   "metadata": {},
   "source": [
    "# Installment dataset"
   ]
  },
  {
   "cell_type": "code",
   "execution_count": 112,
   "metadata": {},
   "outputs": [
    {
     "data": {
      "text/html": [
       "<div>\n",
       "<style scoped>\n",
       "    .dataframe tbody tr th:only-of-type {\n",
       "        vertical-align: middle;\n",
       "    }\n",
       "\n",
       "    .dataframe tbody tr th {\n",
       "        vertical-align: top;\n",
       "    }\n",
       "\n",
       "    .dataframe thead th {\n",
       "        text-align: right;\n",
       "    }\n",
       "</style>\n",
       "<table border=\"1\" class=\"dataframe\">\n",
       "  <thead>\n",
       "    <tr style=\"text-align: right;\">\n",
       "      <th></th>\n",
       "      <th>SK_ID_PREV</th>\n",
       "      <th>SK_ID_CURR</th>\n",
       "      <th>NUM_INSTALMENT_VERSION</th>\n",
       "      <th>NUM_INSTALMENT_NUMBER</th>\n",
       "      <th>DAYS_INSTALMENT</th>\n",
       "      <th>DAYS_ENTRY_PAYMENT</th>\n",
       "      <th>AMT_INSTALMENT</th>\n",
       "      <th>AMT_PAYMENT</th>\n",
       "    </tr>\n",
       "  </thead>\n",
       "  <tbody>\n",
       "    <tr>\n",
       "      <th>0</th>\n",
       "      <td>1054186</td>\n",
       "      <td>161674</td>\n",
       "      <td>1.0</td>\n",
       "      <td>6</td>\n",
       "      <td>-1180.0</td>\n",
       "      <td>-1187.0</td>\n",
       "      <td>6948.360</td>\n",
       "      <td>6948.360</td>\n",
       "    </tr>\n",
       "    <tr>\n",
       "      <th>1</th>\n",
       "      <td>1330831</td>\n",
       "      <td>151639</td>\n",
       "      <td>0.0</td>\n",
       "      <td>34</td>\n",
       "      <td>-2156.0</td>\n",
       "      <td>-2156.0</td>\n",
       "      <td>1716.525</td>\n",
       "      <td>1716.525</td>\n",
       "    </tr>\n",
       "    <tr>\n",
       "      <th>2</th>\n",
       "      <td>2085231</td>\n",
       "      <td>193053</td>\n",
       "      <td>2.0</td>\n",
       "      <td>1</td>\n",
       "      <td>-63.0</td>\n",
       "      <td>-63.0</td>\n",
       "      <td>25425.000</td>\n",
       "      <td>25425.000</td>\n",
       "    </tr>\n",
       "    <tr>\n",
       "      <th>3</th>\n",
       "      <td>2452527</td>\n",
       "      <td>199697</td>\n",
       "      <td>1.0</td>\n",
       "      <td>3</td>\n",
       "      <td>-2418.0</td>\n",
       "      <td>-2426.0</td>\n",
       "      <td>24350.130</td>\n",
       "      <td>24350.130</td>\n",
       "    </tr>\n",
       "    <tr>\n",
       "      <th>4</th>\n",
       "      <td>2714724</td>\n",
       "      <td>167756</td>\n",
       "      <td>1.0</td>\n",
       "      <td>2</td>\n",
       "      <td>-1383.0</td>\n",
       "      <td>-1366.0</td>\n",
       "      <td>2165.040</td>\n",
       "      <td>2160.585</td>\n",
       "    </tr>\n",
       "  </tbody>\n",
       "</table>\n",
       "</div>"
      ],
      "text/plain": [
       "   SK_ID_PREV  SK_ID_CURR  NUM_INSTALMENT_VERSION  NUM_INSTALMENT_NUMBER  \\\n",
       "0     1054186      161674                     1.0                      6   \n",
       "1     1330831      151639                     0.0                     34   \n",
       "2     2085231      193053                     2.0                      1   \n",
       "3     2452527      199697                     1.0                      3   \n",
       "4     2714724      167756                     1.0                      2   \n",
       "\n",
       "   DAYS_INSTALMENT  DAYS_ENTRY_PAYMENT  AMT_INSTALMENT  AMT_PAYMENT  \n",
       "0          -1180.0             -1187.0        6948.360     6948.360  \n",
       "1          -2156.0             -2156.0        1716.525     1716.525  \n",
       "2            -63.0               -63.0       25425.000    25425.000  \n",
       "3          -2418.0             -2426.0       24350.130    24350.130  \n",
       "4          -1383.0             -1366.0        2165.040     2160.585  "
      ]
     },
     "execution_count": 112,
     "metadata": {},
     "output_type": "execute_result"
    }
   ],
   "source": [
    "install = pd.read_csv(\"home-credit-default-risk/installments_payments.csv\")\n",
    "install.head()"
   ]
  },
  {
   "cell_type": "code",
   "execution_count": 134,
   "metadata": {},
   "outputs": [
    {
     "data": {
      "text/plain": [
       "SK_ID_PREV                997752\n",
       "SK_ID_CURR                339587\n",
       "NUM_INSTALMENT_VERSION        65\n",
       "NUM_INSTALMENT_NUMBER        277\n",
       "DAYS_INSTALMENT             2922\n",
       "DAYS_ENTRY_PAYMENT          3039\n",
       "AMT_INSTALMENT            902539\n",
       "AMT_PAYMENT               944235\n",
       "dtype: int64"
      ]
     },
     "execution_count": 134,
     "metadata": {},
     "output_type": "execute_result"
    }
   ],
   "source": [
    "install.nunique()"
   ]
  },
  {
   "cell_type": "code",
   "execution_count": 135,
   "metadata": {},
   "outputs": [
    {
     "name": "stdout",
     "output_type": "stream",
     "text": [
      "<class 'pandas.core.frame.DataFrame'>\n",
      "RangeIndex: 13605401 entries, 0 to 13605400\n",
      "Data columns (total 8 columns):\n",
      " #   Column                  Dtype  \n",
      "---  ------                  -----  \n",
      " 0   SK_ID_PREV              int64  \n",
      " 1   SK_ID_CURR              int64  \n",
      " 2   NUM_INSTALMENT_VERSION  float64\n",
      " 3   NUM_INSTALMENT_NUMBER   int64  \n",
      " 4   DAYS_INSTALMENT         float64\n",
      " 5   DAYS_ENTRY_PAYMENT      float64\n",
      " 6   AMT_INSTALMENT          float64\n",
      " 7   AMT_PAYMENT             float64\n",
      "dtypes: float64(5), int64(3)\n",
      "memory usage: 830.4 MB\n"
     ]
    }
   ],
   "source": [
    "install.info()"
   ]
  },
  {
   "cell_type": "markdown",
   "metadata": {},
   "source": [
    "## missing values"
   ]
  },
  {
   "cell_type": "code",
   "execution_count": 137,
   "metadata": {},
   "outputs": [
    {
     "data": {
      "text/html": [
       "<div>\n",
       "<style scoped>\n",
       "    .dataframe tbody tr th:only-of-type {\n",
       "        vertical-align: middle;\n",
       "    }\n",
       "\n",
       "    .dataframe tbody tr th {\n",
       "        vertical-align: top;\n",
       "    }\n",
       "\n",
       "    .dataframe thead th {\n",
       "        text-align: right;\n",
       "    }\n",
       "</style>\n",
       "<table border=\"1\" class=\"dataframe\">\n",
       "  <thead>\n",
       "    <tr style=\"text-align: right;\">\n",
       "      <th></th>\n",
       "      <th>Percent</th>\n",
       "      <th>installment Missing Count</th>\n",
       "    </tr>\n",
       "  </thead>\n",
       "  <tbody>\n",
       "    <tr>\n",
       "      <th>DAYS_ENTRY_PAYMENT</th>\n",
       "      <td>0.02</td>\n",
       "      <td>2905</td>\n",
       "    </tr>\n",
       "    <tr>\n",
       "      <th>AMT_PAYMENT</th>\n",
       "      <td>0.02</td>\n",
       "      <td>2905</td>\n",
       "    </tr>\n",
       "    <tr>\n",
       "      <th>SK_ID_PREV</th>\n",
       "      <td>0.00</td>\n",
       "      <td>0</td>\n",
       "    </tr>\n",
       "    <tr>\n",
       "      <th>SK_ID_CURR</th>\n",
       "      <td>0.00</td>\n",
       "      <td>0</td>\n",
       "    </tr>\n",
       "    <tr>\n",
       "      <th>NUM_INSTALMENT_VERSION</th>\n",
       "      <td>0.00</td>\n",
       "      <td>0</td>\n",
       "    </tr>\n",
       "    <tr>\n",
       "      <th>NUM_INSTALMENT_NUMBER</th>\n",
       "      <td>0.00</td>\n",
       "      <td>0</td>\n",
       "    </tr>\n",
       "    <tr>\n",
       "      <th>DAYS_INSTALMENT</th>\n",
       "      <td>0.00</td>\n",
       "      <td>0</td>\n",
       "    </tr>\n",
       "    <tr>\n",
       "      <th>AMT_INSTALMENT</th>\n",
       "      <td>0.00</td>\n",
       "      <td>0</td>\n",
       "    </tr>\n",
       "  </tbody>\n",
       "</table>\n",
       "</div>"
      ],
      "text/plain": [
       "                        Percent  installment Missing Count\n",
       "DAYS_ENTRY_PAYMENT         0.02                       2905\n",
       "AMT_PAYMENT                0.02                       2905\n",
       "SK_ID_PREV                 0.00                          0\n",
       "SK_ID_CURR                 0.00                          0\n",
       "NUM_INSTALMENT_VERSION     0.00                          0\n",
       "NUM_INSTALMENT_NUMBER      0.00                          0\n",
       "DAYS_INSTALMENT            0.00                          0\n",
       "AMT_INSTALMENT             0.00                          0"
      ]
     },
     "execution_count": 137,
     "metadata": {},
     "output_type": "execute_result"
    }
   ],
   "source": [
    "percent = (install.isnull().sum()/install.isnull().count()*100).sort_values(ascending = False).round(2)\n",
    "sum_missing = install.isna().sum().sort_values(ascending = False)\n",
    "missing_installment_data  = pd.concat([percent, sum_missing], axis=1, keys=['Percent', \"installment Missing Count\"])\n",
    "missing_installment_data.head(20)"
   ]
  },
  {
   "cell_type": "code",
   "execution_count": null,
   "metadata": {},
   "outputs": [],
   "source": [
    "# missing values set to zero would imply no payment was done"
   ]
  },
  {
   "cell_type": "code",
   "execution_count": 150,
   "metadata": {},
   "outputs": [
    {
     "data": {
      "text/plain": [
       "True"
      ]
     },
     "execution_count": 150,
     "metadata": {},
     "output_type": "execute_result"
    }
   ],
   "source": [
    "any(install['AMT_INSTALMENT']<install['AMT_PAYMENT'])"
   ]
  },
  {
   "cell_type": "code",
   "execution_count": null,
   "metadata": {},
   "outputs": [],
   "source": [
    "# can installment value be less than paid amount, if not we can't use mean for missing values."
   ]
  },
  {
   "cell_type": "markdown",
   "metadata": {},
   "source": [
    "## feature engg"
   ]
  },
  {
   "cell_type": "code",
   "execution_count": 159,
   "metadata": {},
   "outputs": [],
   "source": [
    "install['installment_payment_diff'] = install['AMT_INSTALMENT'] - install['AMT_PAYMENT']\n",
    "# install['installment_paid_in_full'] = 1 if install['installment_payment_diff']<= 0 else 0\n",
    "install['installment_paid_in_full'] = np.where(install['installment_payment_diff']<= 0, 1, \n",
    "                                               np.where(install['installment_payment_diff']>100.00,0,1))"
   ]
  },
  {
   "cell_type": "code",
   "execution_count": 162,
   "metadata": {},
   "outputs": [],
   "source": [
    "install['installment_days_diff'] = install['DAYS_INSTALMENT'] - install['DAYS_ENTRY_PAYMENT']\n",
    "# install['installment_paid_in_full'] = 1 if install['installment_payment_diff']<= 0 else 0\n",
    "install['installment_paid_in_time'] = np.where(install['installment_days_diff']>= 0, 1, 0)"
   ]
  },
  {
   "cell_type": "code",
   "execution_count": 171,
   "metadata": {},
   "outputs": [],
   "source": [
    "install['install_version'] = (install['NUM_INSTALMENT_VERSION'] > 0).astype(int)"
   ]
  },
  {
   "cell_type": "code",
   "execution_count": 172,
   "metadata": {},
   "outputs": [
    {
     "data": {
      "text/html": [
       "<div>\n",
       "<style scoped>\n",
       "    .dataframe tbody tr th:only-of-type {\n",
       "        vertical-align: middle;\n",
       "    }\n",
       "\n",
       "    .dataframe tbody tr th {\n",
       "        vertical-align: top;\n",
       "    }\n",
       "\n",
       "    .dataframe thead th {\n",
       "        text-align: right;\n",
       "    }\n",
       "</style>\n",
       "<table border=\"1\" class=\"dataframe\">\n",
       "  <thead>\n",
       "    <tr style=\"text-align: right;\">\n",
       "      <th></th>\n",
       "      <th>SK_ID_PREV</th>\n",
       "      <th>SK_ID_CURR</th>\n",
       "      <th>NUM_INSTALMENT_VERSION</th>\n",
       "      <th>NUM_INSTALMENT_NUMBER</th>\n",
       "      <th>DAYS_INSTALMENT</th>\n",
       "      <th>DAYS_ENTRY_PAYMENT</th>\n",
       "      <th>AMT_INSTALMENT</th>\n",
       "      <th>AMT_PAYMENT</th>\n",
       "      <th>installment_payment_diff</th>\n",
       "      <th>installment_paid_in_full</th>\n",
       "      <th>installment_days_diff</th>\n",
       "      <th>installment_paid_in_time</th>\n",
       "      <th>install_version</th>\n",
       "    </tr>\n",
       "  </thead>\n",
       "  <tbody>\n",
       "    <tr>\n",
       "      <th>0</th>\n",
       "      <td>1054186</td>\n",
       "      <td>161674</td>\n",
       "      <td>1.0</td>\n",
       "      <td>6</td>\n",
       "      <td>-1180.0</td>\n",
       "      <td>-1187.0</td>\n",
       "      <td>6948.360</td>\n",
       "      <td>6948.360</td>\n",
       "      <td>0.000</td>\n",
       "      <td>1</td>\n",
       "      <td>7.0</td>\n",
       "      <td>1</td>\n",
       "      <td>1</td>\n",
       "    </tr>\n",
       "    <tr>\n",
       "      <th>1</th>\n",
       "      <td>1330831</td>\n",
       "      <td>151639</td>\n",
       "      <td>0.0</td>\n",
       "      <td>34</td>\n",
       "      <td>-2156.0</td>\n",
       "      <td>-2156.0</td>\n",
       "      <td>1716.525</td>\n",
       "      <td>1716.525</td>\n",
       "      <td>0.000</td>\n",
       "      <td>1</td>\n",
       "      <td>0.0</td>\n",
       "      <td>1</td>\n",
       "      <td>0</td>\n",
       "    </tr>\n",
       "    <tr>\n",
       "      <th>2</th>\n",
       "      <td>2085231</td>\n",
       "      <td>193053</td>\n",
       "      <td>2.0</td>\n",
       "      <td>1</td>\n",
       "      <td>-63.0</td>\n",
       "      <td>-63.0</td>\n",
       "      <td>25425.000</td>\n",
       "      <td>25425.000</td>\n",
       "      <td>0.000</td>\n",
       "      <td>1</td>\n",
       "      <td>0.0</td>\n",
       "      <td>1</td>\n",
       "      <td>1</td>\n",
       "    </tr>\n",
       "    <tr>\n",
       "      <th>3</th>\n",
       "      <td>2452527</td>\n",
       "      <td>199697</td>\n",
       "      <td>1.0</td>\n",
       "      <td>3</td>\n",
       "      <td>-2418.0</td>\n",
       "      <td>-2426.0</td>\n",
       "      <td>24350.130</td>\n",
       "      <td>24350.130</td>\n",
       "      <td>0.000</td>\n",
       "      <td>1</td>\n",
       "      <td>8.0</td>\n",
       "      <td>1</td>\n",
       "      <td>1</td>\n",
       "    </tr>\n",
       "    <tr>\n",
       "      <th>4</th>\n",
       "      <td>2714724</td>\n",
       "      <td>167756</td>\n",
       "      <td>1.0</td>\n",
       "      <td>2</td>\n",
       "      <td>-1383.0</td>\n",
       "      <td>-1366.0</td>\n",
       "      <td>2165.040</td>\n",
       "      <td>2160.585</td>\n",
       "      <td>4.455</td>\n",
       "      <td>1</td>\n",
       "      <td>-17.0</td>\n",
       "      <td>0</td>\n",
       "      <td>1</td>\n",
       "    </tr>\n",
       "  </tbody>\n",
       "</table>\n",
       "</div>"
      ],
      "text/plain": [
       "   SK_ID_PREV  SK_ID_CURR  NUM_INSTALMENT_VERSION  NUM_INSTALMENT_NUMBER  \\\n",
       "0     1054186      161674                     1.0                      6   \n",
       "1     1330831      151639                     0.0                     34   \n",
       "2     2085231      193053                     2.0                      1   \n",
       "3     2452527      199697                     1.0                      3   \n",
       "4     2714724      167756                     1.0                      2   \n",
       "\n",
       "   DAYS_INSTALMENT  DAYS_ENTRY_PAYMENT  AMT_INSTALMENT  AMT_PAYMENT  \\\n",
       "0          -1180.0             -1187.0        6948.360     6948.360   \n",
       "1          -2156.0             -2156.0        1716.525     1716.525   \n",
       "2            -63.0               -63.0       25425.000    25425.000   \n",
       "3          -2418.0             -2426.0       24350.130    24350.130   \n",
       "4          -1383.0             -1366.0        2165.040     2160.585   \n",
       "\n",
       "   installment_payment_diff  installment_paid_in_full  installment_days_diff  \\\n",
       "0                     0.000                         1                    7.0   \n",
       "1                     0.000                         1                    0.0   \n",
       "2                     0.000                         1                    0.0   \n",
       "3                     0.000                         1                    8.0   \n",
       "4                     4.455                         1                  -17.0   \n",
       "\n",
       "   installment_paid_in_time  install_version  \n",
       "0                         1                1  \n",
       "1                         1                0  \n",
       "2                         1                1  \n",
       "3                         1                1  \n",
       "4                         0                1  "
      ]
     },
     "execution_count": 172,
     "metadata": {},
     "output_type": "execute_result"
    }
   ],
   "source": [
    "install.head()"
   ]
  },
  {
   "cell_type": "markdown",
   "metadata": {},
   "source": [
    "## merge train and installments dataset"
   ]
  },
  {
   "cell_type": "code",
   "execution_count": 173,
   "metadata": {},
   "outputs": [],
   "source": [
    "install_train = install.merge(application_train, left_on='SK_ID_CURR', right_on='SK_ID_CURR', how='inner')\n",
    "install_train = install_train.filter(['SK_ID_PREV','SK_ID_CURR','NUM_INSTALMENT_VERSION','NUM_INSTALMENT_NUMBER','DAYS_INSTALMENT',\n",
    "'DAYS_ENTRY_PAYMENT','AMT_INSTALMENT','AMT_PAYMENT','installment_payment_diff',\n",
    "'installment_paid_in_full','installment_days_diff','installment_paid_in_time','install_version','TARGET'], axis=1)"
   ]
  },
  {
   "cell_type": "markdown",
   "metadata": {},
   "source": [
    "## correlation with the target"
   ]
  },
  {
   "cell_type": "code",
   "execution_count": 174,
   "metadata": {},
   "outputs": [
    {
     "data": {
      "text/plain": [
       "SK_ID_PREV                 -0.000212\n",
       "SK_ID_CURR                 -0.002540\n",
       "NUM_INSTALMENT_VERSION     -0.009896\n",
       "NUM_INSTALMENT_NUMBER      -0.016190\n",
       "DAYS_INSTALMENT             0.034974\n",
       "DAYS_ENTRY_PAYMENT          0.035122\n",
       "AMT_INSTALMENT             -0.001498\n",
       "AMT_PAYMENT                -0.003623\n",
       "installment_payment_diff    0.006376\n",
       "installment_paid_in_full   -0.026469\n",
       "installment_days_diff      -0.008012\n",
       "installment_paid_in_time   -0.025400\n",
       "install_version            -0.006467\n",
       "TARGET                      1.000000\n",
       "Name: TARGET, dtype: float64"
      ]
     },
     "metadata": {},
     "output_type": "display_data"
    }
   ],
   "source": [
    "corr_matrix = install_train.corr()\n",
    "display(corr_matrix[\"TARGET\"])"
   ]
  },
  {
   "cell_type": "markdown",
   "metadata": {},
   "source": [
    "## cleaning skew and -ve values"
   ]
  },
  {
   "cell_type": "code",
   "execution_count": 175,
   "metadata": {
    "scrolled": true
   },
   "outputs": [
    {
     "data": {
      "text/plain": [
       "array([[<AxesSubplot:title={'center':'SK_ID_PREV'}>,\n",
       "        <AxesSubplot:title={'center':'SK_ID_CURR'}>,\n",
       "        <AxesSubplot:title={'center':'NUM_INSTALMENT_VERSION'}>,\n",
       "        <AxesSubplot:title={'center':'NUM_INSTALMENT_NUMBER'}>],\n",
       "       [<AxesSubplot:title={'center':'DAYS_INSTALMENT'}>,\n",
       "        <AxesSubplot:title={'center':'DAYS_ENTRY_PAYMENT'}>,\n",
       "        <AxesSubplot:title={'center':'AMT_INSTALMENT'}>,\n",
       "        <AxesSubplot:title={'center':'AMT_PAYMENT'}>],\n",
       "       [<AxesSubplot:title={'center':'installment_payment_diff'}>,\n",
       "        <AxesSubplot:title={'center':'installment_paid_in_full'}>,\n",
       "        <AxesSubplot:title={'center':'installment_days_diff'}>,\n",
       "        <AxesSubplot:title={'center':'installment_paid_in_time'}>],\n",
       "       [<AxesSubplot:title={'center':'install_version'}>, <AxesSubplot:>,\n",
       "        <AxesSubplot:>, <AxesSubplot:>]], dtype=object)"
      ]
     },
     "execution_count": 175,
     "metadata": {},
     "output_type": "execute_result"
    },
    {
     "data": {
      "image/png": "[encoded data removed]",
      "text/plain": [
       "<Figure size 1440x1080 with 16 Axes>"
      ]
     },
     "metadata": {
      "needs_background": "light"
     },
     "output_type": "display_data"
    }
   ],
   "source": [
    "install.hist(figsize=(20,15))"
   ]
  },
  {
   "cell_type": "code",
   "execution_count": null,
   "metadata": {},
   "outputs": [],
   "source": [
    "cash_train['MONTHS_BALANCE'] = fix_skew_months(cash_train['MONTHS_BALANCE'])"
   ]
  },
  {
   "cell_type": "code",
   "execution_count": null,
   "metadata": {},
   "outputs": [],
   "source": []
  },
  {
   "cell_type": "code",
   "execution_count": null,
   "metadata": {},
   "outputs": [],
   "source": []
  },
  {
   "cell_type": "markdown",
   "metadata": {},
   "source": [
    "# Credit dataset"
   ]
  },
  {
   "cell_type": "code",
   "execution_count": 177,
   "metadata": {},
   "outputs": [
    {
     "data": {
      "text/html": [
       "<div>\n",
       "<style scoped>\n",
       "    .dataframe tbody tr th:only-of-type {\n",
       "        vertical-align: middle;\n",
       "    }\n",
       "\n",
       "    .dataframe tbody tr th {\n",
       "        vertical-align: top;\n",
       "    }\n",
       "\n",
       "    .dataframe thead th {\n",
       "        text-align: right;\n",
       "    }\n",
       "</style>\n",
       "<table border=\"1\" class=\"dataframe\">\n",
       "  <thead>\n",
       "    <tr style=\"text-align: right;\">\n",
       "      <th></th>\n",
       "      <th>SK_ID_PREV</th>\n",
       "      <th>SK_ID_CURR</th>\n",
       "      <th>MONTHS_BALANCE</th>\n",
       "      <th>AMT_BALANCE</th>\n",
       "      <th>AMT_CREDIT_LIMIT_ACTUAL</th>\n",
       "      <th>AMT_DRAWINGS_ATM_CURRENT</th>\n",
       "      <th>AMT_DRAWINGS_CURRENT</th>\n",
       "      <th>AMT_DRAWINGS_OTHER_CURRENT</th>\n",
       "      <th>AMT_DRAWINGS_POS_CURRENT</th>\n",
       "      <th>AMT_INST_MIN_REGULARITY</th>\n",
       "      <th>...</th>\n",
       "      <th>AMT_RECIVABLE</th>\n",
       "      <th>AMT_TOTAL_RECEIVABLE</th>\n",
       "      <th>CNT_DRAWINGS_ATM_CURRENT</th>\n",
       "      <th>CNT_DRAWINGS_CURRENT</th>\n",
       "      <th>CNT_DRAWINGS_OTHER_CURRENT</th>\n",
       "      <th>CNT_DRAWINGS_POS_CURRENT</th>\n",
       "      <th>CNT_INSTALMENT_MATURE_CUM</th>\n",
       "      <th>NAME_CONTRACT_STATUS</th>\n",
       "      <th>SK_DPD</th>\n",
       "      <th>SK_DPD_DEF</th>\n",
       "    </tr>\n",
       "  </thead>\n",
       "  <tbody>\n",
       "    <tr>\n",
       "      <th>0</th>\n",
       "      <td>2562384</td>\n",
       "      <td>378907</td>\n",
       "      <td>-6</td>\n",
       "      <td>56.970</td>\n",
       "      <td>135000</td>\n",
       "      <td>0.0</td>\n",
       "      <td>877.5</td>\n",
       "      <td>0.0</td>\n",
       "      <td>877.5</td>\n",
       "      <td>1700.325</td>\n",
       "      <td>...</td>\n",
       "      <td>0.000</td>\n",
       "      <td>0.000</td>\n",
       "      <td>0.0</td>\n",
       "      <td>1</td>\n",
       "      <td>0.0</td>\n",
       "      <td>1.0</td>\n",
       "      <td>35.0</td>\n",
       "      <td>Active</td>\n",
       "      <td>0</td>\n",
       "      <td>0</td>\n",
       "    </tr>\n",
       "    <tr>\n",
       "      <th>1</th>\n",
       "      <td>2582071</td>\n",
       "      <td>363914</td>\n",
       "      <td>-1</td>\n",
       "      <td>63975.555</td>\n",
       "      <td>45000</td>\n",
       "      <td>2250.0</td>\n",
       "      <td>2250.0</td>\n",
       "      <td>0.0</td>\n",
       "      <td>0.0</td>\n",
       "      <td>2250.000</td>\n",
       "      <td>...</td>\n",
       "      <td>64875.555</td>\n",
       "      <td>64875.555</td>\n",
       "      <td>1.0</td>\n",
       "      <td>1</td>\n",
       "      <td>0.0</td>\n",
       "      <td>0.0</td>\n",
       "      <td>69.0</td>\n",
       "      <td>Active</td>\n",
       "      <td>0</td>\n",
       "      <td>0</td>\n",
       "    </tr>\n",
       "    <tr>\n",
       "      <th>2</th>\n",
       "      <td>1740877</td>\n",
       "      <td>371185</td>\n",
       "      <td>-7</td>\n",
       "      <td>31815.225</td>\n",
       "      <td>450000</td>\n",
       "      <td>0.0</td>\n",
       "      <td>0.0</td>\n",
       "      <td>0.0</td>\n",
       "      <td>0.0</td>\n",
       "      <td>2250.000</td>\n",
       "      <td>...</td>\n",
       "      <td>31460.085</td>\n",
       "      <td>31460.085</td>\n",
       "      <td>0.0</td>\n",
       "      <td>0</td>\n",
       "      <td>0.0</td>\n",
       "      <td>0.0</td>\n",
       "      <td>30.0</td>\n",
       "      <td>Active</td>\n",
       "      <td>0</td>\n",
       "      <td>0</td>\n",
       "    </tr>\n",
       "    <tr>\n",
       "      <th>3</th>\n",
       "      <td>1389973</td>\n",
       "      <td>337855</td>\n",
       "      <td>-4</td>\n",
       "      <td>236572.110</td>\n",
       "      <td>225000</td>\n",
       "      <td>2250.0</td>\n",
       "      <td>2250.0</td>\n",
       "      <td>0.0</td>\n",
       "      <td>0.0</td>\n",
       "      <td>11795.760</td>\n",
       "      <td>...</td>\n",
       "      <td>233048.970</td>\n",
       "      <td>233048.970</td>\n",
       "      <td>1.0</td>\n",
       "      <td>1</td>\n",
       "      <td>0.0</td>\n",
       "      <td>0.0</td>\n",
       "      <td>10.0</td>\n",
       "      <td>Active</td>\n",
       "      <td>0</td>\n",
       "      <td>0</td>\n",
       "    </tr>\n",
       "    <tr>\n",
       "      <th>4</th>\n",
       "      <td>1891521</td>\n",
       "      <td>126868</td>\n",
       "      <td>-1</td>\n",
       "      <td>453919.455</td>\n",
       "      <td>450000</td>\n",
       "      <td>0.0</td>\n",
       "      <td>11547.0</td>\n",
       "      <td>0.0</td>\n",
       "      <td>11547.0</td>\n",
       "      <td>22924.890</td>\n",
       "      <td>...</td>\n",
       "      <td>453919.455</td>\n",
       "      <td>453919.455</td>\n",
       "      <td>0.0</td>\n",
       "      <td>1</td>\n",
       "      <td>0.0</td>\n",
       "      <td>1.0</td>\n",
       "      <td>101.0</td>\n",
       "      <td>Active</td>\n",
       "      <td>0</td>\n",
       "      <td>0</td>\n",
       "    </tr>\n",
       "  </tbody>\n",
       "</table>\n",
       "<p>5 rows × 23 columns</p>\n",
       "</div>"
      ],
      "text/plain": [
       "   SK_ID_PREV  SK_ID_CURR  MONTHS_BALANCE  AMT_BALANCE  \\\n",
       "0     2562384      378907              -6       56.970   \n",
       "1     2582071      363914              -1    63975.555   \n",
       "2     1740877      371185              -7    31815.225   \n",
       "3     1389973      337855              -4   236572.110   \n",
       "4     1891521      126868              -1   453919.455   \n",
       "\n",
       "   AMT_CREDIT_LIMIT_ACTUAL  AMT_DRAWINGS_ATM_CURRENT  AMT_DRAWINGS_CURRENT  \\\n",
       "0                   135000                       0.0                 877.5   \n",
       "1                    45000                    2250.0                2250.0   \n",
       "2                   450000                       0.0                   0.0   \n",
       "3                   225000                    2250.0                2250.0   \n",
       "4                   450000                       0.0               11547.0   \n",
       "\n",
       "   AMT_DRAWINGS_OTHER_CURRENT  AMT_DRAWINGS_POS_CURRENT  \\\n",
       "0                         0.0                     877.5   \n",
       "1                         0.0                       0.0   \n",
       "2                         0.0                       0.0   \n",
       "3                         0.0                       0.0   \n",
       "4                         0.0                   11547.0   \n",
       "\n",
       "   AMT_INST_MIN_REGULARITY  ...  AMT_RECIVABLE  AMT_TOTAL_RECEIVABLE  \\\n",
       "0                 1700.325  ...          0.000                 0.000   \n",
       "1                 2250.000  ...      64875.555             64875.555   \n",
       "2                 2250.000  ...      31460.085             31460.085   \n",
       "3                11795.760  ...     233048.970            233048.970   \n",
       "4                22924.890  ...     453919.455            453919.455   \n",
       "\n",
       "   CNT_DRAWINGS_ATM_CURRENT  CNT_DRAWINGS_CURRENT  CNT_DRAWINGS_OTHER_CURRENT  \\\n",
       "0                       0.0                     1                         0.0   \n",
       "1                       1.0                     1                         0.0   \n",
       "2                       0.0                     0                         0.0   \n",
       "3                       1.0                     1                         0.0   \n",
       "4                       0.0                     1                         0.0   \n",
       "\n",
       "   CNT_DRAWINGS_POS_CURRENT  CNT_INSTALMENT_MATURE_CUM  NAME_CONTRACT_STATUS  \\\n",
       "0                       1.0                       35.0                Active   \n",
       "1                       0.0                       69.0                Active   \n",
       "2                       0.0                       30.0                Active   \n",
       "3                       0.0                       10.0                Active   \n",
       "4                       1.0                      101.0                Active   \n",
       "\n",
       "   SK_DPD  SK_DPD_DEF  \n",
       "0       0           0  \n",
       "1       0           0  \n",
       "2       0           0  \n",
       "3       0           0  \n",
       "4       0           0  \n",
       "\n",
       "[5 rows x 23 columns]"
      ]
     },
     "execution_count": 177,
     "metadata": {},
     "output_type": "execute_result"
    }
   ],
   "source": [
    "credit = pd.read_csv(\"home-credit-default-risk/credit_card_balance.csv\")\n",
    "credit.head()"
   ]
  },
  {
   "cell_type": "code",
   "execution_count": 181,
   "metadata": {},
   "outputs": [
    {
     "name": "stdout",
     "output_type": "stream",
     "text": [
      "<class 'pandas.core.frame.DataFrame'>\n",
      "RangeIndex: 3840312 entries, 0 to 3840311\n",
      "Data columns (total 23 columns):\n",
      " #   Column                      Dtype  \n",
      "---  ------                      -----  \n",
      " 0   SK_ID_PREV                  int64  \n",
      " 1   SK_ID_CURR                  int64  \n",
      " 2   MONTHS_BALANCE              int64  \n",
      " 3   AMT_BALANCE                 float64\n",
      " 4   AMT_CREDIT_LIMIT_ACTUAL     int64  \n",
      " 5   AMT_DRAWINGS_ATM_CURRENT    float64\n",
      " 6   AMT_DRAWINGS_CURRENT        float64\n",
      " 7   AMT_DRAWINGS_OTHER_CURRENT  float64\n",
      " 8   AMT_DRAWINGS_POS_CURRENT    float64\n",
      " 9   AMT_INST_MIN_REGULARITY     float64\n",
      " 10  AMT_PAYMENT_CURRENT         float64\n",
      " 11  AMT_PAYMENT_TOTAL_CURRENT   float64\n",
      " 12  AMT_RECEIVABLE_PRINCIPAL    float64\n",
      " 13  AMT_RECIVABLE               float64\n",
      " 14  AMT_TOTAL_RECEIVABLE        float64\n",
      " 15  CNT_DRAWINGS_ATM_CURRENT    float64\n",
      " 16  CNT_DRAWINGS_CURRENT        int64  \n",
      " 17  CNT_DRAWINGS_OTHER_CURRENT  float64\n",
      " 18  CNT_DRAWINGS_POS_CURRENT    float64\n",
      " 19  CNT_INSTALMENT_MATURE_CUM   float64\n",
      " 20  NAME_CONTRACT_STATUS        object \n",
      " 21  SK_DPD                      int64  \n",
      " 22  SK_DPD_DEF                  int64  \n",
      "dtypes: float64(15), int64(7), object(1)\n",
      "memory usage: 673.9+ MB\n"
     ]
    }
   ],
   "source": [
    "credit.info()"
   ]
  },
  {
   "cell_type": "code",
   "execution_count": 178,
   "metadata": {},
   "outputs": [
    {
     "data": {
      "text/html": [
       "<div>\n",
       "<style scoped>\n",
       "    .dataframe tbody tr th:only-of-type {\n",
       "        vertical-align: middle;\n",
       "    }\n",
       "\n",
       "    .dataframe tbody tr th {\n",
       "        vertical-align: top;\n",
       "    }\n",
       "\n",
       "    .dataframe thead th {\n",
       "        text-align: right;\n",
       "    }\n",
       "</style>\n",
       "<table border=\"1\" class=\"dataframe\">\n",
       "  <thead>\n",
       "    <tr style=\"text-align: right;\">\n",
       "      <th></th>\n",
       "      <th>Percent</th>\n",
       "      <th>credit Missing Count</th>\n",
       "    </tr>\n",
       "  </thead>\n",
       "  <tbody>\n",
       "    <tr>\n",
       "      <th>AMT_PAYMENT_CURRENT</th>\n",
       "      <td>20.00</td>\n",
       "      <td>767988</td>\n",
       "    </tr>\n",
       "    <tr>\n",
       "      <th>AMT_DRAWINGS_ATM_CURRENT</th>\n",
       "      <td>19.52</td>\n",
       "      <td>749816</td>\n",
       "    </tr>\n",
       "    <tr>\n",
       "      <th>CNT_DRAWINGS_POS_CURRENT</th>\n",
       "      <td>19.52</td>\n",
       "      <td>749816</td>\n",
       "    </tr>\n",
       "    <tr>\n",
       "      <th>AMT_DRAWINGS_OTHER_CURRENT</th>\n",
       "      <td>19.52</td>\n",
       "      <td>749816</td>\n",
       "    </tr>\n",
       "    <tr>\n",
       "      <th>AMT_DRAWINGS_POS_CURRENT</th>\n",
       "      <td>19.52</td>\n",
       "      <td>749816</td>\n",
       "    </tr>\n",
       "    <tr>\n",
       "      <th>CNT_DRAWINGS_OTHER_CURRENT</th>\n",
       "      <td>19.52</td>\n",
       "      <td>749816</td>\n",
       "    </tr>\n",
       "    <tr>\n",
       "      <th>CNT_DRAWINGS_ATM_CURRENT</th>\n",
       "      <td>19.52</td>\n",
       "      <td>749816</td>\n",
       "    </tr>\n",
       "    <tr>\n",
       "      <th>CNT_INSTALMENT_MATURE_CUM</th>\n",
       "      <td>7.95</td>\n",
       "      <td>305236</td>\n",
       "    </tr>\n",
       "    <tr>\n",
       "      <th>AMT_INST_MIN_REGULARITY</th>\n",
       "      <td>7.95</td>\n",
       "      <td>305236</td>\n",
       "    </tr>\n",
       "    <tr>\n",
       "      <th>SK_ID_PREV</th>\n",
       "      <td>0.00</td>\n",
       "      <td>0</td>\n",
       "    </tr>\n",
       "    <tr>\n",
       "      <th>AMT_TOTAL_RECEIVABLE</th>\n",
       "      <td>0.00</td>\n",
       "      <td>0</td>\n",
       "    </tr>\n",
       "    <tr>\n",
       "      <th>SK_DPD</th>\n",
       "      <td>0.00</td>\n",
       "      <td>0</td>\n",
       "    </tr>\n",
       "    <tr>\n",
       "      <th>NAME_CONTRACT_STATUS</th>\n",
       "      <td>0.00</td>\n",
       "      <td>0</td>\n",
       "    </tr>\n",
       "    <tr>\n",
       "      <th>CNT_DRAWINGS_CURRENT</th>\n",
       "      <td>0.00</td>\n",
       "      <td>0</td>\n",
       "    </tr>\n",
       "    <tr>\n",
       "      <th>AMT_PAYMENT_TOTAL_CURRENT</th>\n",
       "      <td>0.00</td>\n",
       "      <td>0</td>\n",
       "    </tr>\n",
       "    <tr>\n",
       "      <th>AMT_RECIVABLE</th>\n",
       "      <td>0.00</td>\n",
       "      <td>0</td>\n",
       "    </tr>\n",
       "    <tr>\n",
       "      <th>AMT_RECEIVABLE_PRINCIPAL</th>\n",
       "      <td>0.00</td>\n",
       "      <td>0</td>\n",
       "    </tr>\n",
       "    <tr>\n",
       "      <th>SK_ID_CURR</th>\n",
       "      <td>0.00</td>\n",
       "      <td>0</td>\n",
       "    </tr>\n",
       "    <tr>\n",
       "      <th>AMT_DRAWINGS_CURRENT</th>\n",
       "      <td>0.00</td>\n",
       "      <td>0</td>\n",
       "    </tr>\n",
       "    <tr>\n",
       "      <th>AMT_CREDIT_LIMIT_ACTUAL</th>\n",
       "      <td>0.00</td>\n",
       "      <td>0</td>\n",
       "    </tr>\n",
       "  </tbody>\n",
       "</table>\n",
       "</div>"
      ],
      "text/plain": [
       "                            Percent  credit Missing Count\n",
       "AMT_PAYMENT_CURRENT           20.00                767988\n",
       "AMT_DRAWINGS_ATM_CURRENT      19.52                749816\n",
       "CNT_DRAWINGS_POS_CURRENT      19.52                749816\n",
       "AMT_DRAWINGS_OTHER_CURRENT    19.52                749816\n",
       "AMT_DRAWINGS_POS_CURRENT      19.52                749816\n",
       "CNT_DRAWINGS_OTHER_CURRENT    19.52                749816\n",
       "CNT_DRAWINGS_ATM_CURRENT      19.52                749816\n",
       "CNT_INSTALMENT_MATURE_CUM      7.95                305236\n",
       "AMT_INST_MIN_REGULARITY        7.95                305236\n",
       "SK_ID_PREV                     0.00                     0\n",
       "AMT_TOTAL_RECEIVABLE           0.00                     0\n",
       "SK_DPD                         0.00                     0\n",
       "NAME_CONTRACT_STATUS           0.00                     0\n",
       "CNT_DRAWINGS_CURRENT           0.00                     0\n",
       "AMT_PAYMENT_TOTAL_CURRENT      0.00                     0\n",
       "AMT_RECIVABLE                  0.00                     0\n",
       "AMT_RECEIVABLE_PRINCIPAL       0.00                     0\n",
       "SK_ID_CURR                     0.00                     0\n",
       "AMT_DRAWINGS_CURRENT           0.00                     0\n",
       "AMT_CREDIT_LIMIT_ACTUAL        0.00                     0"
      ]
     },
     "execution_count": 178,
     "metadata": {},
     "output_type": "execute_result"
    }
   ],
   "source": [
    "percent = (credit.isnull().sum()/credit.isnull().count()*100).sort_values(ascending = False).round(2)\n",
    "sum_missing = credit.isna().sum().sort_values(ascending = False)\n",
    "missing_credit_data  = pd.concat([percent, sum_missing], axis=1, keys=['Percent', \"credit Missing Count\"])\n",
    "missing_credit_data.head(20)"
   ]
  },
  {
   "cell_type": "code",
   "execution_count": 188,
   "metadata": {},
   "outputs": [],
   "source": [
    "credit_train = credit.merge(application_train, left_on='SK_ID_CURR', right_on='SK_ID_CURR', how='inner')\n",
    "credit_train = credit_train.filter(['AMT_PAYMENT_CURRENT','AMT_DRAWINGS_ATM_CURRENT','CNT_DRAWINGS_POS_CURRENT','AMT_DRAWINGS_OTHER_CURRENT',\n",
    "'AMT_DRAWINGS_POS_CURRENT','CNT_DRAWINGS_OTHER_CURRENT','CNT_DRAWINGS_ATM_CURRENT','CNT_INSTALMENT_MATURE_CUM',\n",
    "'AMT_INST_MIN_REGULARITY','SK_ID_PREV','AMT_TOTAL_RECEIVABLE','SK_DPD','NAME_CONTRACT_STATUS',\n",
    "'CNT_DRAWINGS_CURRENT','AMT_PAYMENT_TOTAL_CURRENT0','AMT_RECIVABLE','AMT_RECEIVABLE_PRINCIPAL','SK_ID_CURR',\n",
    "'AMT_DRAWINGS_CURRENT','AMT_CREDIT_LIMIT_ACTUAL','TARGET'], axis=1)"
   ]
  },
  {
   "cell_type": "code",
   "execution_count": 189,
   "metadata": {},
   "outputs": [
    {
     "data": {
      "text/plain": [
       "(3227965, 20)"
      ]
     },
     "execution_count": 189,
     "metadata": {},
     "output_type": "execute_result"
    }
   ],
   "source": [
    "credit_train.shape"
   ]
  },
  {
   "cell_type": "code",
   "execution_count": 190,
   "metadata": {},
   "outputs": [
    {
     "data": {
      "text/plain": [
       "AMT_PAYMENT_CURRENT           0.012929\n",
       "AMT_DRAWINGS_ATM_CURRENT      0.024700\n",
       "CNT_DRAWINGS_POS_CURRENT      0.029536\n",
       "AMT_DRAWINGS_OTHER_CURRENT    0.003843\n",
       "AMT_DRAWINGS_POS_CURRENT      0.005084\n",
       "CNT_DRAWINGS_OTHER_CURRENT    0.003044\n",
       "CNT_DRAWINGS_ATM_CURRENT      0.038437\n",
       "CNT_INSTALMENT_MATURE_CUM    -0.023684\n",
       "AMT_INST_MIN_REGULARITY       0.039798\n",
       "SK_ID_PREV                    0.002571\n",
       "AMT_TOTAL_RECEIVABLE          0.049839\n",
       "SK_DPD                        0.001684\n",
       "CNT_DRAWINGS_CURRENT          0.037793\n",
       "AMT_RECIVABLE                 0.049803\n",
       "AMT_RECEIVABLE_PRINCIPAL      0.049692\n",
       "SK_ID_CURR                   -0.004617\n",
       "AMT_DRAWINGS_CURRENT          0.022378\n",
       "AMT_CREDIT_LIMIT_ACTUAL       0.013823\n",
       "TARGET                        1.000000\n",
       "Name: TARGET, dtype: float64"
      ]
     },
     "metadata": {},
     "output_type": "display_data"
    }
   ],
   "source": [
    "corr_matrix = credit_train.corr()\n",
    "display(corr_matrix[\"TARGET\"])"
   ]
  },
  {
   "cell_type": "markdown",
   "metadata": {},
   "source": [
    "# AGGREGATIONS"
   ]
  },
  {
   "cell_type": "markdown",
   "metadata": {},
   "source": [
    "## cash transform"
   ]
  },
  {
   "cell_type": "code",
   "execution_count": null,
   "metadata": {},
   "outputs": [],
   "source": [
    "cash = pd.read_csv(\"home-credit-default-risk/POS_CASH_balance.csv\")"
   ]
  },
  {
   "cell_type": "code",
   "execution_count": 11,
   "metadata": {},
   "outputs": [],
   "source": [
    "# cash.hist(figsize=(20,15))"
   ]
  },
  {
   "cell_type": "code",
   "execution_count": 13,
   "metadata": {},
   "outputs": [],
   "source": [
    "def cash_transform(cash,inplace=False):\n",
    "    \n",
    "    cash['pos_cash_paid_late'] = (cash['SK_DPD'] > 0).astype(int)\n",
    "    cash['pos_cash_paid_late_with_tolerance'] = (cash['SK_DPD_DEF'] > 0).astype(int)\n",
    "    \n",
    "    def fix_skew_months(X):\n",
    "        mask = X > 0\n",
    "        X[mask] = np.NaN\n",
    "        X = np.log(1+np.max(X)-X)\n",
    "        return -X\n",
    "\n",
    "    cash['MONTHS_BALANCE'] = fix_skew_months(cash['MONTHS_BALANCE'])\n",
    "    cash['CNT_INSTALMENT'] = np.log1p(cash['CNT_INSTALMENT'])\n",
    "    cash['CNT_INSTALMENT_FUTURE'] = np.log1p(cash['CNT_INSTALMENT_FUTURE'])\n",
    "    \n",
    "    return cash\n"
   ]
  },
  {
   "cell_type": "markdown",
   "metadata": {},
   "source": [
    "## agg-cash"
   ]
  },
  {
   "cell_type": "code",
   "execution_count": 16,
   "metadata": {},
   "outputs": [],
   "source": [
    "def cashAppsFeaturesAggregater(df, inplace=False):\n",
    "    # pure state-less transformations \n",
    "    if inplace:\n",
    "        df_new = df\n",
    "    else:\n",
    "        df_new = df.copy()\n",
    "        \n",
    "    aggr_df = pd.DataFrame({'SK_ID_CURR': df_new['SK_ID_CURR'].unique()}) \n",
    "    \n",
    "    agg_dict = {\n",
    "        'MONTHS_BALANCE': [\"min\", \"max\", \"mean\", \"sum\", \"var\"],\n",
    "        'CNT_INSTALMENT': [\"min\", \"max\", \"mean\", \"sum\", \"var\"],\n",
    "        'CNT_INSTALMENT_FUTURE': [\"min\", \"max\", \"mean\", \"sum\", \"var\"],\n",
    "        'SK_DPD':[\"min\", \"max\", \"mean\", \"sum\", \"var\"],\n",
    "        'SK_DPD_DEF':[\"min\", \"max\", \"mean\", \"sum\", \"var\"],\n",
    "        'pos_cash_paid_late':[\"mean\"],\n",
    "        'pos_cash_paid_late_with_tolerance':[\"mean\"]\n",
    "        }\n",
    "    \n",
    "    X = df_new.groupby([\"SK_ID_CURR\"], as_index=False).agg(agg_dict)\n",
    "    X.columns = X.columns.map(lambda col: '_'.join([x for x in col if x != '']))\n",
    "    aggr_df = aggr_df.merge(X, how='left', on='SK_ID_CURR')\n",
    "    \n",
    "    return aggr_df"
   ]
  },
  {
   "cell_type": "code",
   "execution_count": 17,
   "metadata": {},
   "outputs": [
    {
     "data": {
      "text/plain": [
       "(        SK_ID_CURR  MONTHS_BALANCE_min  MONTHS_BALANCE_max  \\\n",
       " 0           182943           -1.634547           -0.526589   \n",
       " 1           367990           -1.689882           -1.327761   \n",
       " 2           397406           -1.712589           -0.000000   \n",
       " 3           269225           -1.698530           -0.000000   \n",
       " 4           334279           -1.702680           -0.000000   \n",
       " ...            ...                 ...                 ...   \n",
       " 337247      185413           -0.526589           -0.526589   \n",
       " 337248      326688           -0.526589           -0.526589   \n",
       " 337249      394310           -0.000000           -0.000000   \n",
       " 337250      240059           -0.000000           -0.000000   \n",
       " 337251      144536           -0.000000           -0.000000   \n",
       " \n",
       "         MONTHS_BALANCE_mean  MONTHS_BALANCE_sum  MONTHS_BALANCE_var  \\\n",
       " 0                 -1.358958          -58.435202            0.063458   \n",
       " 1                 -1.506099          -40.664667            0.015690   \n",
       " 2                 -1.455109         -158.606896            0.076120   \n",
       " 3                 -1.490411         -169.906906            0.065545   \n",
       " 4                 -1.410699         -177.748085            0.093637   \n",
       " ...                     ...                 ...                 ...   \n",
       " 337247            -0.526589           -0.526589                 NaN   \n",
       " 337248            -0.526589           -0.526589                 NaN   \n",
       " 337249             0.000000            0.000000                 NaN   \n",
       " 337250             0.000000            0.000000                 NaN   \n",
       " 337251             0.000000            0.000000                 NaN   \n",
       " \n",
       "         CNT_INSTALMENT_min  CNT_INSTALMENT_max  CNT_INSTALMENT_mean  \\\n",
       " 0                 1.194706            1.587564             1.496202   \n",
       " 1                 1.080418            1.528427             1.389901   \n",
       " 2                 1.080418            1.610903             1.306677   \n",
       " 3                 1.248441            1.587564             1.482720   \n",
       " 4                 1.162283            1.528427             1.423149   \n",
       " ...                    ...                 ...                  ...   \n",
       " 337247                 NaN                 NaN                  NaN   \n",
       " 337248            1.080418            1.080418             1.080418   \n",
       " 337249            1.271150            1.271150             1.271150   \n",
       " 337250            0.526589            0.526589             0.526589   \n",
       " 337251            0.526589            0.526589             0.526589   \n",
       " \n",
       "         CNT_INSTALMENT_sum  ...  SK_DPD_mean  SK_DPD_sum    SK_DPD_var  \\\n",
       " 0                64.336683  ...     0.000000           0      0.000000   \n",
       " 1                37.527334  ...     0.000000           0      0.000000   \n",
       " 2               142.427751  ...    37.706422        4110  11194.024125   \n",
       " 3               169.030058  ...     0.000000           0      0.000000   \n",
       " 4               179.316779  ...     0.000000           0      0.000000   \n",
       " ...                    ...  ...          ...         ...           ...   \n",
       " 337247            0.000000  ...     0.000000           0           NaN   \n",
       " 337248            1.080418  ...     0.000000           0           NaN   \n",
       " 337249            1.271150  ...     0.000000           0           NaN   \n",
       " 337250            0.526589  ...     0.000000           0           NaN   \n",
       " 337251            0.526589  ...     0.000000           0           NaN   \n",
       " \n",
       "         SK_DPD_DEF_min  SK_DPD_DEF_max  SK_DPD_DEF_mean  SK_DPD_DEF_sum  \\\n",
       " 0                    0               0         0.000000               0   \n",
       " 1                    0               0         0.000000               0   \n",
       " 2                    0               6         0.146789              16   \n",
       " 3                    0               0         0.000000               0   \n",
       " 4                    0               0         0.000000               0   \n",
       " ...                ...             ...              ...             ...   \n",
       " 337247               0               0         0.000000               0   \n",
       " 337248               0               0         0.000000               0   \n",
       " 337249               0               0         0.000000               0   \n",
       " 337250               0               0         0.000000               0   \n",
       " 337251               0               0         0.000000               0   \n",
       " \n",
       "         SK_DPD_DEF_var  pos_cash_paid_late_mean  \\\n",
       " 0             0.000000                 0.000000   \n",
       " 1             0.000000                 0.000000   \n",
       " 2             0.793068                 0.174312   \n",
       " 3             0.000000                 0.000000   \n",
       " 4             0.000000                 0.000000   \n",
       " ...                ...                      ...   \n",
       " 337247             NaN                 0.000000   \n",
       " 337248             NaN                 0.000000   \n",
       " 337249             NaN                 0.000000   \n",
       " 337250             NaN                 0.000000   \n",
       " 337251             NaN                 0.000000   \n",
       " \n",
       "         pos_cash_paid_late_with_tolerance_mean  \n",
       " 0                                     0.000000  \n",
       " 1                                     0.000000  \n",
       " 2                                     0.027523  \n",
       " 3                                     0.000000  \n",
       " 4                                     0.000000  \n",
       " ...                                        ...  \n",
       " 337247                                0.000000  \n",
       " 337248                                0.000000  \n",
       " 337249                                0.000000  \n",
       " 337250                                0.000000  \n",
       " 337251                                0.000000  \n",
       " \n",
       " [337252 rows x 28 columns],\n",
       " (337252, 28))"
      ]
     },
     "execution_count": 17,
     "metadata": {},
     "output_type": "execute_result"
    }
   ],
   "source": [
    "# cash = datasets['POS_CASH_balance']\n",
    "cashData_aggr = cashAppsFeaturesAggregater(cash_transform(cash))\n",
    "cashData_aggr,cashData_aggr.shape"
   ]
  },
  {
   "cell_type": "markdown",
   "metadata": {},
   "source": [
    "## installments transform"
   ]
  },
  {
   "cell_type": "code",
   "execution_count": 30,
   "metadata": {},
   "outputs": [],
   "source": [
    "install = pd.read_csv(\"home-credit-default-risk/installments_payments.csv\")"
   ]
  },
  {
   "cell_type": "code",
   "execution_count": 20,
   "metadata": {},
   "outputs": [
    {
     "data": {
      "text/plain": [
       "array([[<AxesSubplot:title={'center':'SK_ID_PREV'}>,\n",
       "        <AxesSubplot:title={'center':'SK_ID_CURR'}>,\n",
       "        <AxesSubplot:title={'center':'NUM_INSTALMENT_VERSION'}>],\n",
       "       [<AxesSubplot:title={'center':'NUM_INSTALMENT_NUMBER'}>,\n",
       "        <AxesSubplot:title={'center':'DAYS_INSTALMENT'}>,\n",
       "        <AxesSubplot:title={'center':'DAYS_ENTRY_PAYMENT'}>],\n",
       "       [<AxesSubplot:title={'center':'AMT_INSTALMENT'}>,\n",
       "        <AxesSubplot:title={'center':'AMT_PAYMENT'}>, <AxesSubplot:>]],\n",
       "      dtype=object)"
      ]
     },
     "execution_count": 20,
     "metadata": {},
     "output_type": "execute_result"
    },
    {
     "data": {
      "image/png": "[encoded data removed]",
      "text/plain": [
       "<Figure size 1440x1080 with 9 Axes>"
      ]
     },
     "metadata": {
      "needs_background": "light"
     },
     "output_type": "display_data"
    }
   ],
   "source": [
    "install.hist(figsize=(20,15))"
   ]
  },
  {
   "cell_type": "code",
   "execution_count": 25,
   "metadata": {},
   "outputs": [],
   "source": [
    "def install_transform(install,inplace=False):\n",
    "    \n",
    "    install['installment_payment_diff'] = install['AMT_INSTALMENT'] - install['AMT_PAYMENT']\n",
    "    install['installment_paid_in_full'] = np.where(install['installment_payment_diff']<= 0, 1, \n",
    "                                                   np.where(install['installment_payment_diff']>100.00,0,1))\n",
    "    \n",
    "    install['installment_days_diff'] = install['DAYS_INSTALMENT'] - install['DAYS_ENTRY_PAYMENT']\n",
    "    install['installment_paid_in_time'] = np.where(install['installment_days_diff']>= 0, 1, 0)\n",
    "    \n",
    "    install['install_version'] = (install['NUM_INSTALMENT_VERSION'] > 0).astype(int)\n",
    "    \n",
    "    def left_skew_days(X):\n",
    "        mask = X > 0\n",
    "        X[mask] = np.NaN\n",
    "        X = np.log(1+np.max(X)-X)\n",
    "        return -X\n",
    "\n",
    "    left_skewed = ['DAYS_INSTALMENT','DAYS_ENTRY_PAYMENT']\n",
    "    install[left_skewed] = left_skew_days(install[left_skewed])\n",
    "    install['NUM_INSTALMENT_NUMBER'] = np.log1p(install['NUM_INSTALMENT_NUMBER'])\n",
    "    \n",
    "    return install"
   ]
  },
  {
   "cell_type": "markdown",
   "metadata": {},
   "source": [
    "## agg- installments"
   ]
  },
  {
   "cell_type": "code",
   "execution_count": 35,
   "metadata": {},
   "outputs": [],
   "source": [
    "def instlmntAppsFeaturesAggregater(df, inplace=False):\n",
    "    # pure state-less transformations \n",
    "    if inplace:\n",
    "        df_new = df\n",
    "    else:\n",
    "        df_new = df.copy()\n",
    "        \n",
    "    aggr_df = pd.DataFrame({'SK_ID_CURR': df_new['SK_ID_CURR'].unique()})\n",
    "    \n",
    "    # Compute min, max, min values\n",
    "    agg_dict = {\n",
    "        'NUM_INSTALMENT_VERSION':[\"min\", \"max\", \"mean\", \"sum\", \"var\"],\n",
    "       'NUM_INSTALMENT_NUMBER':[\"min\", \"max\", \"mean\", \"sum\", \"var\"],\n",
    "        'DAYS_INSTALMENT':[\"min\", \"max\", \"mean\", \"sum\", \"var\"], \n",
    "        'DAYS_ENTRY_PAYMENT':[\"min\", \"max\", \"mean\", \"sum\", \"var\"],\n",
    "       'AMT_INSTALMENT':[\"min\", \"max\", \"mean\", \"sum\", \"var\"], \n",
    "        'AMT_PAYMENT':[\"min\", \"max\", \"mean\", \"sum\", \"var\"],\n",
    "        'installment_payment_diff':[\"min\", \"max\", \"mean\", \"sum\", \"var\"],\n",
    "       'installment_paid_in_full':[\"mean\"], \n",
    "        'installment_days_diff':[\"min\", \"max\", \"mean\", \"sum\", \"var\"],\n",
    "       'installment_paid_in_time':[\"mean\"],\n",
    "        'install_version':[\"mean\"]\n",
    "            } \n",
    "    X = df_new.groupby([\"SK_ID_CURR\"], as_index=False).agg(agg_dict)\n",
    "    X.columns = X.columns.map(lambda col: '_'.join([x for x in col if x != '']))\n",
    "    aggr_df = aggr_df.merge(X, how='left', on='SK_ID_CURR')\n",
    "    \n",
    "    return aggr_df"
   ]
  },
  {
   "cell_type": "code",
   "execution_count": 36,
   "metadata": {},
   "outputs": [
    {
     "data": {
      "text/plain": [
       "(        SK_ID_CURR  NUM_INSTALMENT_VERSION_min  NUM_INSTALMENT_VERSION_max  \\\n",
       " 0           161674                         1.0                         2.0   \n",
       " 1           151639                         0.0                         2.0   \n",
       " 2           193053                         2.0                         3.0   \n",
       " 3           199697                         1.0                         3.0   \n",
       " 4           167756                         1.0                         2.0   \n",
       " ...            ...                         ...                         ...   \n",
       " 339582      427056                         1.0                         1.0   \n",
       " 339583      434108                         2.0                         2.0   \n",
       " 339584      413433                         2.0                         2.0   \n",
       " 339585      434445                         2.0                         2.0   \n",
       " 339586      405063                         0.0                         0.0   \n",
       " \n",
       "         NUM_INSTALMENT_VERSION_mean  NUM_INSTALMENT_VERSION_sum  \\\n",
       " 0                          1.039604                       105.0   \n",
       " 1                          0.360759                        57.0   \n",
       " 2                          2.666667                         8.0   \n",
       " 3                          1.111111                        30.0   \n",
       " 4                          1.100000                        33.0   \n",
       " ...                             ...                         ...   \n",
       " 339582                     1.000000                         2.0   \n",
       " 339583                     2.000000                         2.0   \n",
       " 339584                     2.000000                         2.0   \n",
       " 339585                     2.000000                         2.0   \n",
       " 339586                     0.000000                         0.0   \n",
       " \n",
       "         NUM_INSTALMENT_VERSION_var  NUM_INSTALMENT_NUMBER_min  \\\n",
       " 0                         0.038416                   0.693147   \n",
       " 1                         0.257559                   0.693147   \n",
       " 2                         0.333333                   0.693147   \n",
       " 3                         0.179487                   0.693147   \n",
       " 4                         0.093103                   0.693147   \n",
       " ...                            ...                        ...   \n",
       " 339582                    0.000000                   1.791759   \n",
       " 339583                         NaN                   0.693147   \n",
       " 339584                         NaN                   0.693147   \n",
       " 339585                         NaN                   0.693147   \n",
       " 339586                    0.000000                   2.564949   \n",
       " \n",
       "         NUM_INSTALMENT_NUMBER_max  NUM_INSTALMENT_NUMBER_mean  \\\n",
       " 0                        3.610918                    2.112329   \n",
       " 1                        4.653960                    3.168848   \n",
       " 2                        1.098612                    0.828302   \n",
       " 3                        4.634729                    1.942434   \n",
       " 4                        2.484907                    1.649347   \n",
       " ...                           ...                         ...   \n",
       " 339582                   1.945910                    1.868835   \n",
       " 339583                   0.693147                    0.693147   \n",
       " 339584                   0.693147                    0.693147   \n",
       " 339585                   0.693147                    0.693147   \n",
       " 339586                   3.828641                    3.322511   \n",
       " \n",
       "         NUM_INSTALMENT_NUMBER_sum  ...  installment_payment_diff_sum  \\\n",
       " 0                      213.345229  ...                          0.00   \n",
       " 1                      500.677999  ...                     124395.48   \n",
       " 2                        2.484907  ...                          0.00   \n",
       " 3                       52.445707  ...                     148257.90   \n",
       " 4                       49.480420  ...                      18671.67   \n",
       " ...                           ...  ...                           ...   \n",
       " 339582                   3.737670  ...                          0.00   \n",
       " 339583                   0.693147  ...                          0.00   \n",
       " 339584                   0.693147  ...                          0.00   \n",
       " 339585                   0.693147  ...                          0.00   \n",
       " 339586                 112.965361  ...                          0.00   \n",
       " \n",
       "         installment_payment_diff_var  installment_paid_in_full_mean  \\\n",
       " 0                       0.000000e+00                       1.000000   \n",
       " 1                       1.601416e+07                       0.924051   \n",
       " 2                       0.000000e+00                       1.000000   \n",
       " 3                       8.682141e+07                       0.666667   \n",
       " 4                       7.397464e+05                       0.566667   \n",
       " ...                              ...                            ...   \n",
       " 339582                  0.000000e+00                       1.000000   \n",
       " 339583                           NaN                       1.000000   \n",
       " 339584                           NaN                       1.000000   \n",
       " 339585                           NaN                       1.000000   \n",
       " 339586                           NaN                       1.000000   \n",
       " \n",
       "         installment_days_diff_min  installment_days_diff_max  \\\n",
       " 0                             0.0                       65.0   \n",
       " 1                            -9.0                       38.0   \n",
       " 2                           -23.0                        7.0   \n",
       " 3                           -74.0                       28.0   \n",
       " 4                           -17.0                       38.0   \n",
       " ...                           ...                        ...   \n",
       " 339582                        4.0                        6.0   \n",
       " 339583                       17.0                       17.0   \n",
       " 339584                        4.0                        4.0   \n",
       " 339585                        7.0                        7.0   \n",
       " 339586                        NaN                        NaN   \n",
       " \n",
       "         installment_days_diff_mean  installment_days_diff_sum  \\\n",
       " 0                        10.900990                     1101.0   \n",
       " 1                         3.056962                      483.0   \n",
       " 2                        -5.333333                      -16.0   \n",
       " 3                        -0.666667                      -18.0   \n",
       " 4                         7.800000                      234.0   \n",
       " ...                            ...                        ...   \n",
       " 339582                    5.000000                       10.0   \n",
       " 339583                   17.000000                       17.0   \n",
       " 339584                    4.000000                        4.0   \n",
       " 339585                    7.000000                        7.0   \n",
       " 339586                         NaN                        0.0   \n",
       " \n",
       "         installment_days_diff_var  installment_paid_in_time_mean  \\\n",
       " 0                      192.450099                       1.000000   \n",
       " 1                       58.818391                       0.930380   \n",
       " 2                      246.333333                       0.666667   \n",
       " 3                      458.384615                       0.592593   \n",
       " 4                      211.062069                       0.700000   \n",
       " ...                           ...                            ...   \n",
       " 339582                   2.000000                       1.000000   \n",
       " 339583                        NaN                       1.000000   \n",
       " 339584                        NaN                       1.000000   \n",
       " 339585                        NaN                       1.000000   \n",
       " 339586                        NaN                       0.000000   \n",
       " \n",
       "         install_version_mean  \n",
       " 0                   1.000000  \n",
       " 1                   0.348101  \n",
       " 2                   1.000000  \n",
       " 3                   1.000000  \n",
       " 4                   1.000000  \n",
       " ...                      ...  \n",
       " 339582              1.000000  \n",
       " 339583              1.000000  \n",
       " 339584              1.000000  \n",
       " 339585              1.000000  \n",
       " 339586              0.000000  \n",
       " \n",
       " [339587 rows x 44 columns],\n",
       " (339587, 44))"
      ]
     },
     "execution_count": 36,
     "metadata": {},
     "output_type": "execute_result"
    }
   ],
   "source": [
    "# install = datasets['installments_payments']\n",
    "instlmntData_aggr = instlmntAppsFeaturesAggregater(install_transform(install))\n",
    "instlmntData_aggr,instlmntData_aggr.shape"
   ]
  },
  {
   "cell_type": "code",
   "execution_count": 37,
   "metadata": {},
   "outputs": [],
   "source": [
    "credit = pd.read_csv(\"home-credit-default-risk/credit_card_balance.csv\")"
   ]
  },
  {
   "cell_type": "code",
   "execution_count": 38,
   "metadata": {},
   "outputs": [
    {
     "data": {
      "text/plain": [
       "array([[<AxesSubplot:title={'center':'SK_ID_PREV'}>,\n",
       "        <AxesSubplot:title={'center':'SK_ID_CURR'}>,\n",
       "        <AxesSubplot:title={'center':'MONTHS_BALANCE'}>,\n",
       "        <AxesSubplot:title={'center':'AMT_BALANCE'}>,\n",
       "        <AxesSubplot:title={'center':'AMT_CREDIT_LIMIT_ACTUAL'}>],\n",
       "       [<AxesSubplot:title={'center':'AMT_DRAWINGS_ATM_CURRENT'}>,\n",
       "        <AxesSubplot:title={'center':'AMT_DRAWINGS_CURRENT'}>,\n",
       "        <AxesSubplot:title={'center':'AMT_DRAWINGS_OTHER_CURRENT'}>,\n",
       "        <AxesSubplot:title={'center':'AMT_DRAWINGS_POS_CURRENT'}>,\n",
       "        <AxesSubplot:title={'center':'AMT_INST_MIN_REGULARITY'}>],\n",
       "       [<AxesSubplot:title={'center':'AMT_PAYMENT_CURRENT'}>,\n",
       "        <AxesSubplot:title={'center':'AMT_PAYMENT_TOTAL_CURRENT'}>,\n",
       "        <AxesSubplot:title={'center':'AMT_RECEIVABLE_PRINCIPAL'}>,\n",
       "        <AxesSubplot:title={'center':'AMT_RECIVABLE'}>,\n",
       "        <AxesSubplot:title={'center':'AMT_TOTAL_RECEIVABLE'}>],\n",
       "       [<AxesSubplot:title={'center':'CNT_DRAWINGS_ATM_CURRENT'}>,\n",
       "        <AxesSubplot:title={'center':'CNT_DRAWINGS_CURRENT'}>,\n",
       "        <AxesSubplot:title={'center':'CNT_DRAWINGS_OTHER_CURRENT'}>,\n",
       "        <AxesSubplot:title={'center':'CNT_DRAWINGS_POS_CURRENT'}>,\n",
       "        <AxesSubplot:title={'center':'CNT_INSTALMENT_MATURE_CUM'}>],\n",
       "       [<AxesSubplot:title={'center':'SK_DPD'}>,\n",
       "        <AxesSubplot:title={'center':'SK_DPD_DEF'}>, <AxesSubplot:>,\n",
       "        <AxesSubplot:>, <AxesSubplot:>]], dtype=object)"
      ]
     },
     "execution_count": 38,
     "metadata": {},
     "output_type": "execute_result"
    },
    {
     "data": {
      "image/png": "[encoded data removed]",
      "text/plain": [
       "<Figure size 1440x1080 with 25 Axes>"
      ]
     },
     "metadata": {
      "needs_background": "light"
     },
     "output_type": "display_data"
    }
   ],
   "source": [
    "credit.hist(figsize=(20,15))"
   ]
  },
  {
   "cell_type": "code",
   "execution_count": 39,
   "metadata": {},
   "outputs": [],
   "source": [
    "def credit_transform(credit,inplace=False):\n",
    "    \n",
    "       # Amount used from limit\n",
    "    credit['limit_use'] = credit['AMT_BALANCE'] / credit['AMT_CREDIT_LIMIT_ACTUAL']\n",
    "    # Current payment / Min payment\n",
    "    credit['payment_div_min'] = credit['AMT_PAYMENT_CURRENT'] / credit['AMT_INST_MIN_REGULARITY']\n",
    "    # Late payment <-- 'CARD_IS_DPD'\n",
    "    credit['late_payment'] = credit['SK_DPD'].apply(lambda x: 1 if x > 0 else 0)\n",
    "    # How much drawing of limit\n",
    "    credit['drawing_limit_ratio'] = credit['AMT_DRAWINGS_ATM_CURRENT'] / credit['AMT_CREDIT_LIMIT_ACTUAL']\n",
    "    \n",
    "    def right_skew(X): return np.log1p(X)\n",
    "    \n",
    "    right_skewed = ['AMT_BALANCE','AMT_CREDIT_LIMIT_ACTUAL','AMT_RECEIVABLE_PRINCIPAL','AMT_RECIVABLE',\n",
    "                   'AMT_TOTAL_RECEIVABLE','CNT_INSTALMENT_MATURE_CUM']\n",
    "    credit[right_skewed] = right_skew(credit[ right_skewed])\n",
    "    \n",
    "    return credit"
   ]
  },
  {
   "cell_type": "code",
   "execution_count": 40,
   "metadata": {},
   "outputs": [
    {
     "data": {
      "text/plain": [
       "Index(['SK_ID_PREV', 'SK_ID_CURR', 'MONTHS_BALANCE', 'AMT_BALANCE',\n",
       "       'AMT_CREDIT_LIMIT_ACTUAL', 'AMT_DRAWINGS_ATM_CURRENT',\n",
       "       'AMT_DRAWINGS_CURRENT', 'AMT_DRAWINGS_OTHER_CURRENT',\n",
       "       'AMT_DRAWINGS_POS_CURRENT', 'AMT_INST_MIN_REGULARITY',\n",
       "       'AMT_PAYMENT_CURRENT', 'AMT_PAYMENT_TOTAL_CURRENT',\n",
       "       'AMT_RECEIVABLE_PRINCIPAL', 'AMT_RECIVABLE', 'AMT_TOTAL_RECEIVABLE',\n",
       "       'CNT_DRAWINGS_ATM_CURRENT', 'CNT_DRAWINGS_CURRENT',\n",
       "       'CNT_DRAWINGS_OTHER_CURRENT', 'CNT_DRAWINGS_POS_CURRENT',\n",
       "       'CNT_INSTALMENT_MATURE_CUM', 'NAME_CONTRACT_STATUS', 'SK_DPD',\n",
       "       'SK_DPD_DEF', 'limit_use', 'payment_div_min', 'late_payment',\n",
       "       'drawing_limit_ratio'],\n",
       "      dtype='object')"
      ]
     },
     "execution_count": 40,
     "metadata": {},
     "output_type": "execute_result"
    }
   ],
   "source": [
    "credit_transform(credit).columns"
   ]
  },
  {
   "cell_type": "code",
   "execution_count": 43,
   "metadata": {},
   "outputs": [],
   "source": [
    "def creditAppsFeaturesAggregater(df, inplace=False):\n",
    "    # pure state-less transformations \n",
    "    if inplace:\n",
    "        df_new = df\n",
    "    else:\n",
    "        df_new = df.copy()\n",
    "        \n",
    "    aggr_df = pd.DataFrame({'SK_ID_CURR': df_new['SK_ID_CURR'].unique()})\n",
    "    \n",
    "    # Compute min, max, min values\n",
    "    agg_dict = {\n",
    "       'AMT_BALANCE':[\"min\", \"max\", \"mean\", \"sum\", \"var\"],\n",
    "       'AMT_CREDIT_LIMIT_ACTUAL':[\"min\", \"max\", \"mean\", \"sum\", \"var\"], \n",
    "        'AMT_DRAWINGS_ATM_CURRENT':[\"min\", \"max\", \"mean\", \"sum\", \"var\"],\n",
    "       'AMT_DRAWINGS_CURRENT':[\"min\", \"max\", \"mean\", \"sum\", \"var\"], \n",
    "        'AMT_DRAWINGS_OTHER_CURRENT':[\"min\", \"max\", \"mean\", \"sum\", \"var\"],\n",
    "       'AMT_DRAWINGS_POS_CURRENT':[\"min\", \"max\", \"mean\", \"sum\", \"var\"], \n",
    "        'AMT_INST_MIN_REGULARITY':[\"min\", \"max\", \"mean\", \"sum\", \"var\"],\n",
    "       'AMT_PAYMENT_CURRENT':[\"min\", \"max\", \"mean\", \"sum\", \"var\"], \n",
    "        'AMT_PAYMENT_TOTAL_CURRENT':[\"min\", \"max\", \"mean\", \"sum\", \"var\"],\n",
    "       'AMT_RECEIVABLE_PRINCIPAL':[\"min\", \"max\", \"mean\", \"sum\", \"var\"], \n",
    "        'AMT_RECIVABLE':[\"min\", \"max\", \"mean\", \"sum\", \"var\"], \n",
    "        'AMT_TOTAL_RECEIVABLE':[\"min\", \"max\", \"mean\", \"sum\", \"var\"],\n",
    "       'CNT_DRAWINGS_ATM_CURRENT':[\"min\", \"max\", \"mean\", \"sum\", \"var\"],\n",
    "        'CNT_DRAWINGS_CURRENT':[\"min\", \"max\", \"mean\", \"sum\", \"var\"],\n",
    "       'CNT_DRAWINGS_OTHER_CURRENT':[\"min\", \"max\", \"mean\", \"sum\", \"var\"],\n",
    "        'CNT_DRAWINGS_POS_CURRENT':[\"min\", \"max\", \"mean\", \"sum\", \"var\"],\n",
    "       'CNT_INSTALMENT_MATURE_CUM':[\"min\", \"max\", \"mean\", \"sum\", \"var\"],\n",
    "        'SK_DPD':[\"min\", \"max\", \"mean\", \"sum\", \"var\"],\n",
    "       'SK_DPD_DEF':[\"min\", \"max\", \"mean\", \"sum\", \"var\"],\n",
    "        'limit_use':[\"min\", \"max\", \"mean\", \"sum\", \"var\"],\n",
    "        'payment_div_min':[\"min\", \"max\", \"mean\", \"sum\", \"var\"], \n",
    "        'late_payment':[\"mean\"],\n",
    "       'drawing_limit_ratio':[\"min\", \"max\", \"mean\", \"sum\", \"var\"]\n",
    "            } \n",
    "    X = df_new.groupby([\"SK_ID_CURR\"], as_index=False).agg(agg_dict)\n",
    "    X.columns = X.columns.map(lambda col: '_'.join([x for x in col if x != '']))\n",
    "    aggr_df = aggr_df.merge(X, how='left', on='SK_ID_CURR')\n",
    "    \n",
    "    return aggr_df"
   ]
  },
  {
   "cell_type": "code",
   "execution_count": 44,
   "metadata": {},
   "outputs": [
    {
     "data": {
      "text/plain": [
       "(        SK_ID_CURR  AMT_BALANCE_min  AMT_BALANCE_max  AMT_BALANCE_mean  \\\n",
       " 0           378907         0.000000         1.251872          0.997947   \n",
       " 1           363914         0.000000         1.253120          0.849475   \n",
       " 2           371185         0.000000         1.282049          1.224667   \n",
       " 3           337855         1.206980         1.279190          1.268322   \n",
       " 4           126868         1.143678         1.292545          1.269944   \n",
       " ...            ...              ...              ...               ...   \n",
       " 103553      403596         0.000000         0.000000          0.000000   \n",
       " 103554      318916         0.000000         0.000000          0.000000   \n",
       " 103555      174455         0.000000         0.000000          0.000000   \n",
       " 103556      315041         0.000000         0.000000          0.000000   \n",
       " 103557      382749         0.000000         0.000000          0.000000   \n",
       " \n",
       "         AMT_BALANCE_sum  AMT_BALANCE_var  AMT_CREDIT_LIMIT_ACTUAL_min  \\\n",
       " 0             46.903529         0.214102                     1.197866   \n",
       " 1             81.549583         0.332486                     1.241506   \n",
       " 2             45.312697         0.043066                     1.263033   \n",
       " 3             19.024836         0.000477                     1.241506   \n",
       " 4            121.914631         0.000313                     1.273312   \n",
       " ...                 ...              ...                          ...   \n",
       " 103553         0.000000              NaN                     1.275814   \n",
       " 103554         0.000000              NaN                     1.241506   \n",
       " 103555         0.000000              NaN                     1.278029   \n",
       " 103556         0.000000              NaN                     1.281808   \n",
       " 103557         0.000000              NaN                     1.281808   \n",
       " \n",
       "         AMT_CREDIT_LIMIT_ACTUAL_max  AMT_CREDIT_LIMIT_ACTUAL_mean  \\\n",
       " 0                          1.281808                      1.265924   \n",
       " 1                          1.251290                      1.249659   \n",
       " 2                          1.292058                      1.285999   \n",
       " 3                          1.278029                      1.273159   \n",
       " 4                          1.292058                      1.276632   \n",
       " ...                             ...                           ...   \n",
       " 103553                     1.275814                      1.275814   \n",
       " 103554                     1.241506                      1.241506   \n",
       " 103555                     1.278029                      1.278029   \n",
       " 103556                     1.281808                      1.281808   \n",
       " 103557                     1.281808                      1.281808   \n",
       " \n",
       "         AMT_CREDIT_LIMIT_ACTUAL_sum  ...  payment_div_min_max  \\\n",
       " 0                         59.498407  ...                  inf   \n",
       " 1                        119.967302  ...                  inf   \n",
       " 2                         47.581971  ...            20.634105   \n",
       " 3                         19.097385  ...                  inf   \n",
       " 4                        122.556667  ...            19.640000   \n",
       " ...                             ...  ...                  ...   \n",
       " 103553                     1.275814  ...                  NaN   \n",
       " 103554                     1.241506  ...                  NaN   \n",
       " 103555                     1.278029  ...                  NaN   \n",
       " 103556                     1.281808  ...                  NaN   \n",
       " 103557                     1.281808  ...                  NaN   \n",
       " \n",
       "         payment_div_min_mean  payment_div_min_sum  payment_div_min_var  \\\n",
       " 0                        NaN                  NaN                  NaN   \n",
       " 1                        NaN                  NaN                  NaN   \n",
       " 2                   2.209153            79.529525            20.488933   \n",
       " 3                        NaN                  NaN                  NaN   \n",
       " 4                   1.809560           173.717732             3.927531   \n",
       " ...                      ...                  ...                  ...   \n",
       " 103553                   NaN             0.000000                  NaN   \n",
       " 103554                   NaN             0.000000                  NaN   \n",
       " 103555                   NaN             0.000000                  NaN   \n",
       " 103556                   NaN             0.000000                  NaN   \n",
       " 103557                   NaN             0.000000                  NaN   \n",
       " \n",
       "         late_payment_mean  drawing_limit_ratio_min  drawing_limit_ratio_max  \\\n",
       " 0                0.021277                      0.0             25930.148738   \n",
       " 1                0.010417                      0.0             25235.467350   \n",
       " 2                0.000000                      0.0             45165.814077   \n",
       " 3                0.000000                      0.0              5213.248062   \n",
       " 4                0.010417                      0.0            102262.220551   \n",
       " ...                   ...                      ...                      ...   \n",
       " 103553           0.000000                      NaN                      NaN   \n",
       " 103554           0.000000                      0.0                 0.000000   \n",
       " 103555           0.000000                      NaN                      NaN   \n",
       " 103556           0.000000                      NaN                      NaN   \n",
       " 103557           0.000000                      NaN                      NaN   \n",
       " \n",
       "         drawing_limit_ratio_mean  drawing_limit_ratio_sum  \\\n",
       " 0                     551.705292             25930.148738   \n",
       " 1                    1231.917186            118264.049822   \n",
       " 2                    5366.982158            193211.357694   \n",
       " 3                    1309.104513             19636.567700   \n",
       " 4                    3059.576333            293719.328005   \n",
       " ...                          ...                      ...   \n",
       " 103553                       NaN                 0.000000   \n",
       " 103554                  0.000000                 0.000000   \n",
       " 103555                       NaN                 0.000000   \n",
       " 103556                       NaN                 0.000000   \n",
       " 103557                       NaN                 0.000000   \n",
       " \n",
       "         drawing_limit_ratio_var  \n",
       " 0                  1.430580e+07  \n",
       " 1                  1.788073e+07  \n",
       " 2                  9.385576e+07  \n",
       " 3                  3.683548e+06  \n",
       " 4                  1.301641e+08  \n",
       " ...                         ...  \n",
       " 103553                      NaN  \n",
       " 103554                      NaN  \n",
       " 103555                      NaN  \n",
       " 103556                      NaN  \n",
       " 103557                      NaN  \n",
       " \n",
       " [103558 rows x 112 columns],\n",
       " (103558, 112))"
      ]
     },
     "execution_count": 44,
     "metadata": {},
     "output_type": "execute_result"
    }
   ],
   "source": [
    "#credit = datasets['credit_card_balance']\n",
    "creditData_aggr = creditAppsFeaturesAggregater(credit_transform(credit))\n",
    "creditData_aggr,creditData_aggr.shape"
   ]
  },
  {
   "cell_type": "code",
   "execution_count": null,
   "metadata": {},
   "outputs": [],
   "source": []
  }
 ],
 "metadata": {
  "kernelspec": {
   "display_name": "Python 3",
   "language": "python",
   "name": "python3"
  },
  "language_info": {
   "codemirror_mode": {
    "name": "ipython",
    "version": 3
   },
   "file_extension": ".py",
   "mimetype": "text/x-python",
   "name": "python",
   "nbconvert_exporter": "python",
   "pygments_lexer": "ipython3",
   "version": "3.7.6"
  },
  "toc": {
   "base_numbering": 1,
   "nav_menu": {},
   "number_sections": true,
   "sideBar": true,
   "skip_h1_title": false,
   "title_cell": "Table of Contents",
   "title_sidebar": "Contents",
   "toc_cell": false,
   "toc_position": {
    "height": "calc(100% - 180px)",
    "left": "10px",
    "top": "150px",
    "width": "288px"
   },
   "toc_section_display": true,
   "toc_window_display": true
  }
 },
 "nbformat": 4,
 "nbformat_minor": 4
}
