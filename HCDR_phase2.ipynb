{
 "cells": [
  {
   "cell_type": "markdown",
   "id": "e79740ca-5720-4d6f-9695-da235e5b73e0",
   "metadata": {},
   "source": [
    "# HCDR - Phase 2"
   ]
  },
  {
   "cell_type": "code",
   "execution_count": 90,
   "id": "83e512c2-5239-44c8-8914-642d3f8093ba",
   "metadata": {},
   "outputs": [],
   "source": [
    "from sklearn.preprocessing import FunctionTransformer\n",
    "from sklearn.metrics import roc_auc_score\n",
    "from sklearn.model_selection import cross_val_score\n",
    "from sklearn.feature_selection import SelectFromModel\n",
    "from sklearn.linear_model import LogisticRegression\n",
    "from sklearn.ensemble import RandomForestClassifier\n",
    "from sklearn.ensemble import AdaBoostClassifier\n",
    "from sklearn.preprocessing import OneHotEncoder\n",
    "from sklearn.ensemble import GradientBoostingClassifier\n",
    "from sklearn.preprocessing import StandardScaler\n",
    "from sklearn.pipeline import FeatureUnion\n",
    "from sklearn.pipeline import Pipeline\n",
    "from sklearn.impute import SimpleImputer\n",
    "from sklearn.model_selection import train_test_split\n",
    "from sklearn.model_selection import RandomizedSearchCV\n",
    "from sklearn.metrics import confusion_matrix, precision_score, recall_score, precision_recall_curve, f1_score\n",
    "import seaborn as sns\n",
    "from sklearn.base import BaseEstimator, TransformerMixin\n",
    "import numpy as np\n",
    "import pandas as pd\n",
    "import matplotlib.pyplot as plt\n",
    "import os\n",
    "import datetime\n",
    "\n",
    "from sklearn.neighbors import KNeighborsClassifier\n",
    "from sklearn.svm import LinearSVC\n",
    "from sklearn.ensemble import RandomForestClassifier\n",
    "from sklearn.ensemble import AdaBoostClassifier\n",
    "from sklearn.ensemble import GradientBoostingClassifier\n",
    "from sklearn.calibration import CalibratedClassifierCV\n",
    "from sklearn.metrics import brier_score_loss\n",
    "from sklearn.calibration import calibration_curve"
   ]
  },
  {
   "cell_type": "code",
   "execution_count": 2,
   "id": "d20a5e48-9e25-433c-a1b0-00cf29fa93e2",
   "metadata": {},
   "outputs": [],
   "source": [
    "def load_data(in_path, name):\n",
    "    df = pd.read_csv(in_path)\n",
    "    return df\n",
    "\n",
    "\n",
    "def load_datasets(DATA_DIR, ds_names):\n",
    "    datasets = {}\n",
    "    for ds_name in ds_names:\n",
    "        datasets[ds_name] = load_data(os.path.join(\n",
    "            DATA_DIR, f'{ds_name}.csv'), ds_name)\n",
    "    return datasets\n",
    "\n",
    "class DataFrameSelector(BaseEstimator, TransformerMixin):\n",
    "    def __init__(self, attribute_names):\n",
    "        self.attribute_names = attribute_names\n",
    "\n",
    "    def fit(self, X, y=None):\n",
    "        return self\n",
    "\n",
    "    def transform(self, X):\n",
    "        return X[self.attribute_names]"
   ]
  },
  {
   "cell_type": "markdown",
   "id": "9d9f128c-5340-414c-8821-8ee556c8a125",
   "metadata": {},
   "source": [
    "## Preprocessing and Feature Engineering"
   ]
  },
  {
   "cell_type": "markdown",
   "id": "ab960320-65ce-43c2-93cb-f50b3d4c9e36",
   "metadata": {},
   "source": [
    "### applications.csv\n",
    "#### Preprocessing"
   ]
  },
  {
   "cell_type": "code",
   "execution_count": 3,
   "id": "6cb6d291-8da4-4f04-a222-3d58df7f04d3",
   "metadata": {},
   "outputs": [],
   "source": [
    "def transform_days(X):\n",
    "    mask = X > 0\n",
    "    X[mask] = np.NaN\n",
    "    # return np.log1p(-1*X)\n",
    "    return -X\n",
    "\n",
    "def preprocessing_transformations(df, inplace=False, impute_zero=()):\n",
    "    # pure state-less transformations\n",
    "    if inplace:\n",
    "        df_new = df\n",
    "    else:\n",
    "        df_new = df.copy()\n",
    "\n",
    "    right_skewed = ['AMT_ANNUITY']\n",
    "    left_skewed = []\n",
    "    days = ['DAYS_EMPLOYED']\n",
    "\n",
    "    def transform_left_skewed(X): return np.log(1+np.max(X)-X)\n",
    "\n",
    "    df_new[right_skewed] = np.log1p(df[right_skewed])\n",
    "    df_new[left_skewed] = transform_left_skewed(df[left_skewed])\n",
    "    df_new[days] = transform_days(df[days])\n",
    "\n",
    "    # others\n",
    "    df_new[impute_zero] = SimpleImputer(strategy='constant', fill_value=0).fit_transform(df_new[impute_zero])\n",
    "    df_new['NAME_FAMILY_STATUS'].replace('Unknown', np.nan, inplace=True)\n",
    "    df_new['ORGANIZATION_TYPE'].replace('XNA', np.nan, inplace=True)\n",
    "    df_new['CODE_GENDER'].replace('XNA', np.nan, inplace=True)\n",
    "    return df_new"
   ]
  },
  {
   "cell_type": "markdown",
   "id": "be6bf86a-70e7-40fb-9e97-816ea985121e",
   "metadata": {},
   "source": [
    "#### Feature Engineering"
   ]
  },
  {
   "cell_type": "code",
   "execution_count": 4,
   "id": "8ec5d83f-7932-4163-b2c6-8e2202a1d779",
   "metadata": {},
   "outputs": [],
   "source": [
    "def add_new_features(df, inplace=False):\n",
    "    if inplace:\n",
    "        X = df\n",
    "    else:\n",
    "        X = df.copy()\n",
    "    X['annuity_income_percentage'] = X['AMT_ANNUITY'] / X['AMT_INCOME_TOTAL']\n",
    "    X['car_to_birth_ratio'] = X['OWN_CAR_AGE'] / X['DAYS_BIRTH']\n",
    "    X['car_to_employ_ratio'] = X['OWN_CAR_AGE'] / (1+X['DAYS_EMPLOYED'])\n",
    "    X['children_ratio'] = X['CNT_CHILDREN'] / X['CNT_FAM_MEMBERS']\n",
    "    X['credit_to_annuity_ratio'] = X['AMT_CREDIT'] / X['AMT_ANNUITY']\n",
    "    X['credit_to_goods_ratio'] = X['AMT_CREDIT'] / X['AMT_GOODS_PRICE']\n",
    "    X['credit_to_income_ratio'] = X['AMT_CREDIT'] / X['AMT_INCOME_TOTAL']\n",
    "    X['days_employed_percentage'] = X['DAYS_EMPLOYED'] / X['DAYS_BIRTH']\n",
    "    X['income_credit_percentage'] = X['AMT_INCOME_TOTAL'] / X['AMT_CREDIT']\n",
    "    X['income_per_child'] = X['AMT_INCOME_TOTAL'] / (1 + X['CNT_CHILDREN'])\n",
    "    X['income_per_person'] = X['AMT_INCOME_TOTAL'] / X['CNT_FAM_MEMBERS']\n",
    "    X['payment_rate'] = X['AMT_ANNUITY'] / X['AMT_CREDIT']\n",
    "    X['phone_to_birth_ratio'] = X['DAYS_LAST_PHONE_CHANGE'] / X['DAYS_BIRTH']\n",
    "    X['phone_to_employ_ratio'] = X['DAYS_LAST_PHONE_CHANGE'] / (1+X['DAYS_EMPLOYED'])\n",
    "    X['external_source_mean'] = X[['EXT_SOURCE_1', 'EXT_SOURCE_2', 'EXT_SOURCE_3']].mean(axis=1)\n",
    "    X['cnt_non_child'] = X['CNT_FAM_MEMBERS'] - X['CNT_CHILDREN']\n",
    "    X['child_to_non_child_ratio'] = X['CNT_CHILDREN'] / X['cnt_non_child']\n",
    "    X['income_per_non_child'] = X['AMT_INCOME_TOTAL'] / X['cnt_non_child']\n",
    "    X['credit_per_person'] = X['AMT_CREDIT'] / X['CNT_FAM_MEMBERS']\n",
    "    X['credit_per_child'] = X['AMT_CREDIT'] / (1 + X['CNT_CHILDREN'])\n",
    "    X['credit_per_non_child'] = X['AMT_CREDIT'] / X['cnt_non_child']\n",
    "\n",
    "    return X"
   ]
  },
  {
   "cell_type": "markdown",
   "id": "848ada0b-df9d-4e7c-ab6a-3a6bf0d5393e",
   "metadata": {},
   "source": [
    "### previous_applications.csv"
   ]
  },
  {
   "cell_type": "code",
   "execution_count": 5,
   "id": "92d458be-31f9-4cd0-b49e-bf719c98879d",
   "metadata": {},
   "outputs": [],
   "source": [
    "def prevAppsFeaturesAggregater(df, inplace=False):\n",
    "    # pure state-less transformations\n",
    "    if inplace:\n",
    "        df_new = df\n",
    "    else:\n",
    "        df_new = df.copy()\n",
    "\n",
    "    # Sorted df by decsion day\n",
    "    prev_applications_sorted = df_new.sort_values(\n",
    "        ['SK_ID_CURR', 'DAYS_DECISION'])\n",
    "\n",
    "    # Tranform days\n",
    "    days = ['DAYS_DECISION', 'DAYS_FIRST_DRAWING', 'DAYS_FIRST_DUE',\n",
    "            'DAYS_LAST_DUE_1ST_VERSION', 'DAYS_LAST_DUE', 'DAYS_TERMINATION']\n",
    "    df_new[days] = transform_days(df[days])\n",
    "\n",
    "    aggr_df = pd.DataFrame({'SK_ID_CURR': df_new['SK_ID_CURR'].unique()})\n",
    "\n",
    "    # Compute min, max, min values\n",
    "    agg_ops = agg_ops = [\"min\", \"max\", \"mean\", \"sum\"]\n",
    "    features = [\n",
    "        'AMT_ANNUITY', 'AMT_APPLICATION', 'AMT_CREDIT', 'AMT_DOWN_PAYMENT', 'AMT_GOODS_PRICE', 'CNT_PAYMENT',\n",
    "        'HOUR_APPR_PROCESS_START', 'RATE_DOWN_PAYMENT', 'DAYS_DECISION', 'DAYS_FIRST_DRAWING', 'DAYS_FIRST_DUE',\n",
    "        'DAYS_LAST_DUE_1ST_VERSION', 'DAYS_LAST_DUE', 'DAYS_TERMINATION']\n",
    "    X = df_new.groupby([\"SK_ID_CURR\"], as_index=False).agg({ft: agg_ops for ft in features})\n",
    "    X.columns = X.columns.map(lambda col: '_'.join([x for x in col if x != '']))\n",
    "    aggr_df = aggr_df.merge(X, how='left', on='SK_ID_CURR')\n",
    "\n",
    "    # Previous Application Count\n",
    "    prev_appl_count = df_new.groupby(by=['SK_ID_CURR'])['SK_ID_PREV'].nunique().reset_index()\n",
    "    prev_appl_count.rename(index=str, columns={'SK_ID_PREV': 'previous_applications_count'}, inplace=True)\n",
    "    aggr_df = aggr_df.merge(prev_appl_count, how='left', on='SK_ID_CURR')\n",
    "\n",
    "    # Previous applications approved count\n",
    "    df_new['prev_applications_approved'] = (df_new['NAME_CONTRACT_STATUS'] == 'Approved').astype('int')\n",
    "    approved_count = df_new.groupby(by=['SK_ID_CURR'])['prev_applications_approved'].sum().reset_index()\n",
    "    aggr_df = aggr_df.merge(approved_count, how='left', on='SK_ID_CURR')\n",
    "\n",
    "    # Previous applications refused count\n",
    "    df_new['prev_applications_refused'] = (df_new['NAME_CONTRACT_STATUS'] == 'Refused').astype('int')\n",
    "    refused_count = df_new.groupby(by=['SK_ID_CURR'])['prev_applications_refused'].sum().reset_index()\n",
    "    aggr_df = aggr_df.merge(refused_count, how='left', on='SK_ID_CURR')\n",
    "\n",
    "    # previous application invalid\n",
    "    df_new['prev_applications_invalid'] = (df_new['NAME_CONTRACT_STATUS'] == 'Canceled').astype(\n",
    "        'int') + (df_new['NAME_CONTRACT_STATUS'] == 'Unused offer').astype('int')\n",
    "    invalid_count = df_new.groupby(by=['SK_ID_CURR'])['prev_applications_invalid'].sum().reset_index()\n",
    "    aggr_df = aggr_df.merge(invalid_count, how='left', on='SK_ID_CURR')\n",
    "\n",
    "    # Last application status(approved or rejected?)\n",
    "    prev_applications_sorted['prevAppl_last_approved'] = (\n",
    "        prev_applications_sorted['NAME_CONTRACT_STATUS'] == 'Approved').astype('int')\n",
    "    last_approved = prev_applications_sorted.groupby(by=['SK_ID_CURR'])['prevAppl_last_approved'].last().reset_index()\n",
    "    aggr_df = aggr_df.merge(last_approved, how='left', on=['SK_ID_CURR'])\n",
    "    return aggr_df"
   ]
  },
  {
   "cell_type": "markdown",
   "id": "54d6e6ba-f06d-4dd7-bb93-447d37b0ea17",
   "metadata": {},
   "source": [
    "### POS_CASH_balance.csv\n",
    "#### Preprocessing\n",
    "\n"
   ]
  },
  {
   "cell_type": "code",
   "execution_count": 6,
   "id": "c166ba30-28f4-40db-aba2-4f5fc85905ad",
   "metadata": {},
   "outputs": [],
   "source": [
    "def cash_transform(cash, inplace=False):\n",
    "\n",
    "    cash['pos_cash_paid_late'] = (cash['SK_DPD'] > 0).astype(int)\n",
    "    cash['pos_cash_paid_late_with_tolerance'] = (cash['SK_DPD_DEF'] > 0).astype(int)\n",
    "\n",
    "    def fix_skew_months(X):\n",
    "        mask = X > 0\n",
    "        X[mask] = np.NaN\n",
    "        X = np.log(1+np.max(X)-X)\n",
    "        return -X\n",
    "\n",
    "    cash['MONTHS_BALANCE'] = fix_skew_months(cash['MONTHS_BALANCE'])\n",
    "    cash['CNT_INSTALMENT'] = np.log1p(cash['CNT_INSTALMENT'])\n",
    "    cash['CNT_INSTALMENT_FUTURE'] = np.log1p(cash['CNT_INSTALMENT_FUTURE'])\n",
    "\n",
    "    return cash"
   ]
  },
  {
   "cell_type": "markdown",
   "id": "a452721f-80fd-4b4a-bc28-2f2135f87415",
   "metadata": {},
   "source": [
    "#### Feature Engineering"
   ]
  },
  {
   "cell_type": "code",
   "execution_count": 7,
   "id": "28f5087d-f3bf-4b0f-82b3-5b1449d00212",
   "metadata": {},
   "outputs": [],
   "source": [
    "def cashAppsFeaturesAggregater(df, inplace=False):\n",
    "    # pure state-less transformations\n",
    "    if inplace:\n",
    "        df_new = df\n",
    "    else:\n",
    "        df_new = df.copy()\n",
    "\n",
    "    aggr_df = pd.DataFrame({'SK_ID_CURR': df_new['SK_ID_CURR'].unique()})\n",
    "\n",
    "    agg_dict = {\n",
    "        'MONTHS_BALANCE': [\"min\", \"max\", \"mean\", \"sum\", \"var\"],\n",
    "        'CNT_INSTALMENT': [\"min\", \"max\", \"mean\", \"sum\", \"var\"],\n",
    "        'CNT_INSTALMENT_FUTURE': [\"min\", \"max\", \"mean\", \"sum\", \"var\"],\n",
    "        'SK_DPD': [\"min\", \"max\", \"mean\", \"sum\", \"var\"],\n",
    "        'SK_DPD_DEF': [\"min\", \"max\", \"mean\", \"sum\", \"var\"],\n",
    "        'pos_cash_paid_late': [\"mean\"],\n",
    "        'pos_cash_paid_late_with_tolerance': [\"mean\"]\n",
    "    }\n",
    "\n",
    "    X = df_new.groupby([\"SK_ID_CURR\"], as_index=False).agg(agg_dict)\n",
    "    X.columns = X.columns.map(lambda col: '_'.join([x for x in col if x != '']))\n",
    "    aggr_df = aggr_df.merge(X, how='left', on='SK_ID_CURR')\n",
    "\n",
    "    return aggr_df\n"
   ]
  },
  {
   "cell_type": "markdown",
   "id": "37947e68-0566-4101-8cfb-26d7d1cafbf5",
   "metadata": {},
   "source": [
    "### installments_payments.csv\n",
    "#### Preprocessing"
   ]
  },
  {
   "cell_type": "code",
   "execution_count": 8,
   "id": "b4e19e08-e602-49a2-9517-b554b82ce71a",
   "metadata": {},
   "outputs": [],
   "source": [
    "def install_transform(install, inplace=False):\n",
    "\n",
    "    install['installment_payment_diff'] = install['AMT_INSTALMENT'] - install['AMT_PAYMENT']\n",
    "    install['installment_paid_in_full'] = np.where(install['installment_payment_diff'] <= 0, 1,\n",
    "                                                   np.where(install['installment_payment_diff'] > 100.00, 0, 1))\n",
    "\n",
    "    install['installment_days_diff'] = install['DAYS_INSTALMENT'] - install['DAYS_ENTRY_PAYMENT']\n",
    "    install['installment_paid_in_time'] = np.where(install['installment_days_diff'] >= 0, 1, 0)\n",
    "\n",
    "    install['install_version'] = (install['NUM_INSTALMENT_VERSION'] > 0).astype(int)\n",
    "\n",
    "    def left_skew_days(X):\n",
    "        mask = X > 0\n",
    "        X[mask] = np.NaN\n",
    "        X = np.log(1+np.max(X)-X)\n",
    "        return -X\n",
    "\n",
    "    left_skewed = ['DAYS_INSTALMENT', 'DAYS_ENTRY_PAYMENT']\n",
    "    install[left_skewed] = left_skew_days(install[left_skewed])\n",
    "    install['NUM_INSTALMENT_NUMBER'] = np.log1p(install['NUM_INSTALMENT_NUMBER'])\n",
    "\n",
    "    return install"
   ]
  },
  {
   "cell_type": "markdown",
   "id": "326eea2a-2f59-44e6-8dfb-496314990e2d",
   "metadata": {},
   "source": [
    "#### Feature Engineering"
   ]
  },
  {
   "cell_type": "code",
   "execution_count": 9,
   "id": "5a729546-542d-49ac-9918-dac33f776168",
   "metadata": {},
   "outputs": [],
   "source": [
    "def instlmntAppsFeaturesAggregater(df, inplace=False):\n",
    "    # pure state-less transformations\n",
    "    if inplace:\n",
    "        df_new = df\n",
    "    else:\n",
    "        df_new = df.copy()\n",
    "\n",
    "    aggr_df = pd.DataFrame({'SK_ID_CURR': df_new['SK_ID_CURR'].unique()})\n",
    "\n",
    "    # Compute min, max, min values\n",
    "    agg_dict = {\n",
    "        'NUM_INSTALMENT_VERSION': [\"min\", \"max\", \"mean\", \"sum\", \"var\"],\n",
    "        'NUM_INSTALMENT_NUMBER': [\"min\", \"max\", \"mean\", \"sum\", \"var\"],\n",
    "        'DAYS_INSTALMENT': [\"min\", \"max\", \"mean\", \"sum\", \"var\"],\n",
    "        'DAYS_ENTRY_PAYMENT': [\"min\", \"max\", \"mean\", \"sum\", \"var\"],\n",
    "        'AMT_INSTALMENT': [\"min\", \"max\", \"mean\", \"sum\", \"var\"],\n",
    "        'AMT_PAYMENT': [\"min\", \"max\", \"mean\", \"sum\", \"var\"],\n",
    "        'installment_payment_diff': [\"min\", \"max\", \"mean\", \"sum\", \"var\"],\n",
    "        'installment_paid_in_full': [\"mean\"],\n",
    "        'installment_days_diff': [\"min\", \"max\", \"mean\", \"sum\", \"var\"],\n",
    "        'installment_paid_in_time': [\"mean\"],\n",
    "        'install_version': [\"mean\"]\n",
    "    }\n",
    "    X = df_new.groupby([\"SK_ID_CURR\"], as_index=False).agg(agg_dict)\n",
    "    X.columns = X.columns.map(lambda col: '_'.join([x for x in col if x != '']))\n",
    "    aggr_df = aggr_df.merge(X, how='left', on='SK_ID_CURR')\n",
    "\n",
    "    return aggr_df"
   ]
  },
  {
   "cell_type": "markdown",
   "id": "4d6e384e-2aee-462a-a5b7-ece87ec1fb88",
   "metadata": {},
   "source": [
    "### credit_card_balance.csv\n",
    "#### Preprocessing"
   ]
  },
  {
   "cell_type": "code",
   "execution_count": 10,
   "id": "c62719d0-90c9-48de-b4b8-1685b3444b58",
   "metadata": {},
   "outputs": [],
   "source": [
    "def credit_transform(credit, inplace=False):\n",
    "\n",
    "    # # Amount used from limit\n",
    "    # credit['limit_use'] = credit['AMT_BALANCE'] / (1+credit['AMT_CREDIT_LIMIT_ACTUAL'])\n",
    "    # # Current payment / Min payment\n",
    "    # credit['payment_div_min'] = credit['AMT_PAYMENT_CURRENT'] / (1+credit['AMT_INST_MIN_REGULARITY'])\n",
    "    # # Late payment <-- 'CARD_IS_DPD'\n",
    "    # credit['late_payment'] = credit['SK_DPD'].apply(lambda x: 1 if x > 0 else 0)\n",
    "    # # How much drawing of limit\n",
    "    # credit['drawing_limit_ratio'] = credit['AMT_DRAWINGS_ATM_CURRENT'] / (1+credit['AMT_CREDIT_LIMIT_ACTUAL'])\n",
    "\n",
    "    def right_skew(X): return np.log1p(X)\n",
    "\n",
    "    right_skewed = ['AMT_BALANCE', 'AMT_CREDIT_LIMIT_ACTUAL', 'AMT_RECEIVABLE_PRINCIPAL', 'AMT_RECIVABLE',\n",
    "                    'AMT_TOTAL_RECEIVABLE', 'CNT_INSTALMENT_MATURE_CUM']\n",
    "    credit[right_skewed] = right_skew(credit[right_skewed])\n",
    "\n",
    "    return credit"
   ]
  },
  {
   "cell_type": "markdown",
   "id": "9ec2f0f7-b253-4a79-9f57-9da1cefcc9f3",
   "metadata": {},
   "source": [
    "#### Feature Engineering"
   ]
  },
  {
   "cell_type": "code",
   "execution_count": 11,
   "id": "8e21f7fc-f1b0-4921-986b-c47ff3790676",
   "metadata": {},
   "outputs": [],
   "source": [
    "def creditAppsFeaturesAggregater(df, inplace=False):\n",
    "    # pure state-less transformations\n",
    "    if inplace:\n",
    "        df_new = df\n",
    "    else:\n",
    "        df_new = df.copy()\n",
    "\n",
    "    aggr_df = pd.DataFrame({'SK_ID_CURR': df_new['SK_ID_CURR'].unique()})\n",
    "\n",
    "    # Compute min, max, min values\n",
    "    agg_dict = {\n",
    "        'AMT_BALANCE': [\"min\", \"max\", \"mean\", \"sum\", \"var\"],\n",
    "        'AMT_CREDIT_LIMIT_ACTUAL': [\"min\", \"max\", \"mean\", \"sum\", \"var\"],\n",
    "        'AMT_DRAWINGS_ATM_CURRENT': [\"min\", \"max\", \"mean\", \"sum\", \"var\"],\n",
    "        'AMT_DRAWINGS_CURRENT': [\"min\", \"max\", \"mean\", \"sum\", \"var\"],\n",
    "        'AMT_DRAWINGS_OTHER_CURRENT': [\"min\", \"max\", \"mean\", \"sum\", \"var\"],\n",
    "        'AMT_DRAWINGS_POS_CURRENT': [\"min\", \"max\", \"mean\", \"sum\", \"var\"],\n",
    "        'AMT_INST_MIN_REGULARITY': [\"min\", \"max\", \"mean\", \"sum\", \"var\"],\n",
    "        'AMT_PAYMENT_CURRENT': [\"min\", \"max\", \"mean\", \"sum\", \"var\"],\n",
    "        'AMT_PAYMENT_TOTAL_CURRENT': [\"min\", \"max\", \"mean\", \"sum\", \"var\"],\n",
    "        'AMT_RECEIVABLE_PRINCIPAL': [\"min\", \"max\", \"mean\", \"sum\", \"var\"],\n",
    "        'AMT_RECIVABLE': [\"min\", \"max\", \"mean\", \"sum\", \"var\"],\n",
    "        'AMT_TOTAL_RECEIVABLE': [\"min\", \"max\", \"mean\", \"sum\", \"var\"],\n",
    "        'CNT_DRAWINGS_ATM_CURRENT': [\"min\", \"max\", \"mean\", \"sum\", \"var\"],\n",
    "        'CNT_DRAWINGS_CURRENT': [\"min\", \"max\", \"mean\", \"sum\", \"var\"],\n",
    "        'CNT_DRAWINGS_OTHER_CURRENT': [\"min\", \"max\", \"mean\", \"sum\", \"var\"],\n",
    "        'CNT_DRAWINGS_POS_CURRENT': [\"min\", \"max\", \"mean\", \"sum\", \"var\"],\n",
    "        'CNT_INSTALMENT_MATURE_CUM': [\"min\", \"max\", \"mean\", \"sum\", \"var\"],\n",
    "        # 'limit_use': [\"min\", \"max\", \"mean\", \"sum\", \"var\"],\n",
    "        # 'payment_div_min': [\"min\", \"max\", \"mean\", \"sum\", \"var\"],\n",
    "        # 'late_payment': [\"mean\"],\n",
    "        # 'drawing_limit_ratio': [\"min\", \"max\", \"mean\", \"sum\", \"var\"]\n",
    "    }\n",
    "    X = df_new.groupby([\"SK_ID_CURR\"], as_index=False).agg(agg_dict)\n",
    "    X.columns = X.columns.map(lambda col: '_'.join([x for x in col if x != '']))\n",
    "    aggr_df = aggr_df.merge(X, how='left', on='SK_ID_CURR')\n",
    "\n",
    "    return aggr_df"
   ]
  },
  {
   "cell_type": "markdown",
   "id": "9d64cb08-2716-4f9d-a3b3-8c83857af223",
   "metadata": {},
   "source": [
    "### bureau.csv and bureau_balance.csv"
   ]
  },
  {
   "cell_type": "code",
   "execution_count": 12,
   "id": "c56693bb-debf-4554-984d-d01f56e35e0e",
   "metadata": {},
   "outputs": [],
   "source": [
    "def bureauAppsFeaturesAggregater(df, inplace=False):\n",
    "    # pure state-less transformations\n",
    "    if inplace:\n",
    "        df_new = df\n",
    "    else:\n",
    "        df_new = df.copy()\n",
    "\n",
    "    aggr_df = pd.DataFrame({'SK_ID_CURR': df_new['SK_ID_CURR'].unique()})\n",
    "\n",
    "    # Compute min, max, min values\n",
    "    agg_ops = agg_ops = [\"min\", \"max\", \"mean\", \"sum\"]\n",
    "    features = ['AMT_CREDIT_SUM', 'DAYS_CREDIT', 'DAYS_CREDIT_UPDATE', 'DAYS_CREDIT_ENDDATE']\n",
    "    X = df_new.groupby([\"SK_ID_CURR\"], as_index=False).agg({ft: agg_ops for ft in features})\n",
    "    X.columns = X.columns.map(lambda col: '_'.join([x for x in col if x != '']))\n",
    "    aggr_df = aggr_df.merge(X, how='left', on='SK_ID_CURR')\n",
    "\n",
    "    return aggr_df"
   ]
  },
  {
   "cell_type": "markdown",
   "id": "7ab905ac-deb4-4b63-831e-1082fce3a2c0",
   "metadata": {},
   "source": [
    "## Pipeline"
   ]
  },
  {
   "cell_type": "code",
   "execution_count": 13,
   "id": "57727b5c-aa94-4f21-a259-5ac64b50b48f",
   "metadata": {},
   "outputs": [],
   "source": [
    "def make_prep_pipeline(num_selected=None, cat_selected=None):\n",
    "    num_pipeline = Pipeline([\n",
    "        ('new_features', FunctionTransformer(add_new_features)),\n",
    "        ('selector', DataFrameSelector(num_selected)),\n",
    "        ('imputer', SimpleImputer(strategy='mean')),\n",
    "        ('std_scaler', StandardScaler()),\n",
    "    ])\n",
    "    cat_pipeline = Pipeline([\n",
    "        ('selector', DataFrameSelector(cat_selected)),\n",
    "        #('imputer', SimpleImputer(strategy='most_frequent')),\n",
    "        ('imputer', SimpleImputer(strategy='constant', fill_value='missing')),\n",
    "        ('ohe', OneHotEncoder(sparse=False, handle_unknown=\"ignore\"))\n",
    "    ])\n",
    "\n",
    "    data_prep_pipeline = FeatureUnion(transformer_list=[\n",
    "        (\"num_pipeline\", num_pipeline),\n",
    "        (\"cat_pipeline\", cat_pipeline)\n",
    "    ])\n",
    "    return data_prep_pipeline"
   ]
  },
  {
   "cell_type": "markdown",
   "id": "af01e1dd-b97f-4503-b369-2984977de400",
   "metadata": {},
   "source": [
    "### Load, Preprocess and Aggregate Data"
   ]
  },
  {
   "cell_type": "code",
   "execution_count": 14,
   "id": "db36b00a-e030-4f8f-bdc3-0bdb729be699",
   "metadata": {},
   "outputs": [],
   "source": [
    "def load_process_data():\n",
    "    # load data\n",
    "    DATA_DIR = \"../data\"\n",
    "    # ds_names = (\"application_train\", \"application_test\", \"bureau\",\"bureau_balance\",\"credit_card_balance\",\"installments_payments\",\n",
    "    #             \"previous_application\",\"POS_CASH_balance\")\n",
    "    ds_names = (\"application_train\", \"application_test\", \"bureau\", \"credit_card_balance\", \"installments_payments\",\n",
    "                \"previous_application\", \"POS_CASH_balance\")\n",
    "    datasets = load_datasets(DATA_DIR, ds_names)\n",
    "    print('loaded data')\n",
    "\n",
    "    # Preparing data\n",
    "    appl_train = datasets['application_train']\n",
    "    prevData_aggr = prevAppsFeaturesAggregater(datasets['previous_application'])\n",
    "\n",
    "    # bureau\n",
    "    bureauData_aggr = bureauAppsFeaturesAggregater(datasets['bureau'])\n",
    "    data_aggr = appl_train.merge(prevData_aggr, how='left', on=['SK_ID_CURR'])\n",
    "    data_aggr = data_aggr.merge(bureauData_aggr, how='left', on=['SK_ID_CURR'])\n",
    "\n",
    "    # cash\n",
    "    cash = datasets['POS_CASH_balance']\n",
    "    cashData_aggr = cashAppsFeaturesAggregater(cash_transform(cash))\n",
    "    data_aggr = data_aggr.merge(cashData_aggr, how='left', on=['SK_ID_CURR'])\n",
    "    install = datasets['installments_payments']\n",
    "    instlmntData_aggr = instlmntAppsFeaturesAggregater(install_transform(install))\n",
    "    data_aggr = data_aggr.merge(instlmntData_aggr, how='left', on=['SK_ID_CURR'])\n",
    "    credit = datasets['credit_card_balance']\n",
    "    creditData_aggr = creditAppsFeaturesAggregater(credit_transform(credit))\n",
    "\n",
    "    data_aggr = data_aggr.merge(creditData_aggr, how='left', on=['SK_ID_CURR'])\n",
    "    impute_zero = ['OWN_CAR_AGE', 'previous_applications_count', 'prev_applications_approved',\n",
    "                   'prev_applications_refused', 'prev_applications_invalid', 'prevAppl_last_approved']\n",
    "    processed_data = preprocessing_transformations(data_aggr, impute_zero=impute_zero)\n",
    "    \n",
    "    \n",
    "    # test data preprocessing\n",
    "    \n",
    "    app_test = datasets['application_test']\n",
    "    app_test_aggr = app_test.merge(prevData_aggr, how='left', on=['SK_ID_CURR'])\n",
    "    app_test_aggr = app_test_aggr.merge(bureauData_aggr, how='left', on=['SK_ID_CURR'])\n",
    "    app_test_aggr = app_test_aggr.merge(cashData_aggr, how='left', on=['SK_ID_CURR'])\n",
    "    app_test_aggr = app_test_aggr.merge(instlmntData_aggr, how='left', on=['SK_ID_CURR'])\n",
    "    app_test_aggr = app_test_aggr.merge(creditData_aggr, how='left', on=['SK_ID_CURR'])\n",
    "    processed_test_data = preprocessing_transformations(app_test_aggr, impute_zero=impute_zero)\n",
    "\n",
    "    # training\n",
    "\n",
    "    app_num_attribs = ['AMT_INCOME_TOTAL', 'AMT_ANNUITY', 'AMT_GOODS_PRICE', 'AMT_CREDIT', 'REGION_POPULATION_RELATIVE',\n",
    "                       'DAYS_EMPLOYED', 'DAYS_BIRTH', 'EXT_SOURCE_1', 'EXT_SOURCE_2', 'EXT_SOURCE_3', 'DAYS_ID_PUBLISH',\n",
    "                       'DAYS_REGISTRATION', 'DAYS_LAST_PHONE_CHANGE', 'OWN_CAR_AGE', 'OBS_30_CNT_SOCIAL_CIRCLE',\n",
    "                       'DEF_30_CNT_SOCIAL_CIRCLE', 'OBS_60_CNT_SOCIAL_CIRCLE', 'DEF_60_CNT_SOCIAL_CIRCLE',\n",
    "                       'AMT_REQ_CREDIT_BUREAU_HOUR', 'AMT_REQ_CREDIT_BUREAU_DAY', 'AMT_REQ_CREDIT_BUREAU_WEEK',\n",
    "                       'AMT_REQ_CREDIT_BUREAU_MON', 'AMT_REQ_CREDIT_BUREAU_QRT', 'AMT_REQ_CREDIT_BUREAU_YEAR',\n",
    "                       'CNT_CHILDREN', 'CNT_FAM_MEMBERS', 'REGION_RATING_CLIENT', 'REGION_RATING_CLIENT_W_CITY',\n",
    "                       'HOUR_APPR_PROCESS_START']\n",
    "    new_app_attribs = [\n",
    "        'annuity_income_percentage', 'car_to_birth_ratio', 'car_to_employ_ratio', 'children_ratio',\n",
    "        'credit_to_annuity_ratio', 'credit_to_goods_ratio', 'credit_to_income_ratio', 'days_employed_percentage',\n",
    "        'income_credit_percentage', 'income_per_child', 'income_per_person', 'payment_rate', 'phone_to_birth_ratio',\n",
    "        'phone_to_employ_ratio', 'external_source_mean', 'cnt_non_child', 'child_to_non_child_ratio',\n",
    "        'income_per_non_child', 'credit_per_person', 'credit_per_child', 'credit_per_non_child']\n",
    "    prev_aggr_attribs = prevData_aggr.columns.to_list()\n",
    "    bureau_aggr_attribs = bureauData_aggr.columns.to_list()\n",
    "    cash_columns = cashData_aggr.columns.to_list()\n",
    "    install_columns = instlmntData_aggr.columns.to_list()\n",
    "    credit_columns = creditData_aggr.columns.to_list()\n",
    "\n",
    "    app_cat_attribs = [\n",
    "        'NAME_CONTRACT_TYPE', 'CODE_GENDER', 'FLAG_OWN_CAR', 'FLAG_OWN_REALTY', 'NAME_TYPE_SUITE', 'NAME_INCOME_TYPE',\n",
    "        'NAME_EDUCATION_TYPE', 'NAME_FAMILY_STATUS', 'NAME_HOUSING_TYPE', 'OCCUPATION_TYPE', 'HOUSETYPE_MODE',\n",
    "        'WALLSMATERIAL_MODE', 'EMERGENCYSTATE_MODE', 'WEEKDAY_APPR_PROCESS_START', 'ORGANIZATION_TYPE', 'FLAG_MOBIL',\n",
    "        'FLAG_EMP_PHONE', 'FLAG_WORK_PHONE', 'FLAG_CONT_MOBILE', 'FLAG_PHONE', 'FLAG_EMAIL',\n",
    "        'REG_REGION_NOT_LIVE_REGION', 'REG_REGION_NOT_WORK_REGION', 'LIVE_REGION_NOT_WORK_REGION',\n",
    "        'REG_CITY_NOT_LIVE_CITY', 'REG_CITY_NOT_WORK_CITY', 'LIVE_CITY_NOT_WORK_CITY', 'FLAG_DOCUMENT_2',\n",
    "        'FLAG_DOCUMENT_3', 'FLAG_DOCUMENT_4', 'FLAG_DOCUMENT_5', 'FLAG_DOCUMENT_6', 'FLAG_DOCUMENT_7',\n",
    "        'FLAG_DOCUMENT_8', 'FLAG_DOCUMENT_9', 'FLAG_DOCUMENT_10', 'FLAG_DOCUMENT_11', 'FLAG_DOCUMENT_12',\n",
    "        'FLAG_DOCUMENT_13', 'FLAG_DOCUMENT_14', 'FLAG_DOCUMENT_15', 'FLAG_DOCUMENT_16', 'FLAG_DOCUMENT_17',\n",
    "        'FLAG_DOCUMENT_18', 'FLAG_DOCUMENT_19', 'FLAG_DOCUMENT_20', 'FLAG_DOCUMENT_21']\n",
    "\n",
    "    num_attribs = app_num_attribs + new_app_attribs + prev_aggr_attribs + bureau_aggr_attribs + cash_columns + install_columns + credit_columns\n",
    "\n",
    "    cat_attribs = app_cat_attribs\n",
    "\n",
    "    return (processed_data, processed_test_data, num_attribs, cat_attribs)\n"
   ]
  },
  {
   "cell_type": "code",
   "execution_count": 15,
   "id": "8584c0d4-2e21-471d-85ff-d571930f9b83",
   "metadata": {},
   "outputs": [
    {
     "name": "stdout",
     "output_type": "stream",
     "text": [
      "loaded data\n"
     ]
    },
    {
     "name": "stderr",
     "output_type": "stream",
     "text": [
      "/var/folders/nl/pxf72qk574l1rzzh347l6x2w0000gn/T/ipykernel_16172/1209287635.py:3: SettingWithCopyWarning: \n",
      "A value is trying to be set on a copy of a slice from a DataFrame.\n",
      "Try using .loc[row_indexer,col_indexer] = value instead\n",
      "\n",
      "See the caveats in the documentation: https://pandas.pydata.org/pandas-docs/stable/user_guide/indexing.html#returning-a-view-versus-a-copy\n",
      "  X[mask] = np.NaN\n",
      "/Users/deepakduggirala/miniforge3/lib/python3.9/site-packages/pandas/core/frame.py:3713: SettingWithCopyWarning: \n",
      "A value is trying to be set on a copy of a slice from a DataFrame\n",
      "\n",
      "See the caveats in the documentation: https://pandas.pydata.org/pandas-docs/stable/user_guide/indexing.html#returning-a-view-versus-a-copy\n",
      "  self._where(-key, value, inplace=True)\n",
      "/var/folders/nl/pxf72qk574l1rzzh347l6x2w0000gn/T/ipykernel_16172/3953342808.py:8: SettingWithCopyWarning: \n",
      "A value is trying to be set on a copy of a slice from a DataFrame\n",
      "\n",
      "See the caveats in the documentation: https://pandas.pydata.org/pandas-docs/stable/user_guide/indexing.html#returning-a-view-versus-a-copy\n",
      "  X[mask] = np.NaN\n",
      "/var/folders/nl/pxf72qk574l1rzzh347l6x2w0000gn/T/ipykernel_16172/3002739713.py:14: SettingWithCopyWarning: \n",
      "A value is trying to be set on a copy of a slice from a DataFrame.\n",
      "Try using .loc[row_indexer,col_indexer] = value instead\n",
      "\n",
      "See the caveats in the documentation: https://pandas.pydata.org/pandas-docs/stable/user_guide/indexing.html#returning-a-view-versus-a-copy\n",
      "  X[mask] = np.NaN\n",
      "/var/folders/nl/pxf72qk574l1rzzh347l6x2w0000gn/T/ipykernel_16172/1209287635.py:3: SettingWithCopyWarning: \n",
      "A value is trying to be set on a copy of a slice from a DataFrame.\n",
      "Try using .loc[row_indexer,col_indexer] = value instead\n",
      "\n",
      "See the caveats in the documentation: https://pandas.pydata.org/pandas-docs/stable/user_guide/indexing.html#returning-a-view-versus-a-copy\n",
      "  X[mask] = np.NaN\n",
      "/Users/deepakduggirala/miniforge3/lib/python3.9/site-packages/pandas/core/frame.py:3713: SettingWithCopyWarning: \n",
      "A value is trying to be set on a copy of a slice from a DataFrame\n",
      "\n",
      "See the caveats in the documentation: https://pandas.pydata.org/pandas-docs/stable/user_guide/indexing.html#returning-a-view-versus-a-copy\n",
      "  self._where(-key, value, inplace=True)\n"
     ]
    }
   ],
   "source": [
    "processed_data, processed_test_data, num_attribs, cat_attribs = load_process_data()"
   ]
  },
  {
   "cell_type": "code",
   "execution_count": 16,
   "id": "8f4f94a9-1d5f-4bde-8bf8-c1e8c2080759",
   "metadata": {},
   "outputs": [],
   "source": [
    "y = processed_data['TARGET']\n",
    "X = processed_data\n",
    "X_train, X_test, y_train, y_test = train_test_split(X, y, test_size=0.4, random_state=42)\n",
    "X_valid, X_test, y_valid, y_test = train_test_split(X_test, y_test, test_size=0.5, random_state=42)\n",
    "data_prep_pipeline = make_prep_pipeline(num_attribs, cat_attribs)"
   ]
  },
  {
   "cell_type": "code",
   "execution_count": 17,
   "id": "f7773ff1-dde5-4388-a3dc-7b0d82b99dc8",
   "metadata": {},
   "outputs": [
    {
     "data": {
      "text/plain": [
       "((184506, 354), (61502, 354), (61503, 354))"
      ]
     },
     "execution_count": 17,
     "metadata": {},
     "output_type": "execute_result"
    }
   ],
   "source": [
    "X_train.shape, X_valid.shape, X_test.shape"
   ]
  },
  {
   "cell_type": "markdown",
   "id": "1d782d2e-a90b-4432-888d-78d1e7b06e66",
   "metadata": {
    "tags": []
   },
   "source": [
    "## Feature Selection"
   ]
  },
  {
   "cell_type": "code",
   "execution_count": null,
   "id": "ac18d4df-ebe4-4db1-adf3-a6a3a66bc7e7",
   "metadata": {},
   "outputs": [],
   "source": [
    "%%time\n",
    "np.random.seed(42)\n",
    "pipeline_with_selector = Pipeline([\n",
    "    (\"preparation\", data_prep_pipeline),\n",
    "    (\"feature_selector\", SelectFromModel(LogisticRegressionCV(\n",
    "        C=np.logspace(-4, -1, 32),\n",
    "        penalty='l1',\n",
    "        solver='liblinear',\n",
    "        class_weight='balanced',\n",
    "        max_iter=1000,\n",
    "        random_state=0))),\n",
    "])\n",
    "\n",
    "# _ = pipeline_with_selector.fit(X_train, y_train)"
   ]
  },
  {
   "cell_type": "code",
   "execution_count": 18,
   "id": "f759ec35-cf58-44bf-9187-ba8f2fb3fe3a",
   "metadata": {},
   "outputs": [
    {
     "name": "stdout",
     "output_type": "stream",
     "text": [
      "CPU times: user 31.7 s, sys: 1.76 s, total: 33.5 s\n",
      "Wall time: 34 s\n"
     ]
    }
   ],
   "source": [
    "%%time\n",
    "np.random.seed(42)\n",
    "pipeline_with_selector = Pipeline([\n",
    "    (\"preparation\", data_prep_pipeline),\n",
    "    (\"feature_selector\", SelectFromModel(LogisticRegression(\n",
    "        C=0.006,\n",
    "        penalty='l1',\n",
    "        solver='liblinear',\n",
    "        class_weight='balanced',\n",
    "        max_iter=1000,\n",
    "        random_state=0))),\n",
    "])\n",
    "\n",
    "_ = pipeline_with_selector.fit(X_train, y_train)"
   ]
  },
  {
   "cell_type": "code",
   "execution_count": 19,
   "id": "0d99983b-68bd-408d-aa1c-63a57a988043",
   "metadata": {},
   "outputs": [
    {
     "name": "stdout",
     "output_type": "stream",
     "text": [
      "features: 491, num_attribs: 287, cat_features: 204\n",
      "attribs: 334, features: 491, selected_features=173\n"
     ]
    }
   ],
   "source": [
    "cat_pipeline = data_prep_pipeline.transformer_list[1][1]\n",
    "cat_features = [f'{base}_{c}'for base, ohe_c in zip(\n",
    "    cat_attribs, cat_pipeline.named_steps['ohe'].categories_) for c in ohe_c]\n",
    "features = num_attribs + cat_features\n",
    "print(f'features: {len(features)}, num_attribs: {len(num_attribs)}, cat_features: {len(cat_features)}')\n",
    "\n",
    "selector_model = pipeline_with_selector.named_steps['feature_selector']\n",
    "selected_features = list(np.array(features)[selector_model.get_support()])\n",
    "print(f'attribs: {len(num_attribs + cat_attribs)}, features: {len(features)}, selected_features={len(selected_features)}')\n",
    "\n",
    "selected_attribs = set([f if f in num_attribs else '_'.join(f.split('_')[:-1]) for f in selected_features])\n",
    "unused_attribs = set(num_attribs+cat_attribs) - selected_attribs"
   ]
  },
  {
   "cell_type": "code",
   "execution_count": 20,
   "id": "c917b192-61ab-4d19-b82b-8e7fbd8e775e",
   "metadata": {},
   "outputs": [],
   "source": [
    "selected_attribs = set([f if f in num_attribs else '_'.join(f.split('_')[:-1]) for f in selected_features])\n",
    "unused_attribs = set(num_attribs+cat_attribs) - selected_attribs\n",
    "\n",
    "# print('\\n\\n\\nselected')\n",
    "# print(selected_attribs)\n",
    "\n",
    "# print('\\n\\n\\nunused')\n",
    "# print(unused_attribs)"
   ]
  },
  {
   "cell_type": "code",
   "execution_count": 21,
   "id": "79532de4-493f-4e91-81c6-c168c5bc7034",
   "metadata": {},
   "outputs": [
    {
     "data": {
      "text/plain": [
       "((184506, 173), (61502, 173), (61503, 173))"
      ]
     },
     "execution_count": 21,
     "metadata": {},
     "output_type": "execute_result"
    }
   ],
   "source": [
    "X_train_xfm = pipeline_with_selector.transform(X_train)\n",
    "X_valid_xfm = pipeline_with_selector.transform(X_valid)\n",
    "X_test_xfm = pipeline_with_selector.transform(X_test)\n",
    "X_train_xfm.shape, X_valid_xfm.shape, X_test_xfm.shape"
   ]
  },
  {
   "cell_type": "code",
   "execution_count": 22,
   "id": "fb3f3ca1-b8d0-4bb9-8a44-5dd5a9d685f5",
   "metadata": {},
   "outputs": [
    {
     "data": {
      "text/html": [
       "<div>\n",
       "<style scoped>\n",
       "    .dataframe tbody tr th:only-of-type {\n",
       "        vertical-align: middle;\n",
       "    }\n",
       "\n",
       "    .dataframe tbody tr th {\n",
       "        vertical-align: top;\n",
       "    }\n",
       "\n",
       "    .dataframe thead th {\n",
       "        text-align: right;\n",
       "    }\n",
       "</style>\n",
       "<table border=\"1\" class=\"dataframe\">\n",
       "  <thead>\n",
       "    <tr style=\"text-align: right;\">\n",
       "      <th></th>\n",
       "      <th>Imp</th>\n",
       "    </tr>\n",
       "  </thead>\n",
       "  <tbody>\n",
       "    <tr>\n",
       "      <th>EXT_SOURCE_3</th>\n",
       "      <td>0.036947</td>\n",
       "    </tr>\n",
       "    <tr>\n",
       "      <th>FLAG_OWN_CAR_Y</th>\n",
       "      <td>0.035180</td>\n",
       "    </tr>\n",
       "    <tr>\n",
       "      <th>CODE_GENDER_F</th>\n",
       "      <td>0.034490</td>\n",
       "    </tr>\n",
       "    <tr>\n",
       "      <th>external_source_mean</th>\n",
       "      <td>0.031756</td>\n",
       "    </tr>\n",
       "    <tr>\n",
       "      <th>EXT_SOURCE_2</th>\n",
       "      <td>0.029243</td>\n",
       "    </tr>\n",
       "    <tr>\n",
       "      <th>...</th>\n",
       "      <td>...</td>\n",
       "    </tr>\n",
       "    <tr>\n",
       "      <th>AMT_INST_MIN_REGULARITY_var</th>\n",
       "      <td>0.000000</td>\n",
       "    </tr>\n",
       "    <tr>\n",
       "      <th>AMT_INST_MIN_REGULARITY_min</th>\n",
       "      <td>0.000000</td>\n",
       "    </tr>\n",
       "    <tr>\n",
       "      <th>AMT_DRAWINGS_POS_CURRENT_sum</th>\n",
       "      <td>0.000000</td>\n",
       "    </tr>\n",
       "    <tr>\n",
       "      <th>AMT_DRAWINGS_POS_CURRENT_mean</th>\n",
       "      <td>0.000000</td>\n",
       "    </tr>\n",
       "    <tr>\n",
       "      <th>FLAG_DOCUMENT_21_1</th>\n",
       "      <td>0.000000</td>\n",
       "    </tr>\n",
       "  </tbody>\n",
       "</table>\n",
       "<p>491 rows × 1 columns</p>\n",
       "</div>"
      ],
      "text/plain": [
       "                                    Imp\n",
       "EXT_SOURCE_3                   0.036947\n",
       "FLAG_OWN_CAR_Y                 0.035180\n",
       "CODE_GENDER_F                  0.034490\n",
       "external_source_mean           0.031756\n",
       "EXT_SOURCE_2                   0.029243\n",
       "...                                 ...\n",
       "AMT_INST_MIN_REGULARITY_var    0.000000\n",
       "AMT_INST_MIN_REGULARITY_min    0.000000\n",
       "AMT_DRAWINGS_POS_CURRENT_sum   0.000000\n",
       "AMT_DRAWINGS_POS_CURRENT_mean  0.000000\n",
       "FLAG_DOCUMENT_21_1             0.000000\n",
       "\n",
       "[491 rows x 1 columns]"
      ]
     },
     "execution_count": 22,
     "metadata": {},
     "output_type": "execute_result"
    }
   ],
   "source": [
    "importances = pd.DataFrame(selector_model.estimator_.coef_.T/np.sum(np.abs(selector_model.estimator_.coef_)), \n",
    "                           index=features,\n",
    "                           columns=['Imp']).abs().sort_values(by='Imp', ascending=False)\n",
    "importances"
   ]
  },
  {
   "cell_type": "code",
   "execution_count": null,
   "id": "1271ab39-6a24-4065-a4d7-ea8853604586",
   "metadata": {},
   "outputs": [],
   "source": [
    "importances.to_csv('importances.csv')"
   ]
  },
  {
   "cell_type": "markdown",
   "id": "ca2dd546-0a33-4d77-9c81-1423e3b700a0",
   "metadata": {},
   "source": [
    "## Models Explored"
   ]
  },
  {
   "cell_type": "code",
   "execution_count": null,
   "id": "3467f5cb-054b-475b-9ae8-aabb48529bb6",
   "metadata": {},
   "outputs": [],
   "source": [
    "#del expLog"
   ]
  },
  {
   "cell_type": "code",
   "execution_count": 23,
   "id": "374bd851-90fa-46c6-a252-0365f30231da",
   "metadata": {},
   "outputs": [],
   "source": [
    "from sklearn.metrics import accuracy_score\n",
    "from sklearn.metrics import roc_auc_score\n",
    "\n",
    "try:\n",
    "    expLog\n",
    "except NameError:\n",
    "    expLog = pd.DataFrame(columns=[\"exp_name\", \n",
    "                                   \"Train Acc\", \n",
    "                                   \"Valid Acc\",\n",
    "                                   \"Test  Acc\",\n",
    "                                   \"Train AUC\", \n",
    "                                   \"Valid AUC\",\n",
    "                                   \"Test  AUC\"\n",
    "                                  ])\n",
    "def log_exp(res, name):\n",
    "    y_train_pred_proba, y_valid_pred_proba, y_test_pred_proba = res\n",
    "    y_train_pred = y_train_pred_proba > 0.5\n",
    "    y_valid_pred = y_valid_pred_proba > 0.5\n",
    "    y_test_pred = y_test_pred_proba > 0.5\n",
    "\n",
    "    exp_name = f\"{name}_{len(selected_features)}_features\"\n",
    "    expLog.loc[len(expLog)] = [f\"{exp_name}\"] + list(np.round(\n",
    "                   [accuracy_score(y_train, y_train_pred), \n",
    "                    accuracy_score(y_valid, y_valid_pred),\n",
    "                    accuracy_score(y_test, y_test_pred),\n",
    "                    roc_auc_score(y_train, y_train_pred_proba),\n",
    "                    roc_auc_score(y_valid, y_valid_pred_proba),\n",
    "                    roc_auc_score(y_test, y_test_pred_proba)],\n",
    "        4)) "
   ]
  },
  {
   "cell_type": "code",
   "execution_count": null,
   "id": "95ddca21-9f0c-478a-b9a6-19b605824939",
   "metadata": {},
   "outputs": [],
   "source": [
    "baseline_results = {}"
   ]
  },
  {
   "cell_type": "markdown",
   "id": "aced7009-544b-4b2d-aa2c-eb07de69b41a",
   "metadata": {},
   "source": [
    "### Logistic Regression"
   ]
  },
  {
   "cell_type": "code",
   "execution_count": null,
   "id": "7ff63e18-f02b-4729-911f-2366c5ba110c",
   "metadata": {},
   "outputs": [],
   "source": [
    "%%time\n",
    "model = LogisticRegression(max_iter=1000, class_weight='balanced')\n",
    "model.fit(X_train_xfm, y_train)"
   ]
  },
  {
   "cell_type": "code",
   "execution_count": null,
   "id": "1eb1fdfc-7750-41e8-ba41-187b690a9fb6",
   "metadata": {},
   "outputs": [],
   "source": [
    "y_train_pred_proba = model.predict_proba(X_train_xfm)[:, 1]\n",
    "y_valid_pred_proba = model.predict_proba(X_valid_xfm)[:, 1]\n",
    "y_test_pred_proba = model.predict_proba(X_test_xfm)[:, 1]\n",
    "baseline_results['lr'] = (y_train_pred_proba, y_valid_pred_proba, y_test_pred_proba)\n",
    "\n",
    "log_exp(baseline_results['lr'], 'logistic_reg_baseline')\n",
    "expLog"
   ]
  },
  {
   "cell_type": "markdown",
   "id": "1b7bcbb4-2e6d-454a-b6b4-17839e0b088b",
   "metadata": {},
   "source": [
    "### K Nearest Neighbors Classifier"
   ]
  },
  {
   "cell_type": "code",
   "execution_count": null,
   "id": "40f131eb-cd7a-4a29-90e2-c3380eedfcf6",
   "metadata": {},
   "outputs": [],
   "source": [
    "%%time\n",
    "model = KNeighborsClassifier(n_jobs=-1)\n",
    "model.fit(X_train_xfm, y_train)"
   ]
  },
  {
   "cell_type": "code",
   "execution_count": null,
   "id": "060f7575-113c-442f-950b-cc8406f9bab7",
   "metadata": {},
   "outputs": [],
   "source": [
    "%%time\n",
    "y_train_pred_proba = model.predict_proba(X_train_xfm)[:, 1]\n",
    "y_valid_pred_proba = model.predict_proba(X_valid_xfm)[:, 1]\n",
    "y_test_pred_proba = model.predict_proba(X_test_xfm)[:, 1]\n",
    "baseline_results['knn'] = (y_train_pred_proba, y_valid_pred_proba, y_test_pred_proba)\n",
    "\n",
    "log_exp(baseline_results['knn'], 'knn_baseline')\n",
    "expLog"
   ]
  },
  {
   "cell_type": "markdown",
   "id": "a79ee2d8-4ec0-4d87-9c00-992d6b784528",
   "metadata": {},
   "source": [
    "### Linear SVM Classifier"
   ]
  },
  {
   "cell_type": "code",
   "execution_count": null,
   "id": "39dcb000-07c5-402e-8ae9-f405f8e49b23",
   "metadata": {
    "tags": []
   },
   "outputs": [],
   "source": [
    "%%time\n",
    "model = LinearSVC(class_weight='balanced', random_state=0, dual=False)\n",
    "model.fit(X_train_xfm, y_train)\n",
    "\n",
    "calib_model = CalibratedClassifierCV(base_estimator=model, method='isotonic', cv='prefit')\n",
    "calib_model.fit(X_valid_xfm, y_valid)"
   ]
  },
  {
   "cell_type": "code",
   "execution_count": null,
   "id": "b9f5b7e9-4692-4562-9b44-727fbf276331",
   "metadata": {},
   "outputs": [],
   "source": [
    "%%time\n",
    "y_train_pred_proba = calib_model.predict_proba(X_train_xfm)[:, 1]\n",
    "y_valid_pred_proba = calib_model.predict_proba(X_valid_xfm)[:, 1]\n",
    "y_test_pred_proba = calib_model.predict_proba(X_test_xfm)[:, 1]\n",
    "baseline_results['lsvc'] = (y_train_pred_proba, y_valid_pred_proba, y_test_pred_proba)\n",
    "\n",
    "log_exp(baseline_results['lsvc'], 'lsvc_baseline')\n",
    "expLog"
   ]
  },
  {
   "cell_type": "markdown",
   "id": "9ab4f118-4cb8-454a-84d5-d07bcd8e941c",
   "metadata": {
    "tags": []
   },
   "source": [
    "### Random Forest Classifier"
   ]
  },
  {
   "cell_type": "code",
   "execution_count": null,
   "id": "ccfd2128-a8cf-4a1d-ae11-d444c8b2d189",
   "metadata": {},
   "outputs": [],
   "source": [
    "%%time\n",
    "model = RandomForestClassifier(class_weight=\"balanced\", random_state=0)\n",
    "model.fit(X_train_xfm, y_train)"
   ]
  },
  {
   "cell_type": "code",
   "execution_count": null,
   "id": "d605b775-22df-43a7-95dc-d7bd685ef8f3",
   "metadata": {},
   "outputs": [],
   "source": [
    "%%time\n",
    "y_train_pred_proba = model.predict_proba(X_train_xfm)[:, 1]\n",
    "y_valid_pred_proba = model.predict_proba(X_valid_xfm)[:, 1]\n",
    "y_test_pred_proba = model.predict_proba(X_test_xfm)[:, 1]\n",
    "baseline_results['rfc'] = (y_train_pred_proba, y_valid_pred_proba, y_test_pred_proba)\n",
    "\n",
    "log_exp(baseline_results['rfc'], 'rfc_baseline')\n",
    "expLog"
   ]
  },
  {
   "cell_type": "markdown",
   "id": "2842549d-52cb-4ee9-9b4a-e1bc8f667adc",
   "metadata": {},
   "source": [
    "### AdaBoost Classifier"
   ]
  },
  {
   "cell_type": "code",
   "execution_count": null,
   "id": "4c3854e7-53b3-4062-8ebe-79d5bb53627e",
   "metadata": {},
   "outputs": [],
   "source": [
    "%%time\n",
    "model = AdaBoostClassifier()\n",
    "model.fit(X_train_xfm, y_train)"
   ]
  },
  {
   "cell_type": "code",
   "execution_count": null,
   "id": "8b19f7e6-fae9-4d9e-b054-7b65c4b450f4",
   "metadata": {},
   "outputs": [],
   "source": [
    "%%time\n",
    "y_train_pred_proba = model.predict_proba(X_train_xfm)[:, 1]\n",
    "y_valid_pred_proba = model.predict_proba(X_valid_xfm)[:, 1]\n",
    "y_test_pred_proba = model.predict_proba(X_test_xfm)[:, 1]\n",
    "baseline_results['adaBoost'] = (y_train_pred_proba, y_valid_pred_proba, y_test_pred_proba)\n",
    "\n",
    "log_exp(baseline_results['adaBoost'], 'adaBoost_baseline')\n",
    "expLog"
   ]
  },
  {
   "cell_type": "markdown",
   "id": "fd7da302-8feb-4135-adcd-da2b9d74ccb4",
   "metadata": {},
   "source": [
    "### Gradient Boosting Classifier"
   ]
  },
  {
   "cell_type": "code",
   "execution_count": null,
   "id": "18e06be7-1501-4c9f-9ff4-660fc945293d",
   "metadata": {},
   "outputs": [],
   "source": [
    "%%time\n",
    "model = GradientBoostingClassifier()\n",
    "model.fit(X_train_xfm, y_train)"
   ]
  },
  {
   "cell_type": "code",
   "execution_count": null,
   "id": "4023693e-c1a5-415c-a506-29d62de6a571",
   "metadata": {},
   "outputs": [],
   "source": [
    "%%time\n",
    "y_train_pred_proba = model.predict_proba(X_train_xfm)[:, 1]\n",
    "y_valid_pred_proba = model.predict_proba(X_valid_xfm)[:, 1]\n",
    "y_test_pred_proba = model.predict_proba(X_test_xfm)[:, 1]\n",
    "baseline_results['gb'] = (y_train_pred_proba, y_valid_pred_proba, y_test_pred_proba)\n",
    "\n",
    "log_exp(baseline_results['gb'], 'gradient_boosting_baseline')\n",
    "expLog"
   ]
  },
  {
   "cell_type": "markdown",
   "id": "e4da30ef-3865-42ab-ad8f-8a1eca21eb0f",
   "metadata": {},
   "source": [
    "#### Baseline results"
   ]
  },
  {
   "cell_type": "code",
   "execution_count": null,
   "id": "25f0230f-3abb-451c-8dd2-df0d5f63946f",
   "metadata": {},
   "outputs": [],
   "source": [
    "expLog"
   ]
  },
  {
   "cell_type": "code",
   "execution_count": 25,
   "id": "4c90099d-ff5b-4345-9e91-cdabe3d211b6",
   "metadata": {},
   "outputs": [],
   "source": [
    "from joblib import dump, load"
   ]
  },
  {
   "cell_type": "markdown",
   "id": "f9db280c-dbaf-42f0-889d-b3104ff39923",
   "metadata": {
    "tags": []
   },
   "source": [
    "## Hyperparameter Tuning"
   ]
  },
  {
   "cell_type": "code",
   "execution_count": null,
   "id": "045b32db-c021-4bf1-9248-e19937ca7f6a",
   "metadata": {},
   "outputs": [],
   "source": [
    "def conductGridSearch(models, params_grid, prep_pipeline, scoring,\n",
    "                      X_train, y_train, X_test, y_test,\n",
    "                      results, prefix='', i=0, n_jobs=4, verbose=1):\n",
    "    # scoring: passed to grid search\n",
    "    i = 0\n",
    "    for (name, model) in models:\n",
    "        i += 1\n",
    "        # Print model and parameters\n",
    "        print('****** START', prefix, name, '*****')\n",
    "        parameters = params_grid.get(name, {})\n",
    "        print(\"Parameters:\")\n",
    "        if 'features' in params_grid:\n",
    "            for p in sorted(params_grid['features']):\n",
    "                print(\"\\t\"+str(p)+\": \" + str(params_grid['features'][p]))\n",
    "        for p in sorted(parameters.keys()):\n",
    "            print(\"\\t\"+str(p)+\": \" + str(parameters[p]))\n",
    "\n",
    "        # generate the pipeline\n",
    "        full_pipeline_with_predictor = Pipeline([\n",
    "            (\"preparation\", prep_pipeline),\n",
    "            ('L1_selector', SelectFromModel(LogisticRegression(\n",
    "                C=0.006404,\n",
    "                penalty='l1',\n",
    "                solver='liblinear',\n",
    "                class_weight='balanced',\n",
    "                random_state=0))),\n",
    "            (\"predictor\", model)\n",
    "        ])\n",
    "\n",
    "        # Execute the grid search\n",
    "        params = params_grid.get('features', {})\n",
    "        for p in parameters.keys():\n",
    "            pipe_key = 'predictor__'+str(p)\n",
    "            params[pipe_key] = parameters[p]\n",
    "        grid_search = GridSearchCV(full_pipeline_with_predictor, params, scoring=scoring, cv=5,\n",
    "                                   n_jobs=n_jobs, verbose=verbose)\n",
    "        grid_search.fit(X_train, y_train)\n",
    "\n",
    "        print('Evaluating')\n",
    "        y_train_pred_proba = grid_search.best_estimator_.predict_proba(X_train)[:, 1]\n",
    "        y_test_pred_proba = grid_search.best_estimator_.predict_proba(X_test)[:, 1]\n",
    "        best_train_score = np.round(roc_auc_score(y_train, y_train_pred_proba), 5)\n",
    "        best_test_score = np.round(roc_auc_score(y_test, y_test_pred_proba), 5)\n",
    "\n",
    "        # Best estimator score\n",
    "        best_cv_score = np.round(grid_search.best_score_, 5)\n",
    "        best_cv_std = np.round(grid_search.cv_results_['std_test_score'][grid_search.best_index_], 5)\n",
    "\n",
    "        mean_fit_time = np.round(grid_search.cv_results_['mean_fit_time'][grid_search.best_index_], 5)\n",
    "        mean_score_time = np.round(grid_search.cv_results_['mean_score_time'][grid_search.best_index_], 5)\n",
    "\n",
    "        # Collect the best parameters found by the grid search\n",
    "        print(\"Best Score\", best_cv_score)\n",
    "        print(\"Best Parameters:\")\n",
    "        best_parameters = grid_search.best_estimator_.get_params()\n",
    "        param_dump = []\n",
    "        for param_name in sorted(params.keys()):\n",
    "            param_dump.append((param_name, best_parameters[param_name]))\n",
    "            print(\"\\t\"+str(param_name)+\": \" + str(best_parameters[param_name]))\n",
    "        print(\"****** FINISH\", prefix, name, \" *****\")\n",
    "        print(\"\")\n",
    "\n",
    "        # Record the results\n",
    "        results.loc[i] = [prefix+name,\n",
    "                          best_train_score,\n",
    "                          best_cv_score,\n",
    "                          best_cv_std,\n",
    "                          best_test_score,\n",
    "                          mean_fit_time,\n",
    "                          mean_score_time]"
   ]
  },
  {
   "cell_type": "code",
   "execution_count": null,
   "id": "22c45144-a370-481b-9a84-4ae594d222a5",
   "metadata": {},
   "outputs": [],
   "source": [
    "models = [\n",
    "    ('LogisticRegression', LogisticRegression(solver='liblinear', class_weight='balanced', random_state=0)),\n",
    "    ('KNeighborsClassifier', KNeighborsClassifier(weights='distance', p=2, n_jobs=3)),\n",
    "    ('RandomForestClassifier', RandomForestClassifier(random_state=42, class_weight=\"balanced\")),\n",
    "    ('AdaBoost', AdaBoostClassifier()),\n",
    "    ('GradientBoostingClassifier', GradientBoostingClassifier())\n",
    "]\n",
    "\n",
    "param_grid = {\n",
    "    'LogisticRegression': {\n",
    "        'C': np.logspace(-3, 1, 32),  # 0.1\n",
    "        'penalty': ['l2', 'l1']  # l1\n",
    "    },\n",
    "    'KNeighborsClassifier': {\n",
    "        'n_neighbors': [101, 301, 501, 701, 901, 1101, 1301, 1501],  # 1501\n",
    "        'weights': ['uniform', 'distance'],  # distance\n",
    "        'p': [1, 2]  # 2s\n",
    "    },\n",
    "    'RandomForestClassifier': {\n",
    "        'max_depth': [84, 88, 92, 96, 102],\n",
    "        'max_features': ['auto', 'sqrt'],\n",
    "        'min_samples_leaf': [1, 2, 4],\n",
    "        'min_samples_split': [2, 5, 10],\n",
    "        'n_estimators': [200, 400, 600, 800, 1000, 1200, 1400, 1600, 1800, 2000]\n",
    "    },\n",
    "    'AdaBoost': {\n",
    "        'n_estimators': [200, 500, 1000, 5000 or 6000], #1000\n",
    "        'learning_rate': [0.001, 0.01, 0.1, 1],   #0.1\n",
    "        'algorithm': ['SAMME', 'SAMME.R']  #SAMME\n",
    "    },\n",
    "    'GradientBoostingClassifier': {\n",
    "        'learning_rate': (0.01, 0.05, 0.1),\n",
    "        'max_features': ('sqrt', 'log2'),\n",
    "        'max_leaf_nodes': (4, 6, 8, 10),\n",
    "        'n_estimators': (4000, 5000, 6000, 8000),\n",
    "        'n_iter_no_change': (20, 50, 80),\n",
    "        'subsample': (0.6, 0.8, 1)\n",
    "    }\n",
    "}\n",
    "\n",
    "results = pd.DataFrame(columns=[\n",
    "    \"ExpID\",\n",
    "    \"Train Score\",\n",
    "    \"CV Score\",\n",
    "    \"CV Score std\",\n",
    "    \"Test Score\",\n",
    "    \"Train Time(s)\",\n",
    "    \"Test Time(s)\"\n",
    "])"
   ]
  },
  {
   "cell_type": "markdown",
   "id": "d650454b-9ae4-4355-b665-d09fcf522f94",
   "metadata": {
    "tags": []
   },
   "source": [
    "## Fitting the models with best parameters"
   ]
  },
  {
   "cell_type": "code",
   "execution_count": null,
   "id": "b6354f07-9c0a-4789-a587-f6948fa33418",
   "metadata": {},
   "outputs": [],
   "source": [
    "#del expLog2"
   ]
  },
  {
   "cell_type": "code",
   "execution_count": 28,
   "id": "e8b07d6b-79db-42e2-bc66-968131799fd1",
   "metadata": {},
   "outputs": [],
   "source": [
    "tuned_results={}"
   ]
  },
  {
   "cell_type": "markdown",
   "id": "fef77a3f-a483-4385-af3b-60eb1b5572f3",
   "metadata": {
    "tags": []
   },
   "source": [
    "### Logistic Regression"
   ]
  },
  {
   "cell_type": "code",
   "execution_count": 29,
   "id": "444a35d9-27bd-4368-9424-076cbcd8b86d",
   "metadata": {},
   "outputs": [
    {
     "name": "stdout",
     "output_type": "stream",
     "text": [
      "CPU times: user 1.72 ms, sys: 2.92 ms, total: 4.65 ms\n",
      "Wall time: 3.81 ms\n"
     ]
    }
   ],
   "source": [
    "%%time\n",
    "lr = LogisticRegression(C=0.1, penalty='l1', max_iter=1000, class_weight='balanced', solver='saga')\n",
    "lr = load('lr_2021-11-29.joblib')\n",
    "# lr.fit(X_train_xfm, y_train)"
   ]
  },
  {
   "cell_type": "code",
   "execution_count": 30,
   "id": "2ec71b3a-0480-427e-8435-8003a00fb2ef",
   "metadata": {},
   "outputs": [],
   "source": [
    "y_train_pred_proba = lr.predict_proba(X_train_xfm)[:, 1]\n",
    "y_valid_pred_proba = lr.predict_proba(X_valid_xfm)[:, 1]\n",
    "y_test_pred_proba = lr.predict_proba(X_test_xfm)[:, 1]\n",
    "tuned_results['lr'] = (y_train_pred_proba, y_valid_pred_proba, y_test_pred_proba)\n",
    "\n",
    "log_exp(tuned_results['lr'], 'logistic_reg')\n",
    "# np.round((roc_auc_score(y_train, y_train_pred_proba), roc_auc_score(y_valid, y_valid_pred_proba), roc_auc_score(y_test, y_test_pred_proba)), 5)"
   ]
  },
  {
   "cell_type": "markdown",
   "id": "f7db811d-12de-4e99-badd-7100d3861196",
   "metadata": {},
   "source": [
    "### Random Forest Classifier"
   ]
  },
  {
   "cell_type": "code",
   "execution_count": 26,
   "id": "863a2ec3-d811-4e8b-856c-c06002c53d6f",
   "metadata": {},
   "outputs": [
    {
     "name": "stdout",
     "output_type": "stream",
     "text": [
      "CPU times: user 745 ms, sys: 691 ms, total: 1.44 s\n",
      "Wall time: 1.89 s\n"
     ]
    }
   ],
   "source": [
    "%%time\n",
    "rfc = RandomForestClassifier(\n",
    "    random_state=42, \n",
    "    class_weight=\"balanced\", \n",
    "    bootstrap=False, \n",
    "    min_samples_split=2, \n",
    "    max_depth= 84, \n",
    "    min_samples_leaf= 16, \n",
    "    n_estimators= 2000,\n",
    "    n_jobs=-1\n",
    ")\n",
    "rfc = load('rfc_2021-11-29.joblib')\n",
    "# rfc.fit(X_train_xfm, y_train)"
   ]
  },
  {
   "cell_type": "code",
   "execution_count": 32,
   "id": "936664b0-7a2a-4ffd-9cea-ae9e3775627c",
   "metadata": {},
   "outputs": [],
   "source": [
    "%%time\n",
    "y_train_pred_proba = rfc.predict_proba(X_train_xfm)[:, 1]\n",
    "y_valid_pred_proba = rfc.predict_proba(X_valid_xfm)[:, 1]\n",
    "y_test_pred_proba = rfc.predict_proba(X_test_xfm)[:, 1]\n",
    "tuned_results['rfc'] = (y_train_pred_proba, y_valid_pred_proba, y_test_pred_proba)\n",
    "\n",
    "log_exp(tuned_results['rfc'], 'rfc')"
   ]
  },
  {
   "cell_type": "code",
   "execution_count": null,
   "id": "59f54cce-46f9-4a54-8814-e66a5c117c3a",
   "metadata": {},
   "outputs": [],
   "source": [
    "# save models\n",
    "version='2021-11-29'\n",
    "dump(lr, f'lr_{version}.joblib')\n",
    "dump(rfc, f'rfc_{version}.joblib')"
   ]
  },
  {
   "cell_type": "markdown",
   "id": "63d9290f-ddab-400a-8650-781009479006",
   "metadata": {},
   "source": [
    "### AdaBoost Classifier"
   ]
  },
  {
   "cell_type": "code",
   "execution_count": 33,
   "id": "b4ab1b9f-6109-43bb-94fe-a4c610382672",
   "metadata": {},
   "outputs": [
    {
     "name": "stdout",
     "output_type": "stream",
     "text": [
      "CPU times: user 110 ms, sys: 3.68 ms, total: 113 ms\n",
      "Wall time: 121 ms\n"
     ]
    }
   ],
   "source": [
    "%%time\n",
    "ada = AdaBoostClassifier(n_estimators = 1000, learning_rate = 0.1, algorithm = 'SAMME')\n",
    "ada = load('ada_2021-11-29.joblib')\n",
    "# ada.fit(X_train_xfm, y_train)"
   ]
  },
  {
   "cell_type": "code",
   "execution_count": 35,
   "id": "88029c36-83b1-480d-ba09-fbf189ebedf2",
   "metadata": {},
   "outputs": [],
   "source": [
    "# y_train_pred_proba = ada.predict_proba(X_train_xfm)[:, 1]\n",
    "# y_valid_pred_proba = ada.predict_proba(X_valid_xfm)[:, 1]\n",
    "# y_test_pred_proba = ada.predict_proba(X_test_xfm)[:, 1]\n",
    "# tuned_results['ada'] = (y_train_pred_proba, y_valid_pred_proba, y_test_pred_proba)\n",
    "\n",
    "log_exp(tuned_results['ada'], 'AdaBoost')"
   ]
  },
  {
   "cell_type": "markdown",
   "id": "7176f4b5-11d8-4fb0-bcc5-fabf941e817c",
   "metadata": {},
   "source": [
    "### Gradient Boosting Classifier"
   ]
  },
  {
   "cell_type": "code",
   "execution_count": 36,
   "id": "3ff6ef70-8ca4-4726-b9fb-73dc7ca54bfb",
   "metadata": {},
   "outputs": [
    {
     "name": "stdout",
     "output_type": "stream",
     "text": [
      "CPU times: user 35.1 ms, sys: 9.87 ms, total: 45 ms\n",
      "Wall time: 48.5 ms\n"
     ]
    }
   ],
   "source": [
    "%%time\n",
    "gb = GradientBoostingClassifier(n_estimators = 6000, \n",
    "                                   n_iter_no_change=80, \n",
    "                                   learning_rate = 0.05, \n",
    "                                   subsample =1, \n",
    "                                   max_features= 'sqrt', \n",
    "                                   max_leaf_nodes=8)\n",
    "gb = load('gb_2021-11-29.joblib')\n",
    "# gb.fit(X_train_xfm, y_train)"
   ]
  },
  {
   "cell_type": "code",
   "execution_count": 39,
   "id": "5cdfbcf0-50a0-41fa-b6ef-8b0affe7399f",
   "metadata": {},
   "outputs": [
    {
     "name": "stdout",
     "output_type": "stream",
     "text": [
      "CPU times: user 6.28 s, sys: 171 ms, total: 6.45 s\n",
      "Wall time: 6.54 s\n"
     ]
    }
   ],
   "source": [
    "%%time\n",
    "y_train_pred_proba = gb.predict_proba(X_train_xfm)[:, 1]\n",
    "y_valid_pred_proba = gb.predict_proba(X_valid_xfm)[:, 1]\n",
    "y_test_pred_proba = gb.predict_proba(X_test_xfm)[:, 1]\n",
    "tuned_results['gb'] = (y_train_pred_proba, y_valid_pred_proba, y_test_pred_proba)\n",
    "\n",
    "log_exp(tuned_results['gb'], 'gradient_boosting')"
   ]
  },
  {
   "cell_type": "code",
   "execution_count": 40,
   "id": "44364818-b6e7-46a0-953b-6d171a18cf36",
   "metadata": {},
   "outputs": [
    {
     "data": {
      "text/html": [
       "<div>\n",
       "<style scoped>\n",
       "    .dataframe tbody tr th:only-of-type {\n",
       "        vertical-align: middle;\n",
       "    }\n",
       "\n",
       "    .dataframe tbody tr th {\n",
       "        vertical-align: top;\n",
       "    }\n",
       "\n",
       "    .dataframe thead th {\n",
       "        text-align: right;\n",
       "    }\n",
       "</style>\n",
       "<table border=\"1\" class=\"dataframe\">\n",
       "  <thead>\n",
       "    <tr style=\"text-align: right;\">\n",
       "      <th></th>\n",
       "      <th>exp_name</th>\n",
       "      <th>Train Acc</th>\n",
       "      <th>Valid Acc</th>\n",
       "      <th>Test  Acc</th>\n",
       "      <th>Train AUC</th>\n",
       "      <th>Valid AUC</th>\n",
       "      <th>Test  AUC</th>\n",
       "    </tr>\n",
       "  </thead>\n",
       "  <tbody>\n",
       "    <tr>\n",
       "      <th>0</th>\n",
       "      <td>logistic_reg_173_features</td>\n",
       "      <td>0.7075</td>\n",
       "      <td>0.7057</td>\n",
       "      <td>0.7062</td>\n",
       "      <td>0.7730</td>\n",
       "      <td>0.7717</td>\n",
       "      <td>0.7704</td>\n",
       "    </tr>\n",
       "    <tr>\n",
       "      <th>1</th>\n",
       "      <td>rfc_173_features</td>\n",
       "      <td>0.9722</td>\n",
       "      <td>0.8855</td>\n",
       "      <td>0.8855</td>\n",
       "      <td>0.9998</td>\n",
       "      <td>0.7722</td>\n",
       "      <td>0.7701</td>\n",
       "    </tr>\n",
       "    <tr>\n",
       "      <th>2</th>\n",
       "      <td>AdaBoost_173_features</td>\n",
       "      <td>0.9191</td>\n",
       "      <td>0.9194</td>\n",
       "      <td>0.9200</td>\n",
       "      <td>0.7657</td>\n",
       "      <td>0.7647</td>\n",
       "      <td>0.7617</td>\n",
       "    </tr>\n",
       "    <tr>\n",
       "      <th>3</th>\n",
       "      <td>gradient_boosting_173_features</td>\n",
       "      <td>0.9219</td>\n",
       "      <td>0.9199</td>\n",
       "      <td>0.9203</td>\n",
       "      <td>0.8090</td>\n",
       "      <td>0.7805</td>\n",
       "      <td>0.7791</td>\n",
       "    </tr>\n",
       "  </tbody>\n",
       "</table>\n",
       "</div>"
      ],
      "text/plain": [
       "                         exp_name  Train Acc  Valid Acc  Test  Acc  Train AUC  \\\n",
       "0       logistic_reg_173_features     0.7075     0.7057     0.7062     0.7730   \n",
       "1                rfc_173_features     0.9722     0.8855     0.8855     0.9998   \n",
       "2           AdaBoost_173_features     0.9191     0.9194     0.9200     0.7657   \n",
       "3  gradient_boosting_173_features     0.9219     0.9199     0.9203     0.8090   \n",
       "\n",
       "   Valid AUC  Test  AUC  \n",
       "0     0.7717     0.7704  \n",
       "1     0.7722     0.7701  \n",
       "2     0.7647     0.7617  \n",
       "3     0.7805     0.7791  "
      ]
     },
     "execution_count": 40,
     "metadata": {},
     "output_type": "execute_result"
    }
   ],
   "source": [
    "expLog"
   ]
  },
  {
   "cell_type": "markdown",
   "id": "4d75e9f5-e8f3-412b-86da-72915ee56f3f",
   "metadata": {
    "tags": []
   },
   "source": [
    "## Stacking Classifier"
   ]
  },
  {
   "cell_type": "markdown",
   "id": "055cc952-bbe2-4e89-9460-f69a14739bf6",
   "metadata": {},
   "source": [
    "### Calibrate Classifiers"
   ]
  },
  {
   "cell_type": "code",
   "execution_count": 69,
   "id": "53f6f5c2-5490-4b61-86b3-d0ff56afec60",
   "metadata": {},
   "outputs": [
    {
     "name": "stdout",
     "output_type": "stream",
     "text": [
      "CPU times: user 81.4 ms, sys: 63.6 ms, total: 145 ms\n",
      "Wall time: 68.8 ms\n"
     ]
    }
   ],
   "source": [
    "%%time\n",
    "lr_calib = CalibratedClassifierCV(base_estimator=lr, method='isotonic', cv='prefit')\n",
    "_ = lr_calib.fit(X_valid_xfm, y_valid)"
   ]
  },
  {
   "cell_type": "code",
   "execution_count": 91,
   "id": "fbb4d543-06e4-4449-a092-addc28d7447b",
   "metadata": {},
   "outputs": [
    {
     "data": {
      "text/plain": [
       "<matplotlib.legend.Legend at 0x1469c7970>"
      ]
     },
     "execution_count": 91,
     "metadata": {},
     "output_type": "execute_result"
    },
    {
     "data": {
      "image/png": "[encoded data removed]",
      "text/plain": [
       "<Figure size 432x288 with 1 Axes>"
      ]
     },
     "metadata": {
      "needs_background": "light"
     },
     "output_type": "display_data"
    }
   ],
   "source": [
    "n_bins=5\n",
    "plt.plot(np.arange(0,1,1/n_bins), np.arange(0,1,1/n_bins), '--')\n",
    "y_test_pred_proba = lr_calib.predict_proba(X_test_xfm)[:,1]\n",
    "prob_true, prob_pred = calibration_curve(y_test, y_test_pred_proba, n_bins=n_bins)\n",
    "plt.plot(prob_pred, prob_true, 'r', label='lr' )\n",
    "plt.xlabel('Mean Predicted Probability')\n",
    "plt.ylabel('Fraction True')\n",
    "plt.legend() "
   ]
  },
  {
   "cell_type": "code",
   "execution_count": 70,
   "id": "029a6e47-8888-4805-a0ce-d429fd2ff694",
   "metadata": {},
   "outputs": [
    {
     "name": "stdout",
     "output_type": "stream",
     "text": [
      "CPU times: user 19.7 s, sys: 345 ms, total: 20 s\n",
      "Wall time: 20.2 s\n"
     ]
    }
   ],
   "source": [
    "%%time\n",
    "rfc_calib = CalibratedClassifierCV(base_estimator=rfc, method='isotonic', cv='prefit')\n",
    "_ = rfc_calib.fit(X_valid_xfm, y_valid)"
   ]
  },
  {
   "cell_type": "code",
   "execution_count": 92,
   "id": "a7f0447a-bda3-4e19-82fb-c850ee014efe",
   "metadata": {},
   "outputs": [
    {
     "data": {
      "text/plain": [
       "<matplotlib.legend.Legend at 0x146a91850>"
      ]
     },
     "execution_count": 92,
     "metadata": {},
     "output_type": "execute_result"
    },
    {
     "data": {
      "image/png": "[encoded data removed]",
      "text/plain": [
       "<Figure size 432x288 with 1 Axes>"
      ]
     },
     "metadata": {
      "needs_background": "light"
     },
     "output_type": "display_data"
    }
   ],
   "source": [
    "n_bins=5\n",
    "plt.plot(np.arange(0,1,1/n_bins), np.arange(0,1,1/n_bins), '--')\n",
    "y_test_pred_proba = rfc_calib.predict_proba(X_test_xfm)[:,1]\n",
    "prob_true, prob_pred = calibration_curve(y_test, y_test_pred_proba, n_bins=n_bins)\n",
    "plt.plot(prob_pred, prob_true, 'r', label='lr' )\n",
    "plt.xlabel('Mean Predicted Probability')\n",
    "plt.ylabel('Fraction True')\n",
    "plt.legend() "
   ]
  },
  {
   "cell_type": "code",
   "execution_count": 71,
   "id": "d1301d4f-a01e-4042-83fe-fae56c1298f1",
   "metadata": {},
   "outputs": [
    {
     "name": "stdout",
     "output_type": "stream",
     "text": [
      "CPU times: user 6.47 s, sys: 2.46 s, total: 8.92 s\n",
      "Wall time: 8.98 s\n"
     ]
    }
   ],
   "source": [
    "%%time\n",
    "ada_calib = CalibratedClassifierCV(base_estimator=ada, method='isotonic', cv='prefit')\n",
    "_ = ada_calib.fit(X_valid_xfm, y_valid)"
   ]
  },
  {
   "cell_type": "code",
   "execution_count": 93,
   "id": "fb9ec1b2-ce04-43a6-9777-59dada7fb63a",
   "metadata": {},
   "outputs": [
    {
     "data": {
      "text/plain": [
       "<matplotlib.legend.Legend at 0x146a725b0>"
      ]
     },
     "execution_count": 93,
     "metadata": {},
     "output_type": "execute_result"
    },
    {
     "data": {
      "image/png": "[encoded data removed]",
      "text/plain": [
       "<Figure size 432x288 with 1 Axes>"
      ]
     },
     "metadata": {
      "needs_background": "light"
     },
     "output_type": "display_data"
    }
   ],
   "source": [
    "n_bins=5\n",
    "plt.plot(np.arange(0,1,1/n_bins), np.arange(0,1,1/n_bins), '--')\n",
    "y_test_pred_proba = ada_calib.predict_proba(X_test_xfm)[:,1]\n",
    "prob_true, prob_pred = calibration_curve(y_test, y_test_pred_proba, n_bins=n_bins)\n",
    "plt.plot(prob_pred, prob_true, 'r', label='lr' )\n",
    "plt.xlabel('Mean Predicted Probability')\n",
    "plt.ylabel('Fraction True')\n",
    "plt.legend() "
   ]
  },
  {
   "cell_type": "code",
   "execution_count": 72,
   "id": "8820b360-56cc-4fc9-83f6-959cd9fd308b",
   "metadata": {},
   "outputs": [
    {
     "name": "stdout",
     "output_type": "stream",
     "text": [
      "CPU times: user 1.24 s, sys: 12.9 ms, total: 1.25 s\n",
      "Wall time: 1.25 s\n"
     ]
    }
   ],
   "source": [
    "%%time\n",
    "gb_calib = CalibratedClassifierCV(base_estimator=gb, method='isotonic', cv='prefit')\n",
    "_ = gb_calib.fit(X_valid_xfm, y_valid)"
   ]
  },
  {
   "cell_type": "code",
   "execution_count": 94,
   "id": "a94560f1-467f-464a-ba0f-530b582b74a2",
   "metadata": {},
   "outputs": [
    {
     "data": {
      "text/plain": [
       "<matplotlib.legend.Legend at 0x147b3ee50>"
      ]
     },
     "execution_count": 94,
     "metadata": {},
     "output_type": "execute_result"
    },
    {
     "data": {
      "image/png": "[encoded data removed]",
      "text/plain": [
       "<Figure size 432x288 with 1 Axes>"
      ]
     },
     "metadata": {
      "needs_background": "light"
     },
     "output_type": "display_data"
    }
   ],
   "source": [
    "n_bins=5\n",
    "plt.plot(np.arange(0,1,1/n_bins), np.arange(0,1,1/n_bins), '--')\n",
    "y_test_pred_proba = gb_calib.predict_proba(X_test_xfm)[:,1]\n",
    "prob_true, prob_pred = calibration_curve(y_test, y_test_pred_proba, n_bins=n_bins)\n",
    "plt.plot(prob_pred, prob_true, 'r', label='lr' )\n",
    "plt.xlabel('Mean Predicted Probability')\n",
    "plt.ylabel('Fraction True')\n",
    "plt.legend() "
   ]
  },
  {
   "cell_type": "code",
   "execution_count": null,
   "id": "30726350-b191-41eb-8478-f2333cf83ebe",
   "metadata": {},
   "outputs": [],
   "source": [
    "knn_calib = CalibratedClassifierCV(base_estimator=knn, method='isotonic', cv='prefit')\n",
    "knn_calib.fit(X_valid_xfm, y_valid)"
   ]
  },
  {
   "cell_type": "code",
   "execution_count": 111,
   "id": "c1e80b41-85f8-4258-9bcd-d77c17779285",
   "metadata": {},
   "outputs": [
    {
     "data": {
      "text/plain": [
       "['gb_calib2021-11-29.joblib']"
      ]
     },
     "execution_count": 111,
     "metadata": {},
     "output_type": "execute_result"
    }
   ],
   "source": [
    "version='2021-11-29'\n",
    "dump(lr_calib, f'lr_calib_{version}.joblib')\n",
    "dump(rfc_calib, f'rfc_calib_{version}.joblib')\n",
    "dump(ada_calib, f'ada_calib_{version}.joblib')\n",
    "dump(gb_calib, f'gb_calib_{version}.joblib')"
   ]
  },
  {
   "cell_type": "code",
   "execution_count": 95,
   "id": "a8ce95e0-02eb-43ee-953f-4ba3025ac79b",
   "metadata": {},
   "outputs": [],
   "source": [
    "from sklearn.model_selection import PredefinedSplit\n",
    "\n",
    "X_stack = np.vstack((X_train_xfm, X_valid_xfm))\n",
    "y_stack = np.hstack((y_train, y_valid))\n",
    "\n",
    "test_fold = np.hstack((-1*np.ones_like(y_train), np.zeros_like(y_valid)))\n",
    "ps = PredefinedSplit(test_fold)"
   ]
  },
  {
   "cell_type": "code",
   "execution_count": null,
   "id": "c1ddeb33-283f-4a40-807e-1de668764e37",
   "metadata": {},
   "outputs": [],
   "source": [
    "%%time\n",
    "from sklearn.ensemble import StackingClassifier\n",
    "\n",
    "stack = StackingClassifier(\n",
    "    estimators=[('lr', lr), \n",
    "                # ('knn', knn_calib), \n",
    "                ('rfc', rfc),\n",
    "                ('ada', ada),\n",
    "                ('gb', gb)],\n",
    "    cv=ps, \n",
    "    stack_method='predict_proba',\n",
    "    passthrough=False,\n",
    "    n_jobs=4,\n",
    "    verbose=3\n",
    ")\n",
    "stack.fit(X_stack, y_stack)"
   ]
  },
  {
   "cell_type": "code",
   "execution_count": null,
   "id": "25986a07-0893-4803-af9b-e1633ef12a89",
   "metadata": {},
   "outputs": [],
   "source": [
    "y_train_pred_proba = stack.predict_proba(X_train_xfm)[:, 1]\n",
    "y_valid_pred_proba = stack.predict_proba(X_valid_xfm)[:, 1]\n",
    "y_test_pred_proba = stack.predict_proba(X_test_xfm)[:, 1]\n",
    "tuned_results['stack'] = (y_train_pred_proba, y_valid_pred_proba, y_test_pred_proba)\n",
    "\n",
    "log_exp(baseline_results['stack'], 'stacking')"
   ]
  },
  {
   "cell_type": "code",
   "execution_count": null,
   "id": "a3646d1c-265b-4591-8cab-0f33eb823370",
   "metadata": {},
   "outputs": [],
   "source": [
    "expLog"
   ]
  },
  {
   "cell_type": "code",
   "execution_count": 102,
   "id": "8ca2790f-b71a-4cc4-b8a8-b8db2c196fb6",
   "metadata": {},
   "outputs": [
    {
     "name": "stderr",
     "output_type": "stream",
     "text": [
      "/Users/deepakduggirala/miniforge3/lib/python3.9/site-packages/mlxtend/classifier/stacking_classification.py:160: UserWarning: fit_base_estimators=False enforces use_clones to be `False`\n",
      "  warnings.warn(\"fit_base_estimators=False \"\n"
     ]
    },
    {
     "name": "stdout",
     "output_type": "stream",
     "text": [
      "CPU times: user 27.9 s, sys: 3.39 s, total: 31.3 s\n",
      "Wall time: 30.2 s\n"
     ]
    }
   ],
   "source": [
    "%%time\n",
    "from mlxtend.classifier import StackingClassifier\n",
    "\n",
    "sclf = StackingClassifier(classifiers=[lr, rfc, ada, gb], \n",
    "                          meta_classifier=LogisticRegression(), \n",
    "                          use_probas=True,\n",
    "                          fit_base_estimators=False, use_clones=False)\n",
    "_ = sclf.fit(X_valid_xfm, y_valid)"
   ]
  },
  {
   "cell_type": "code",
   "execution_count": 107,
   "id": "6f502871-ba1f-47dc-9e01-272da04ddada",
   "metadata": {},
   "outputs": [
    {
     "name": "stdout",
     "output_type": "stream",
     "text": [
      "CPU times: user 2min 18s, sys: 15.8 s, total: 2min 34s\n",
      "Wall time: 2min 31s\n"
     ]
    }
   ],
   "source": [
    "%%time\n",
    "y_train_pred_proba = sclf.predict_proba(X_train_xfm)[:, 1]\n",
    "y_valid_pred_proba = sclf.predict_proba(X_valid_xfm)[:, 1]\n",
    "y_test_pred_proba = sclf.predict_proba(X_test_xfm)[:, 1]\n",
    "tuned_results['stack'] = (y_train_pred_proba, y_valid_pred_proba, y_test_pred_proba)\n",
    "\n",
    "log_exp(tuned_results['stack'], 'stacking')"
   ]
  },
  {
   "cell_type": "code",
   "execution_count": null,
   "id": "98a915d4-c1ee-4060-88ae-9554fe0d3034",
   "metadata": {},
   "outputs": [],
   "source": []
  },
  {
   "cell_type": "code",
   "execution_count": 108,
   "id": "eb6db16d-56af-49f4-b838-9d5533280e8f",
   "metadata": {},
   "outputs": [
    {
     "name": "stderr",
     "output_type": "stream",
     "text": [
      "/Users/deepakduggirala/miniforge3/lib/python3.9/site-packages/mlxtend/classifier/stacking_classification.py:160: UserWarning: fit_base_estimators=False enforces use_clones to be `False`\n",
      "  warnings.warn(\"fit_base_estimators=False \"\n"
     ]
    },
    {
     "name": "stdout",
     "output_type": "stream",
     "text": [
      "CPU times: user 28.3 s, sys: 3.42 s, total: 31.8 s\n",
      "Wall time: 30.7 s\n"
     ]
    }
   ],
   "source": [
    "%%time\n",
    "sclf_calib = StackingClassifier(classifiers=[lr_calib, rfc_calib, ada_calib, gb_calib], \n",
    "                          meta_classifier=LogisticRegression(), \n",
    "                          use_probas=True,\n",
    "                          fit_base_estimators=False, use_clones=False)\n",
    "_ = sclf_calib.fit(X_valid_xfm, y_valid)"
   ]
  },
  {
   "cell_type": "code",
   "execution_count": 109,
   "id": "6b723434-913b-4580-8fb9-492a00f6631a",
   "metadata": {},
   "outputs": [
    {
     "name": "stdout",
     "output_type": "stream",
     "text": [
      "CPU times: user 2min 18s, sys: 15.5 s, total: 2min 33s\n",
      "Wall time: 2min 30s\n"
     ]
    }
   ],
   "source": [
    "%%time\n",
    "y_train_pred_proba = sclf_calib.predict_proba(X_train_xfm)[:, 1]\n",
    "y_valid_pred_proba = sclf_calib.predict_proba(X_valid_xfm)[:, 1]\n",
    "y_test_pred_proba = sclf_calib.predict_proba(X_test_xfm)[:, 1]\n",
    "tuned_results['stack_calib'] = (y_train_pred_proba, y_valid_pred_proba, y_test_pred_proba)\n",
    "\n",
    "log_exp(tuned_results['stack_calib'], 'stacking_with_calibrated_base_ests')"
   ]
  },
  {
   "cell_type": "code",
   "execution_count": 112,
   "id": "211ebb2b-3ef2-4924-b3be-6584ce9a0fc1",
   "metadata": {},
   "outputs": [
    {
     "data": {
      "text/plain": [
       "['sclf_calib_2021-11-29.joblib']"
      ]
     },
     "execution_count": 112,
     "metadata": {},
     "output_type": "execute_result"
    }
   ],
   "source": [
    "dump(sclf, f'sclf_{version}.joblib')\n",
    "dump(sclf_calib, f'sclf_calib_{version}.joblib')"
   ]
  },
  {
   "cell_type": "code",
   "execution_count": 110,
   "id": "e315e089-5ccf-4feb-97b2-e6c20e8c72dc",
   "metadata": {},
   "outputs": [
    {
     "data": {
      "text/html": [
       "<div>\n",
       "<style scoped>\n",
       "    .dataframe tbody tr th:only-of-type {\n",
       "        vertical-align: middle;\n",
       "    }\n",
       "\n",
       "    .dataframe tbody tr th {\n",
       "        vertical-align: top;\n",
       "    }\n",
       "\n",
       "    .dataframe thead th {\n",
       "        text-align: right;\n",
       "    }\n",
       "</style>\n",
       "<table border=\"1\" class=\"dataframe\">\n",
       "  <thead>\n",
       "    <tr style=\"text-align: right;\">\n",
       "      <th></th>\n",
       "      <th>exp_name</th>\n",
       "      <th>Train Acc</th>\n",
       "      <th>Valid Acc</th>\n",
       "      <th>Test  Acc</th>\n",
       "      <th>Train AUC</th>\n",
       "      <th>Valid AUC</th>\n",
       "      <th>Test  AUC</th>\n",
       "    </tr>\n",
       "  </thead>\n",
       "  <tbody>\n",
       "    <tr>\n",
       "      <th>0</th>\n",
       "      <td>logistic_reg_173_features</td>\n",
       "      <td>0.7075</td>\n",
       "      <td>0.7057</td>\n",
       "      <td>0.7062</td>\n",
       "      <td>0.7730</td>\n",
       "      <td>0.7717</td>\n",
       "      <td>0.7704</td>\n",
       "    </tr>\n",
       "    <tr>\n",
       "      <th>1</th>\n",
       "      <td>rfc_173_features</td>\n",
       "      <td>0.9722</td>\n",
       "      <td>0.8855</td>\n",
       "      <td>0.8855</td>\n",
       "      <td>0.9998</td>\n",
       "      <td>0.7722</td>\n",
       "      <td>0.7701</td>\n",
       "    </tr>\n",
       "    <tr>\n",
       "      <th>2</th>\n",
       "      <td>AdaBoost_173_features</td>\n",
       "      <td>0.9191</td>\n",
       "      <td>0.9194</td>\n",
       "      <td>0.9200</td>\n",
       "      <td>0.7657</td>\n",
       "      <td>0.7647</td>\n",
       "      <td>0.7617</td>\n",
       "    </tr>\n",
       "    <tr>\n",
       "      <th>3</th>\n",
       "      <td>gradient_boosting_173_features</td>\n",
       "      <td>0.9219</td>\n",
       "      <td>0.9199</td>\n",
       "      <td>0.9203</td>\n",
       "      <td>0.8090</td>\n",
       "      <td>0.7805</td>\n",
       "      <td>0.7791</td>\n",
       "    </tr>\n",
       "    <tr>\n",
       "      <th>4</th>\n",
       "      <td>stacking_173_features</td>\n",
       "      <td>0.9289</td>\n",
       "      <td>0.9197</td>\n",
       "      <td>0.9205</td>\n",
       "      <td>0.9479</td>\n",
       "      <td>0.7794</td>\n",
       "      <td>0.7776</td>\n",
       "    </tr>\n",
       "    <tr>\n",
       "      <th>5</th>\n",
       "      <td>stacking_with_calibrated_base_ests_173_features</td>\n",
       "      <td>0.9478</td>\n",
       "      <td>0.9196</td>\n",
       "      <td>0.9194</td>\n",
       "      <td>0.9755</td>\n",
       "      <td>0.7841</td>\n",
       "      <td>0.7806</td>\n",
       "    </tr>\n",
       "  </tbody>\n",
       "</table>\n",
       "</div>"
      ],
      "text/plain": [
       "                                          exp_name  Train Acc  Valid Acc  \\\n",
       "0                        logistic_reg_173_features     0.7075     0.7057   \n",
       "1                                 rfc_173_features     0.9722     0.8855   \n",
       "2                            AdaBoost_173_features     0.9191     0.9194   \n",
       "3                   gradient_boosting_173_features     0.9219     0.9199   \n",
       "4                            stacking_173_features     0.9289     0.9197   \n",
       "5  stacking_with_calibrated_base_ests_173_features     0.9478     0.9196   \n",
       "\n",
       "   Test  Acc  Train AUC  Valid AUC  Test  AUC  \n",
       "0     0.7062     0.7730     0.7717     0.7704  \n",
       "1     0.8855     0.9998     0.7722     0.7701  \n",
       "2     0.9200     0.7657     0.7647     0.7617  \n",
       "3     0.9203     0.8090     0.7805     0.7791  \n",
       "4     0.9205     0.9479     0.7794     0.7776  \n",
       "5     0.9194     0.9755     0.7841     0.7806  "
      ]
     },
     "execution_count": 110,
     "metadata": {},
     "output_type": "execute_result"
    }
   ],
   "source": [
    "expLoglr_calib"
   ]
  },
  {
   "cell_type": "markdown",
   "id": "68bc8c39-e1cb-43e7-8212-78998e215b21",
   "metadata": {},
   "source": [
    "## Kaggle Submission"
   ]
  },
  {
   "cell_type": "code",
   "execution_count": 62,
   "id": "1416348a-384c-4d98-b202-eba593f75adf",
   "metadata": {},
   "outputs": [
    {
     "name": "stdout",
     "output_type": "stream",
     "text": [
      "lr\n",
      "rfc\n",
      "ada\n",
      "gb\n"
     ]
    }
   ],
   "source": [
    "X_kaggle_test = pipeline_with_selector.transform(processed_test_data)\n",
    "\n",
    "def kaggle_submission_file(model, name):\n",
    "    print(name)\n",
    "    test_class_scores = model.predict_proba(X_kaggle_test)[:, 1]\n",
    "    submit_df = processed_test_data[['SK_ID_CURR']].copy()\n",
    "    submit_df['TARGET'] = test_class_scores\n",
    "    submit_df.to_csv(f'{name}.csv', index=False)\n",
    "    \n",
    "models = {\n",
    "    'lr': lr,\n",
    "    # 'knn': knn,\n",
    "    'rfc': rfc,\n",
    "    'ada': ada,\n",
    "    'gb': gb,\n",
    "    # 'stack': stack\n",
    "}\n",
    "\n",
    "for name, model in models.items():\n",
    "    kaggle_submission_file(model, name)"
   ]
  },
  {
   "cell_type": "code",
   "execution_count": 63,
   "id": "486b4536-aeed-425a-93a2-039a0176edea",
   "metadata": {},
   "outputs": [
    {
     "name": "stdout",
     "output_type": "stream",
     "text": [
      "100%|███████████████████████████████████████| 1.22M/1.22M [00:02<00:00, 601kB/s]\n",
      "Successfully submitted to Home Credit Default Risk"
     ]
    }
   ],
   "source": [
    "!kaggle competitions submit -c home-credit-default-risk -f lr.csv -m \"lr-0.7717\""
   ]
  },
  {
   "cell_type": "code",
   "execution_count": 64,
   "id": "37fd04d6-3f75-4554-88b2-6bab98056b0b",
   "metadata": {},
   "outputs": [
    {
     "name": "stdout",
     "output_type": "stream",
     "text": [
      "100%|███████████████████████████████████████| 1.24M/1.24M [00:02<00:00, 522kB/s]\n",
      "Successfully submitted to Home Credit Default Risk"
     ]
    }
   ],
   "source": [
    "!kaggle competitions submit -c home-credit-default-risk -f rfc.csv -m \"rfc-0.7722\""
   ]
  },
  {
   "cell_type": "code",
   "execution_count": 65,
   "id": "2c245df5-54a1-4e6c-ad6f-0604a92ef5f6",
   "metadata": {},
   "outputs": [
    {
     "name": "stdout",
     "output_type": "stream",
     "text": [
      "100%|███████████████████████████████████████| 1.23M/1.23M [00:01<00:00, 695kB/s]\n",
      "Successfully submitted to Home Credit Default Risk"
     ]
    }
   ],
   "source": [
    "!kaggle competitions submit -c home-credit-default-risk -f ada.csv -m \"ada-0.7647\""
   ]
  },
  {
   "cell_type": "code",
   "execution_count": 66,
   "id": "88ee0d31-f393-4f11-9b9f-27e387609586",
   "metadata": {},
   "outputs": [
    {
     "name": "stdout",
     "output_type": "stream",
     "text": [
      "100%|███████████████████████████████████████| 1.26M/1.26M [00:01<00:00, 840kB/s]\n",
      "Successfully submitted to Home Credit Default Risk"
     ]
    }
   ],
   "source": [
    "!kaggle competitions submit -c home-credit-default-risk -f gb.csv -m \"gb-0.7805\""
   ]
  },
  {
   "cell_type": "markdown",
   "id": "3a079fa1-7ebb-40b1-8a07-7c184c973044",
   "metadata": {},
   "source": [
    "![kaggle-submissions](images/kaggle-submissions.png)"
   ]
  },
  {
   "cell_type": "code",
   "execution_count": 114,
   "id": "240a493a-e31e-4890-9310-d6d3f3a2faee",
   "metadata": {},
   "outputs": [
    {
     "name": "stdout",
     "output_type": "stream",
     "text": [
      "sclf\n",
      "sclf_calib\n"
     ]
    }
   ],
   "source": [
    "models = {\n",
    "    'sclf': sclf,\n",
    "    'sclf_calib': sclf_calib\n",
    "}\n",
    "\n",
    "for name, model in models.items():\n",
    "    kaggle_submission_file(model, name)"
   ]
  },
  {
   "cell_type": "code",
   "execution_count": 115,
   "id": "65685948-3f00-4af7-886b-2d5641821726",
   "metadata": {},
   "outputs": [
    {
     "name": "stdout",
     "output_type": "stream",
     "text": [
      "100%|███████████████████████████████████████| 1.26M/1.26M [00:01<00:00, 914kB/s]\n",
      "Successfully submitted to Home Credit Default Risk"
     ]
    }
   ],
   "source": [
    "!kaggle competitions submit -c home-credit-default-risk -f sclf.csv -m \"sclf-0.7794\""
   ]
  },
  {
   "cell_type": "code",
   "execution_count": 116,
   "id": "15cd82bd-0885-441f-94cb-1e7d8255dfe9",
   "metadata": {},
   "outputs": [
    {
     "name": "stdout",
     "output_type": "stream",
     "text": [
      "100%|███████████████████████████████████████| 1.26M/1.26M [00:01<00:00, 819kB/s]\n",
      "Successfully submitted to Home Credit Default Risk"
     ]
    }
   ],
   "source": [
    "!kaggle competitions submit -c home-credit-default-risk -f sclf_calib.csv -m \"sclf_calib-0.7841\""
   ]
  },
  {
   "cell_type": "markdown",
   "id": "bacf7636-523c-43f8-b851-251cf2b7b3e9",
   "metadata": {},
   "source": [
    "![stacking-kaggle-scores](images/stacking-kaggle-scores.png)"
   ]
  }
 ],
 "metadata": {
  "kernelspec": {
   "display_name": "Python 3 (ipykernel)",
   "language": "python",
   "name": "python3"
  },
  "language_info": {
   "codemirror_mode": {
    "name": "ipython",
    "version": 3
   },
   "file_extension": ".py",
   "mimetype": "text/x-python",
   "name": "python",
   "nbconvert_exporter": "python",
   "pygments_lexer": "ipython3",
   "version": "3.9.6"
  },
  "toc-autonumbering": false
 },
 "nbformat": 4,
 "nbformat_minor": 5
}
