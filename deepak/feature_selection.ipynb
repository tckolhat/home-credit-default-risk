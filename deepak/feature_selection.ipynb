{
 "cells": [
  {
   "cell_type": "code",
   "execution_count": null,
   "id": "12408acd-e634-4de7-96da-6b780d12c097",
   "metadata": {},
   "outputs": [],
   "source": []
  },
  {
   "cell_type": "code",
   "execution_count": 1,
   "id": "ddce877d-d22b-4fb8-9f69-1808e4bbe780",
   "metadata": {},
   "outputs": [],
   "source": [
    "import numpy as np\n",
    "import pandas as pd\n",
    "\n",
    "from sklearn.model_selection import train_test_split\n",
    "from sklearn.pipeline import Pipeline\n",
    "from sklearn.linear_model import LogisticRegression\n",
    "from sklearn.feature_selection import SelectFromModel\n",
    "from sklearn.model_selection import GridSearchCV\n",
    "from sklearn.metrics import SCORERS\n",
    "from sklearn.metrics import roc_auc_score\n",
    "\n",
    "from sklearn.neighbors import KNeighborsClassifier\n",
    "from sklearn.feature_selection import SelectFromModel\n",
    "from sklearn.linear_model import LogisticRegressionCV\n",
    "from sklearn.model_selection import cross_val_score"
   ]
  },
  {
   "cell_type": "code",
   "execution_count": 2,
   "id": "474c31d7-1e7a-4187-8bbd-feb8cda3c820",
   "metadata": {},
   "outputs": [],
   "source": [
    "from hcdr_applications import load_datasets, preprocessing_transformations, make_prep_pipeline"
   ]
  },
  {
   "cell_type": "code",
   "execution_count": 3,
   "id": "d7de5e3f-340e-4100-80d6-9f06a6915789",
   "metadata": {},
   "outputs": [],
   "source": [
    "# load data\n",
    "DATA_DIR = \"../data\"\n",
    "# ds_names = (\"application_train\", \"application_test\", \"bureau\",\"bureau_balance\",\"credit_card_balance\",\"installments_payments\",\n",
    "#             \"previous_application\",\"POS_CASH_balance\")\n",
    "ds_names = (\"application_train\", \"application_test\")\n",
    "datasets = load_datasets(DATA_DIR, ds_names)"
   ]
  },
  {
   "cell_type": "code",
   "execution_count": 4,
   "id": "4c1971d6-a91f-41b2-9694-de3da2ceac5e",
   "metadata": {},
   "outputs": [],
   "source": [
    "cat_selected = ['CODE_GENDER', 'NAME_EDUCATION_TYPE', 'NAME_INCOME_TYPE', 'FLAG_WORK_PHONE', \n",
    "                'ORGANIZATION_TYPE', 'FLAG_OWN_CAR', 'OCCUPATION_TYPE', 'REG_CITY_NOT_LIVE_CITY', \n",
    "                'NAME_FAMILY_STATUS', 'FLAG_PHONE', 'FLAG_OWN_REALTY', 'FLAG_DOCUMENT_6', 'FLAG_DOCUMENT_18',\n",
    "                'WEEKDAY_APPR_PROCESS_START', 'NAME_TYPE_SUITE', 'FLAG_DOCUMENT_16', 'NAME_HOUSING_TYPE', \n",
    "                'EMERGENCYSTATE_MODE', 'FLAG_DOCUMENT_3', 'WALLSMATERIAL_MODE']"
   ]
  },
  {
   "cell_type": "code",
   "execution_count": 5,
   "id": "55d4384e-ead2-40e6-9015-f58a0d63b1f2",
   "metadata": {},
   "outputs": [],
   "source": [
    "y = datasets['application_train']['TARGET']\n",
    "X = preprocessing_transformations(datasets['application_train'])\n",
    "X_train, X_test, y_train, y_test = train_test_split(\n",
    "    X, y, test_size=0.2, stratify=y, random_state=42)\n",
    "X_kaggle_test = datasets['application_test']\n",
    "\n",
    "data_prep_pipeline, num_attribs_total, cat_attribs = make_prep_pipeline(cat_selected=None)"
   ]
  },
  {
   "cell_type": "code",
   "execution_count": 6,
   "id": "f87b86e7-aba6-46ad-acb8-55b41d140e82",
   "metadata": {},
   "outputs": [
    {
     "name": "stdout",
     "output_type": "stream",
     "text": [
      "CPU times: user 22.5 s, sys: 4.03 s, total: 26.5 s\n",
      "Wall time: 12.6 s\n"
     ]
    }
   ],
   "source": [
    "%%time\n",
    "full_pipeline_with_predictor = Pipeline([\n",
    "    (\"preparation\", data_prep_pipeline),\n",
    "    ('L1_selector', SelectFromModel(LogisticRegression(\n",
    "        C=0.006404,\n",
    "        penalty='l1',\n",
    "        solver='liblinear', \n",
    "        class_weight='balanced', \n",
    "        random_state=0))),\n",
    "    (\"model\", LogisticRegression(class_weight='balanced'))\n",
    "])\n",
    "model = full_pipeline_with_predictor.fit(X_train, y_train)"
   ]
  },
  {
   "cell_type": "code",
   "execution_count": 26,
   "id": "04dc5bce-9191-41e8-9d4d-38a5a46af10f",
   "metadata": {},
   "outputs": [
    {
     "data": {
      "text/plain": [
       "(0.749646813560819, 0.7508619874299979)"
      ]
     },
     "execution_count": 26,
     "metadata": {},
     "output_type": "execute_result"
    }
   ],
   "source": [
    "y_train_pred_proba = model.predict_proba(X_train)[:, 1]\n",
    "y_test_pred_proba = model.predict_proba(X_test)[:, 1]\n",
    "roc_auc_score(y_train, y_train_pred_proba), roc_auc_score(y_test, y_test_pred_proba)"
   ]
  },
  {
   "cell_type": "code",
   "execution_count": 27,
   "id": "7870c356-637f-48eb-9c65-35590c4a87d7",
   "metadata": {},
   "outputs": [
    {
     "data": {
      "text/plain": [
       "(255, 50, 205)"
      ]
     },
     "execution_count": 27,
     "metadata": {},
     "output_type": "execute_result"
    }
   ],
   "source": [
    "cat_pipeline = data_prep_pipeline.transformer_list[1][1]\n",
    "cat_features = [f'{base}_{c}'for base, ohe_c in zip(\n",
    "    cat_attribs, cat_pipeline.named_steps['ohe'].categories_) for c in ohe_c]\n",
    "features = num_attribs_total + cat_features\n",
    "total_num_features = len(features)\n",
    "len(features), len(num_attribs_total), len(cat_features)"
   ]
  },
  {
   "cell_type": "code",
   "execution_count": 28,
   "id": "c287216e-861f-4607-aab4-0a0a5ba6e74c",
   "metadata": {},
   "outputs": [
    {
     "data": {
      "text/plain": [
       "(75, 97, 255)"
      ]
     },
     "execution_count": 28,
     "metadata": {},
     "output_type": "execute_result"
    }
   ],
   "source": [
    "selector_model = full_pipeline_with_predictor.named_steps['L1_selector']\n",
    "selected_features = list(np.array(features)[selector_model.get_support()])\n",
    "len(selected_features), len(num_attribs_total + cat_attribs), total_num_features"
   ]
  },
  {
   "cell_type": "code",
   "execution_count": 15,
   "id": "d233c18b-5124-4d75-8a82-47dd38bf55a6",
   "metadata": {},
   "outputs": [
    {
     "name": "stderr",
     "output_type": "stream",
     "text": [
      "[Parallel(n_jobs=1)]: Using backend SequentialBackend with 1 concurrent workers.\n",
      "[Parallel(n_jobs=1)]: Done   5 out of   5 | elapsed:  1.1min finished\n"
     ]
    },
    {
     "data": {
      "text/html": [
       "<div>\n",
       "<style scoped>\n",
       "    .dataframe tbody tr th:only-of-type {\n",
       "        vertical-align: middle;\n",
       "    }\n",
       "\n",
       "    .dataframe tbody tr th {\n",
       "        vertical-align: top;\n",
       "    }\n",
       "\n",
       "    .dataframe thead th {\n",
       "        text-align: right;\n",
       "    }\n",
       "</style>\n",
       "<table border=\"1\" class=\"dataframe\">\n",
       "  <thead>\n",
       "    <tr style=\"text-align: right;\">\n",
       "      <th></th>\n",
       "      <th>exp_name</th>\n",
       "      <th>Train AUC</th>\n",
       "      <th>5-fold Valid AUC</th>\n",
       "      <th>5-fold Valid AUC std</th>\n",
       "      <th>Test  AUC</th>\n",
       "    </tr>\n",
       "  </thead>\n",
       "  <tbody>\n",
       "    <tr>\n",
       "      <th>0</th>\n",
       "      <td>Baseline_77(70.199)_features</td>\n",
       "      <td>0.7496</td>\n",
       "      <td>0.747</td>\n",
       "      <td>0.0051</td>\n",
       "      <td>0.7509</td>\n",
       "    </tr>\n",
       "  </tbody>\n",
       "</table>\n",
       "</div>"
      ],
      "text/plain": [
       "                       exp_name  Train AUC  5-fold Valid AUC  \\\n",
       "0  Baseline_77(70.199)_features     0.7496             0.747   \n",
       "\n",
       "   5-fold Valid AUC std  Test  AUC  \n",
       "0                0.0051     0.7509  "
      ]
     },
     "execution_count": 15,
     "metadata": {},
     "output_type": "execute_result"
    }
   ],
   "source": [
    "y_train_pred_proba = model.predict_proba(X_train)[:, 1]\n",
    "y_test_pred_proba = model.predict_proba(X_test)[:, 1]\n",
    "y_train_pred = y_train_pred_proba > 0.5\n",
    "y_test_pred = y_test_pred_proba > 0.5\n",
    "scores = cross_val_score(model, X_train, y_train, cv=5, scoring='roc_auc', verbose=1)\n",
    "\n",
    "\n",
    "try:\n",
    "    expLog\n",
    "except NameError:\n",
    "    expLog = pd.DataFrame(columns=[\"exp_name\", \n",
    "                                   \"Train AUC\", \n",
    "                                   \"5-fold Valid AUC\",\n",
    "                                   \"5-fold Valid AUC std\",\n",
    "                                   \"Test  AUC\"\n",
    "                                  ])\n",
    "\n",
    "exp_name = f\"Baseline_{len(selected_features)}({len(num_attribs_total + cat_attribs)}.{total_num_features})_features\"\n",
    "expLog.loc[len(expLog)] = [f\"{exp_name}\"] + list(np.round(\n",
    "               [roc_auc_score(y_train, y_train_pred_proba),\n",
    "                scores.mean(),\n",
    "                scores.std(),\n",
    "                roc_auc_score(y_test, y_test_pred_proba)],\n",
    "    4)) \n",
    "expLog"
   ]
  },
  {
   "cell_type": "markdown",
   "id": "fb9fbd31-024c-4b93-9c8b-1a0886ee180c",
   "metadata": {},
   "source": [
    "### Interpretting L1 Selector Estimator"
   ]
  },
  {
   "cell_type": "code",
   "execution_count": 22,
   "id": "4fe0209c-8f9d-4556-a9a3-a0ec4457c83a",
   "metadata": {},
   "outputs": [],
   "source": [
    "# x=['AMT_ANNUITY', 'AMT_GOODS_PRICE', 'REGION_POPULATION_RELATIVE', 'DAYS_EMPLOYED', 'DAYS_BIRTH', 'EXT_SOURCE_1', 'EXT_SOURCE_2', 'EXT_SOURCE_3', 'DAYS_ID_PUBLISH', 'DAYS_REGISTRATION', 'OWN_CAR_AGE', 'OBS_30_CNT_SOCIAL_CIRCLE', 'DEF_30_CNT_SOCIAL_CIRCLE', 'DEF_60_CNT_SOCIAL_CIRCLE', 'AMT_REQ_CREDIT_BUREAU_HOUR', 'AMT_REQ_CREDIT_BUREAU_DAY', 'AMT_REQ_CREDIT_BUREAU_WEEK', 'AMT_REQ_CREDIT_BUREAU_MON', 'AMT_REQ_CREDIT_BUREAU_QRT', 'AMT_REQ_CREDIT_BUREAU_YEAR', 'REGION_RATING_CLIENT', 'REGION_RATING_CLIENT_W_CITY', 'HOUR_APPR_PROCESS_START', 'annuity_income_percentage', 'car_to_birth_ratio', 'children_ratio', 'credit_to_annuity_ratio', 'credit_to_goods_ratio', 'credit_to_income_ratio', 'days_employed_percentage', 'income_credit_percentage', 'income_per_child', 'payment_rate', 'phone_to_birth_ratio', 'phone_to_employ_ratio', 'external_source_mean', 'child_to_non_child_ratio', 'credit_per_person', 'CODE_GENDER_F', 'CODE_GENDER_M', 'FLAG_OWN_CAR_N', 'FLAG_OWN_CAR_Y', 'FLAG_OWN_REALTY_N', 'FLAG_OWN_REALTY_Y', 'NAME_TYPE_SUITE_Unaccompanied', 'NAME_INCOME_TYPE_State servant', 'NAME_INCOME_TYPE_Working', 'NAME_EDUCATION_TYPE_Higher education', 'NAME_EDUCATION_TYPE_Incomplete higher', 'NAME_EDUCATION_TYPE_Lower secondary', 'NAME_EDUCATION_TYPE_Secondary / secondary special', 'NAME_FAMILY_STATUS_Civil marriage', 'NAME_FAMILY_STATUS_Married', 'NAME_FAMILY_STATUS_Widow', 'NAME_HOUSING_TYPE_House / apartment', 'NAME_HOUSING_TYPE_Municipal apartment', 'NAME_HOUSING_TYPE_Rented apartment', 'OCCUPATION_TYPE_Accountants', 'OCCUPATION_TYPE_Core staff', 'OCCUPATION_TYPE_Drivers', 'OCCUPATION_TYPE_High skill tech staff', 'OCCUPATION_TYPE_Laborers', 'OCCUPATION_TYPE_Low-skill Laborers', 'OCCUPATION_TYPE_Managers', 'OCCUPATION_TYPE_Sales staff', 'OCCUPATION_TYPE_Security staff', 'OCCUPATION_TYPE_missing', 'WALLSMATERIAL_MODE_Panel', 'WALLSMATERIAL_MODE_Stone, brick', 'EMERGENCYSTATE_MODE_No', 'EMERGENCYSTATE_MODE_missing', 'WEEKDAY_APPR_PROCESS_START_FRIDAY', 'WEEKDAY_APPR_PROCESS_START_MONDAY', 'WEEKDAY_APPR_PROCESS_START_SATURDAY', 'WEEKDAY_APPR_PROCESS_START_SUNDAY', 'WEEKDAY_APPR_PROCESS_START_TUESDAY', 'WEEKDAY_APPR_PROCESS_START_WEDNESDAY', 'ORGANIZATION_TYPE_Business Entity Type 2', 'ORGANIZATION_TYPE_Business Entity Type 3', 'ORGANIZATION_TYPE_Construction', 'ORGANIZATION_TYPE_Industry: type 3', 'ORGANIZATION_TYPE_Industry: type 9', 'ORGANIZATION_TYPE_Military', 'ORGANIZATION_TYPE_School', 'ORGANIZATION_TYPE_Self-employed', 'ORGANIZATION_TYPE_Trade: type 2', 'ORGANIZATION_TYPE_Trade: type 7', 'ORGANIZATION_TYPE_Transport: type 3', 'FLAG_WORK_PHONE_0', 'FLAG_WORK_PHONE_1', 'FLAG_PHONE_0', 'FLAG_PHONE_1', 'FLAG_EMAIL_0', 'FLAG_EMAIL_1', 'REG_REGION_NOT_LIVE_REGION_0', 'REG_REGION_NOT_LIVE_REGION_1', 'REG_REGION_NOT_WORK_REGION_0', 'REG_REGION_NOT_WORK_REGION_1', 'REG_CITY_NOT_LIVE_CITY_0', 'REG_CITY_NOT_LIVE_CITY_1', 'FLAG_DOCUMENT_3_0', 'FLAG_DOCUMENT_3_1', 'FLAG_DOCUMENT_5_0', 'FLAG_DOCUMENT_5_1', 'FLAG_DOCUMENT_6_0', 'FLAG_DOCUMENT_6_1', 'FLAG_DOCUMENT_8_1', 'FLAG_DOCUMENT_16_0', 'FLAG_DOCUMENT_16_1', 'FLAG_DOCUMENT_18_0', 'FLAG_DOCUMENT_18_1']\n",
    "\n",
    "# x=['AMT_ANNUITY', 'AMT_GOODS_PRICE', 'REGION_POPULATION_RELATIVE', 'DAYS_EMPLOYED', 'DAYS_BIRTH', 'EXT_SOURCE_1', 'EXT_SOURCE_2', 'EXT_SOURCE_3', 'DAYS_ID_PUBLISH', 'DAYS_REGISTRATION', 'OWN_CAR_AGE', 'OBS_30_CNT_SOCIAL_CIRCLE', 'DEF_30_CNT_SOCIAL_CIRCLE', 'DEF_60_CNT_SOCIAL_CIRCLE', 'AMT_REQ_CREDIT_BUREAU_DAY', 'AMT_REQ_CREDIT_BUREAU_WEEK', 'AMT_REQ_CREDIT_BUREAU_MON', 'AMT_REQ_CREDIT_BUREAU_QRT', 'AMT_REQ_CREDIT_BUREAU_YEAR', 'REGION_RATING_CLIENT_W_CITY', 'HOUR_APPR_PROCESS_START', 'annuity_income_percentage', 'car_to_birth_ratio', 'children_ratio', 'credit_to_annuity_ratio', 'credit_to_goods_ratio', 'credit_to_income_ratio', 'days_employed_percentage', 'income_credit_percentage', 'income_per_child', 'payment_rate', 'phone_to_birth_ratio', 'phone_to_employ_ratio', 'external_source_mean', 'child_to_non_child_ratio', 'credit_per_person', 'CODE_GENDER_F', 'CODE_GENDER_M', 'FLAG_OWN_CAR_N', 'FLAG_OWN_CAR_Y', 'FLAG_OWN_REALTY_N', 'FLAG_OWN_REALTY_Y', 'NAME_TYPE_SUITE_Unaccompanied', 'NAME_INCOME_TYPE_State servant', 'NAME_INCOME_TYPE_Working', 'NAME_EDUCATION_TYPE_Higher education', 'NAME_EDUCATION_TYPE_Lower secondary', 'NAME_EDUCATION_TYPE_Secondary / secondary special', 'NAME_FAMILY_STATUS_Civil marriage', 'NAME_FAMILY_STATUS_Married', 'NAME_FAMILY_STATUS_Widow', 'NAME_HOUSING_TYPE_House / apartment', 'NAME_HOUSING_TYPE_Municipal apartment', 'OCCUPATION_TYPE_Accountants', 'OCCUPATION_TYPE_Core staff', 'OCCUPATION_TYPE_Drivers', 'OCCUPATION_TYPE_Laborers', 'OCCUPATION_TYPE_Low-skill Laborers', 'OCCUPATION_TYPE_Sales staff', 'OCCUPATION_TYPE_missing', 'WALLSMATERIAL_MODE_Panel', 'EMERGENCYSTATE_MODE_No', 'EMERGENCYSTATE_MODE_missing', 'WEEKDAY_APPR_PROCESS_START_MONDAY', 'WEEKDAY_APPR_PROCESS_START_SATURDAY', 'WEEKDAY_APPR_PROCESS_START_TUESDAY', 'WEEKDAY_APPR_PROCESS_START_WEDNESDAY', 'ORGANIZATION_TYPE_Business Entity Type 3', 'ORGANIZATION_TYPE_Construction', 'ORGANIZATION_TYPE_Industry: type 9', 'ORGANIZATION_TYPE_Military', 'ORGANIZATION_TYPE_Self-employed', 'FLAG_WORK_PHONE_0', 'FLAG_WORK_PHONE_1', 'FLAG_PHONE_0', 'FLAG_PHONE_1', 'REG_CITY_NOT_LIVE_CITY_0', 'REG_CITY_NOT_LIVE_CITY_1', 'FLAG_DOCUMENT_3_0', 'FLAG_DOCUMENT_3_1', 'FLAG_DOCUMENT_6_0', 'FLAG_DOCUMENT_6_1', 'FLAG_DOCUMENT_16_0', 'FLAG_DOCUMENT_16_1', 'FLAG_DOCUMENT_18_0', 'FLAG_DOCUMENT_18_1']"
   ]
  },
  {
   "cell_type": "code",
   "execution_count": 23,
   "id": "4888b1dd-4de4-4b2a-befe-2b0c6c8bed55",
   "metadata": {},
   "outputs": [
    {
     "data": {
      "text/plain": [
       "86"
      ]
     },
     "execution_count": 23,
     "metadata": {},
     "output_type": "execute_result"
    }
   ],
   "source": [
    "len(x)"
   ]
  },
  {
   "cell_type": "code",
   "execution_count": 29,
   "id": "ef51d812-1c4f-40bf-975b-efb21183ffef",
   "metadata": {},
   "outputs": [],
   "source": [
    "selected_attribs = set([f if f in num_attribs_total else '_'.join(f.split('_')[:-1]) for f in selected_features])\n",
    "selected_num_attribs = set([f for f in selected_features if f in num_attribs_total])\n",
    "selected_cat_attribs = set(['_'.join(f.split('_')[:-1]) for f in selected_features if f not in num_attribs_total])"
   ]
  },
  {
   "cell_type": "code",
   "execution_count": 30,
   "id": "c790b6e5-d45a-4d70-b5ad-03b64049d5e6",
   "metadata": {},
   "outputs": [
    {
     "data": {
      "text/plain": [
       "({'AMT_ANNUITY',\n",
       "  'AMT_GOODS_PRICE',\n",
       "  'AMT_REQ_CREDIT_BUREAU_DAY',\n",
       "  'AMT_REQ_CREDIT_BUREAU_MON',\n",
       "  'AMT_REQ_CREDIT_BUREAU_QRT',\n",
       "  'AMT_REQ_CREDIT_BUREAU_WEEK',\n",
       "  'AMT_REQ_CREDIT_BUREAU_YEAR',\n",
       "  'DAYS_BIRTH',\n",
       "  'DAYS_EMPLOYED',\n",
       "  'DAYS_ID_PUBLISH',\n",
       "  'DAYS_REGISTRATION',\n",
       "  'DEF_30_CNT_SOCIAL_CIRCLE',\n",
       "  'DEF_60_CNT_SOCIAL_CIRCLE',\n",
       "  'EXT_SOURCE_1',\n",
       "  'EXT_SOURCE_2',\n",
       "  'EXT_SOURCE_3',\n",
       "  'HOUR_APPR_PROCESS_START',\n",
       "  'OBS_30_CNT_SOCIAL_CIRCLE',\n",
       "  'OWN_CAR_AGE',\n",
       "  'REGION_POPULATION_RELATIVE',\n",
       "  'REGION_RATING_CLIENT_W_CITY',\n",
       "  'annuity_income_percentage',\n",
       "  'car_to_birth_ratio',\n",
       "  'child_to_non_child_ratio',\n",
       "  'children_ratio',\n",
       "  'credit_per_person',\n",
       "  'credit_to_goods_ratio',\n",
       "  'credit_to_income_ratio',\n",
       "  'days_employed_percentage',\n",
       "  'external_source_mean',\n",
       "  'income_per_child',\n",
       "  'payment_rate',\n",
       "  'phone_to_birth_ratio',\n",
       "  'phone_to_employ_ratio'},\n",
       " 34,\n",
       " 50)"
      ]
     },
     "execution_count": 30,
     "metadata": {},
     "output_type": "execute_result"
    }
   ],
   "source": [
    "selected_num_attribs, len(selected_num_attribs), len(num_attribs_total)"
   ]
  },
  {
   "cell_type": "code",
   "execution_count": 31,
   "id": "a3a52489-a12a-4621-bec6-f75fed569675",
   "metadata": {},
   "outputs": [
    {
     "data": {
      "text/plain": [
       "({'CODE_GENDER',\n",
       "  'EMERGENCYSTATE_MODE',\n",
       "  'FLAG_DOCUMENT_16',\n",
       "  'FLAG_DOCUMENT_18',\n",
       "  'FLAG_DOCUMENT_3',\n",
       "  'FLAG_DOCUMENT_6',\n",
       "  'FLAG_OWN_CAR',\n",
       "  'FLAG_OWN_REALTY',\n",
       "  'FLAG_PHONE',\n",
       "  'FLAG_WORK_PHONE',\n",
       "  'NAME_EDUCATION_TYPE',\n",
       "  'NAME_FAMILY_STATUS',\n",
       "  'NAME_HOUSING_TYPE',\n",
       "  'NAME_INCOME_TYPE',\n",
       "  'NAME_TYPE_SUITE',\n",
       "  'OCCUPATION_TYPE',\n",
       "  'ORGANIZATION_TYPE',\n",
       "  'REG_CITY_NOT_LIVE_CITY',\n",
       "  'WALLSMATERIAL_MODE',\n",
       "  'WEEKDAY_APPR_PROCESS_START'},\n",
       " 20,\n",
       " 47)"
      ]
     },
     "execution_count": 31,
     "metadata": {},
     "output_type": "execute_result"
    }
   ],
   "source": [
    "selected_cat_attribs, len(selected_cat_attribs), len(cat_attribs)"
   ]
  },
  {
   "cell_type": "code",
   "execution_count": 32,
   "id": "d2c33b50-0e05-4e25-9081-98c4e49069b2",
   "metadata": {},
   "outputs": [],
   "source": [
    "unused_attribs = set(num_attribs_total+cat_attribs) - selected_attribs"
   ]
  },
  {
   "cell_type": "code",
   "execution_count": 33,
   "id": "23304258-3cb4-4105-8337-c336c8f684a3",
   "metadata": {},
   "outputs": [
    {
     "data": {
      "text/plain": [
       "({'AMT_CREDIT',\n",
       "  'AMT_INCOME_TOTAL',\n",
       "  'AMT_REQ_CREDIT_BUREAU_HOUR',\n",
       "  'CNT_CHILDREN',\n",
       "  'CNT_FAM_MEMBERS',\n",
       "  'DAYS_LAST_PHONE_CHANGE',\n",
       "  'FLAG_CONT_MOBILE',\n",
       "  'FLAG_DOCUMENT_10',\n",
       "  'FLAG_DOCUMENT_11',\n",
       "  'FLAG_DOCUMENT_12',\n",
       "  'FLAG_DOCUMENT_13',\n",
       "  'FLAG_DOCUMENT_14',\n",
       "  'FLAG_DOCUMENT_15',\n",
       "  'FLAG_DOCUMENT_17',\n",
       "  'FLAG_DOCUMENT_19',\n",
       "  'FLAG_DOCUMENT_2',\n",
       "  'FLAG_DOCUMENT_20',\n",
       "  'FLAG_DOCUMENT_21',\n",
       "  'FLAG_DOCUMENT_4',\n",
       "  'FLAG_DOCUMENT_5',\n",
       "  'FLAG_DOCUMENT_7',\n",
       "  'FLAG_DOCUMENT_8',\n",
       "  'FLAG_DOCUMENT_9',\n",
       "  'FLAG_EMAIL',\n",
       "  'FLAG_EMP_PHONE',\n",
       "  'FLAG_MOBIL',\n",
       "  'HOUSETYPE_MODE',\n",
       "  'LIVE_CITY_NOT_WORK_CITY',\n",
       "  'LIVE_REGION_NOT_WORK_REGION',\n",
       "  'NAME_CONTRACT_TYPE',\n",
       "  'OBS_60_CNT_SOCIAL_CIRCLE',\n",
       "  'REGION_RATING_CLIENT',\n",
       "  'REG_CITY_NOT_WORK_CITY',\n",
       "  'REG_REGION_NOT_LIVE_REGION',\n",
       "  'REG_REGION_NOT_WORK_REGION',\n",
       "  'car_to_employ_ratio',\n",
       "  'cnt_non_child',\n",
       "  'credit_per_child',\n",
       "  'credit_per_non_child',\n",
       "  'credit_to_annuity_ratio',\n",
       "  'income_credit_percentage',\n",
       "  'income_per_non_child',\n",
       "  'income_per_person'},\n",
       " 43)"
      ]
     },
     "execution_count": 33,
     "metadata": {},
     "output_type": "execute_result"
    }
   ],
   "source": [
    "unused_attribs, len(unused_attribs)"
   ]
  }
 ],
 "metadata": {
  "kernelspec": {
   "display_name": "Python 3 (ipykernel)",
   "language": "python",
   "name": "python3"
  },
  "language_info": {
   "codemirror_mode": {
    "name": "ipython",
    "version": 3
   },
   "file_extension": ".py",
   "mimetype": "text/x-python",
   "name": "python",
   "nbconvert_exporter": "python",
   "pygments_lexer": "ipython3",
   "version": "3.9.6"
  }
 },
 "nbformat": 4,
 "nbformat_minor": 5
}
