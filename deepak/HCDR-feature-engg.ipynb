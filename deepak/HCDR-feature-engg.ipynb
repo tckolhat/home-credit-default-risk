{
 "cells": [
  {
   "cell_type": "code",
   "execution_count": 1,
   "id": "b2906471-9263-422a-9d2d-f8032b4a4cc3",
   "metadata": {},
   "outputs": [],
   "source": [
    "import numpy as np\n",
    "import pandas as pd \n",
    "import os\n",
    "import zipfile\n",
    "import warnings\n",
    "warnings.filterwarnings('ignore')\n",
    "\n",
    "from sklearn.base import BaseEstimator, TransformerMixin\n",
    "\n",
    "def load_data(in_path, name):\n",
    "    df = pd.read_csv(in_path)\n",
    "    return df\n",
    "\n",
    "def load_datasets(DATA_DIR, ds_names):\n",
    "    datasets = {}\n",
    "    for ds_name in ds_names:\n",
    "        datasets[ds_name] = load_data(os.path.join(DATA_DIR, f'{ds_name}.csv'), ds_name)\n",
    "    return datasets\n",
    "    \n",
    "def pct(x):\n",
    "    return round(100*x,3)\n",
    "\n",
    "# Create a class to select numerical or categorical columns \n",
    "# since Scikit-Learn doesn't handle DataFrames yet\n",
    "class DataFrameSelector(BaseEstimator, TransformerMixin):\n",
    "    def __init__(self, attribute_names):\n",
    "        self.attribute_names = attribute_names\n",
    "    def fit(self, X, y=None):\n",
    "        return self\n",
    "    def transform(self, X):\n",
    "        return X[self.attribute_names]\n",
    "    \n",
    "import matplotlib.pyplot as plt\n",
    "import seaborn as sns\n",
    "from sklearn.metrics import confusion_matrix, precision_score, recall_score, precision_recall_curve, f1_score\n",
    "\n",
    "def show_scores(y, y_pred, percentages=False):\n",
    "    conf_mx = confusion_matrix(y, y_pred)\n",
    "    if percentages:\n",
    "        conf_mx = 100*conf_mx/y.shape[0]\n",
    "    print('scores\\n')\n",
    "    print('precision', precision_score(y, y_pred))\n",
    "    print('recall   ', recall_score(y, y_pred))\n",
    "    print('f1       ', f1_score(y, y_pred))\n",
    "    print('accuracy ', np.sum(y == y_pred)/y.shape[0])\n",
    "\n",
    "    ax= plt.subplot()\n",
    "    sns.heatmap(conf_mx, annot=True, fmt='3.1f')\n",
    "    \n",
    "    # labels, title and ticks\n",
    "    ax.set_xlabel('Predicted labels');ax.set_ylabel('True labels'); \n",
    "    ax.set_title('Confusion Matrix'); \n",
    "    \n",
    "from IPython.display import display, HTML, Javascript\n",
    "\n",
    "js_getResults = \"\"\"<script>\n",
    "alert(\"Hello! I am an alert box!\");\n",
    "</script>\"\"\"\n",
    "\n",
    "def alert():\n",
    "    display(HTML(js_getResults))"
   ]
  },
  {
   "cell_type": "code",
   "execution_count": 2,
   "id": "72c7368a-d324-4d83-9aa8-4c59de273f98",
   "metadata": {},
   "outputs": [],
   "source": [
    "import numpy as np\n",
    "import pandas as pd\n",
    "import matplotlib.pyplot as plt\n",
    "\n",
    "from sklearn.model_selection import train_test_split\n",
    "from sklearn.impute import SimpleImputer\n",
    "from sklearn.pipeline import Pipeline\n",
    "from sklearn.pipeline import FeatureUnion\n",
    "from sklearn.preprocessing import StandardScaler\n",
    "from sklearn.preprocessing import OneHotEncoder\n",
    "from sklearn.linear_model import LogisticRegression\n",
    "from sklearn.model_selection import StratifiedKFold\n",
    "from sklearn.model_selection import cross_val_score\n",
    "from sklearn.metrics import roc_auc_score\n",
    "from sklearn.compose import ColumnTransformer\n",
    "from sklearn.preprocessing import FunctionTransformer\n",
    "from sklearn.metrics import accuracy_score\n",
    "from sklearn.metrics import classification_report\n",
    "from sklearn.pipeline import Pipeline"
   ]
  },
  {
   "cell_type": "code",
   "execution_count": 6,
   "id": "135e8364-28f7-4f6b-8b22-5b4445a24d1f",
   "metadata": {},
   "outputs": [],
   "source": [
    "DATA_DIR = \"../data\"\n",
    "# ds_names = (\"application_train\", \"application_test\", \"bureau\",\"bureau_balance\",\"credit_card_balance\",\"installments_payments\",\n",
    "#             \"previous_application\",\"POS_CASH_balance\")\n",
    "ds_names = (\"application_train\", \"application_test\")\n",
    "\n",
    "datasets = load_datasets(DATA_DIR, ds_names)"
   ]
  },
  {
   "cell_type": "code",
   "execution_count": 7,
   "id": "5ee0a75a-0379-43fe-9012-78fcc2c660e3",
   "metadata": {},
   "outputs": [],
   "source": [
    "app = datasets['application_train']"
   ]
  },
  {
   "cell_type": "markdown",
   "id": "40bebe59-344f-4f88-8fab-60f732db0108",
   "metadata": {},
   "source": [
    "- amt_credit - right skewed - not much difference between 0 and 1\n",
    "- AMT_INCOME_TOTAL - right skewed - median of 1 slightly lower than 0\n",
    "- AMT_ANNUITY - right skewed\n",
    "- AMT_GOODS_PRICE - right skewed\n",
    "- REGION_POPULATION_RELATIVE - outliers on the right\n",
    "- DAYS_REGISTRATION - left skewed (reflet and sqrt looks normal, but other days are log transformed)\n",
    "- DAYS_ID_PUBLISH - looks okay\n",
    "- OWN_CAR_AGE - right skewed - log transform\n",
    "- DAYS_LAST_PHONE_CHANGE - left skewed (reflect and sqrt looks centered)\n",
    "\n",
    "adding info about building increased train scores and reduced cv and test scores "
   ]
  },
  {
   "cell_type": "markdown",
   "id": "85817b7e-cf9b-4725-aeae-f7c38d664149",
   "metadata": {},
   "source": [
    "### Transformations"
   ]
  },
  {
   "cell_type": "code",
   "execution_count": 107,
   "id": "1a56ecf6-9762-4a2a-9540-dd861a208e14",
   "metadata": {},
   "outputs": [],
   "source": [
    "# one unusual row of id: 272071 where SOCIAL CIRCLE (4 features) values are extremely high\n",
    "#datasets['application_train'].drop(np.where(datasets['application_train']['SK_ID_CURR']==272071)[0][0], axis=0, inplace=True)"
   ]
  },
  {
   "cell_type": "code",
   "execution_count": 8,
   "id": "671cf6a8-12bc-48ef-bb5d-fc3ff5f02af3",
   "metadata": {},
   "outputs": [],
   "source": [
    "def corr_lr(X, y, score=roc_auc_score):\n",
    "    lr = make_pipeline(SimpleImputer(strategy='mean'), StandardScaler(), LogisticRegression(class_weight='balanced'))\n",
    "    lr.fit(X, y)\n",
    "    return score(y, lr.predict(X))\n",
    "\n",
    "def corr_lr_xsfrm(df, attr, f, score=roc_auc_score):\n",
    "    X = df[[attr]]\n",
    "    y = df['TARGET']   \n",
    "    print('score:before', np.round(corr_lr(X, y, score), 5))\n",
    "    \n",
    "    X = f(X)  \n",
    "    print('score:after', np.round(corr_lr(X, y, score), 5))"
   ]
  },
  {
   "cell_type": "code",
   "execution_count": 9,
   "id": "c0c6f77f-a7f7-4391-81e9-356d582ec25c",
   "metadata": {},
   "outputs": [
    {
     "data": {
      "text/plain": [
       "array([10.14,  7.  ])"
      ]
     },
     "execution_count": 9,
     "metadata": {},
     "output_type": "execute_result"
    }
   ],
   "source": [
    "mask = app['CODE_GENDER'] == 'M'\n",
    "x,y = app[mask]['TARGET'].value_counts(), app[~mask]['TARGET'].value_counts()\n",
    "\n",
    "100*np.round((x[1]/np.sum(x), y[1]/np.sum(y)), 4)"
   ]
  },
  {
   "cell_type": "markdown",
   "id": "e9d200fc-a2e3-41a3-9dff-f459e2c6e2f9",
   "metadata": {},
   "source": [
    "### Pipeline"
   ]
  },
  {
   "cell_type": "code",
   "execution_count": 10,
   "id": "65633c4d-715f-49b7-9214-f72c0c47a01f",
   "metadata": {},
   "outputs": [],
   "source": [
    "def transform_days(X):\n",
    "    mask = X > 0\n",
    "    X[mask] = np.NaN\n",
    "    # return np.log1p(-1*X)\n",
    "    return -X\n",
    "\n",
    "def preprocessing_transformations(df, inplace=False):\n",
    "    # pure state-less transformations \n",
    "    if inplace:\n",
    "        df_new = df\n",
    "    else:\n",
    "        df_new = df.copy()\n",
    "    \n",
    "    \n",
    "    right_skewed = ['AMT_ANNUITY']\n",
    "    left_skewed = []\n",
    "    days = ['DAYS_EMPLOYED']\n",
    "    \n",
    "    transform_left_skewed = lambda X: np.log(1+np.max(X)-X)\n",
    "    \n",
    "    df_new[right_skewed] = np.log1p(df[right_skewed])\n",
    "    df_new[left_skewed] = transform_left_skewed(df[left_skewed])\n",
    "    df_new[days] = transform_days(df[days])\n",
    "    \n",
    "    # others\n",
    "    df_new['OWN_CAR_AGE'] = SimpleImputer(strategy='constant', fill_value=0).fit_transform(df[['OWN_CAR_AGE']]).ravel()\n",
    "    df['NAME_FAMILY_STATUS'].replace('Unknown', np.nan, inplace=True)\n",
    "    df['ORGANIZATION_TYPE'].replace('XNA', np.nan, inplace=True)\n",
    "    df['CODE_GENDER'].replace('XNA', np.nan, inplace=True)\n",
    "    \n",
    "    return df_new\n",
    "    \n",
    "def add_new_features(df, inplace=False):\n",
    "    if inplace:\n",
    "        X = df\n",
    "    else:\n",
    "        X = df.copy()\n",
    "    X['annuity_income_percentage'] = X['AMT_ANNUITY'] / X['AMT_INCOME_TOTAL']\n",
    "    X['car_to_birth_ratio'] = X['OWN_CAR_AGE'] / X['DAYS_BIRTH']\n",
    "    X['car_to_employ_ratio'] = X['OWN_CAR_AGE'] / (1+X['DAYS_EMPLOYED'])\n",
    "    X['children_ratio'] = X['CNT_CHILDREN'] / X['CNT_FAM_MEMBERS']\n",
    "    X['credit_to_annuity_ratio'] = X['AMT_CREDIT'] / X['AMT_ANNUITY']\n",
    "    X['credit_to_goods_ratio'] = X['AMT_CREDIT'] / X['AMT_GOODS_PRICE']\n",
    "    X['credit_to_income_ratio'] = X['AMT_CREDIT'] / X['AMT_INCOME_TOTAL']\n",
    "    X['days_employed_percentage'] = X['DAYS_EMPLOYED'] / X['DAYS_BIRTH']\n",
    "    X['income_credit_percentage'] = X['AMT_INCOME_TOTAL'] / X['AMT_CREDIT']\n",
    "    X['income_per_child'] = X['AMT_INCOME_TOTAL'] / (1 + X['CNT_CHILDREN'])\n",
    "    X['income_per_person'] = X['AMT_INCOME_TOTAL'] / X['CNT_FAM_MEMBERS']\n",
    "    X['payment_rate'] = X['AMT_ANNUITY'] / X['AMT_CREDIT']\n",
    "    X['phone_to_birth_ratio'] = X['DAYS_LAST_PHONE_CHANGE'] / X['DAYS_BIRTH']\n",
    "    X['phone_to_employ_ratio'] = X['DAYS_LAST_PHONE_CHANGE'] / (1+X['DAYS_EMPLOYED'])\n",
    "    X['external_source_mean'] = X[['EXT_SOURCE_1', 'EXT_SOURCE_2', 'EXT_SOURCE_3']].mean(axis=1)\n",
    "    X['cnt_non_child'] = X['CNT_FAM_MEMBERS'] - X['CNT_CHILDREN']\n",
    "    X['child_to_non_child_ratio'] = X['CNT_CHILDREN'] / X['cnt_non_child']\n",
    "    X['income_per_non_child'] = X['AMT_INCOME_TOTAL'] / X['cnt_non_child']\n",
    "    X['credit_per_person'] = X['AMT_CREDIT'] / X['CNT_FAM_MEMBERS']\n",
    "    X['credit_per_child'] = X['AMT_CREDIT'] / (1 + X['CNT_CHILDREN'])\n",
    "    X['credit_per_non_child'] = X['AMT_CREDIT'] / X['cnt_non_child']\n",
    "    \n",
    "    return X"
   ]
  },
  {
   "cell_type": "code",
   "execution_count": 11,
   "id": "f692fe37-36f1-4a88-bafc-d2724ed86fa1",
   "metadata": {},
   "outputs": [],
   "source": [
    "# Identify the numeric features we wish to consider. \n",
    "num_attribs = ['AMT_INCOME_TOTAL', 'AMT_ANNUITY', 'AMT_GOODS_PRICE', 'AMT_CREDIT', 'REGION_POPULATION_RELATIVE', \n",
    "               'DAYS_EMPLOYED','DAYS_BIRTH','EXT_SOURCE_1','EXT_SOURCE_2','EXT_SOURCE_3', 'DAYS_ID_PUBLISH',\n",
    "               'DAYS_REGISTRATION', 'DAYS_LAST_PHONE_CHANGE', 'OWN_CAR_AGE', 'OBS_30_CNT_SOCIAL_CIRCLE', \n",
    "               'DEF_30_CNT_SOCIAL_CIRCLE', 'OBS_60_CNT_SOCIAL_CIRCLE', 'DEF_60_CNT_SOCIAL_CIRCLE', \n",
    "               'AMT_REQ_CREDIT_BUREAU_HOUR', 'AMT_REQ_CREDIT_BUREAU_DAY', 'AMT_REQ_CREDIT_BUREAU_WEEK', \n",
    "               'AMT_REQ_CREDIT_BUREAU_MON', 'AMT_REQ_CREDIT_BUREAU_QRT', 'AMT_REQ_CREDIT_BUREAU_YEAR', \n",
    "               'CNT_CHILDREN', 'CNT_FAM_MEMBERS', 'REGION_RATING_CLIENT', 'REGION_RATING_CLIENT_W_CITY', \n",
    "               'HOUR_APPR_PROCESS_START']\n",
    "new_features = ['annuity_income_percentage', 'car_to_birth_ratio', 'car_to_employ_ratio', 'children_ratio', \n",
    "                'credit_to_annuity_ratio', 'credit_to_goods_ratio', 'credit_to_income_ratio', 'days_employed_percentage', \n",
    "                'income_credit_percentage', 'income_per_child', 'income_per_person', 'payment_rate', 'phone_to_birth_ratio', \n",
    "                'phone_to_employ_ratio', 'external_source_mean', 'cnt_non_child', 'child_to_non_child_ratio', \n",
    "               'income_per_non_child', 'credit_per_person', 'credit_per_child', 'credit_per_non_child']\n",
    "num_attribs_total = num_attribs + new_features\n",
    "\n",
    "# num_ct = ColumnTransformer([\n",
    "#     ('right-skewed-log-transform', FunctionTransformer(lambda X: np.log1p(X)), ['AMT_ANNUITY']),\n",
    "#     ('DAYS_EMPLOYED', DaysEmployedXFMR(), ['DAYS_EMPLOYED']), # remove pos values, flip on origin, and log transform\n",
    "#     # ('EXT_SOURCE_2', FunctionTransformer(lambda X: np.log1p(np.max(X)-X)), ['EXT_SOURCE_2']), # left skewed, reflect and log transform\n",
    "#     # ('bar', FunctionTransformer(lambda X: np.log(1+np.max(X)-X)), ['DAYS_REGISTRATION', 'DAYS_LAST_PHONE_CHANGE']),\n",
    "#     ('missing_0', SimpleImputer(strategy='constant', fill_value=0), ['OWN_CAR_AGE'])\n",
    "# ], remainder='passthrough')\n",
    "\n",
    "num_pipeline = Pipeline([\n",
    "        ('new_features', FunctionTransformer(add_new_features)),\n",
    "        ('selector', DataFrameSelector(num_attribs_total)),\n",
    "        ('imputer', SimpleImputer(strategy='mean')),\n",
    "        ('std_scaler', StandardScaler()),\n",
    "    ])\n",
    "\n",
    "# cat_attribs = ['CODE_GENDER']\n",
    "cat_attribs = ['NAME_CONTRACT_TYPE', 'CODE_GENDER', 'FLAG_OWN_CAR', 'FLAG_OWN_REALTY', 'NAME_TYPE_SUITE', 'NAME_INCOME_TYPE',\n",
    "               'NAME_EDUCATION_TYPE', 'NAME_FAMILY_STATUS', 'NAME_HOUSING_TYPE', 'OCCUPATION_TYPE', 'HOUSETYPE_MODE','WALLSMATERIAL_MODE', 'EMERGENCYSTATE_MODE',\n",
    "               'WEEKDAY_APPR_PROCESS_START', 'ORGANIZATION_TYPE', 'FLAG_MOBIL', 'FLAG_EMP_PHONE', 'FLAG_WORK_PHONE', 'FLAG_CONT_MOBILE', 'FLAG_PHONE', \n",
    "               'FLAG_EMAIL', 'REG_REGION_NOT_LIVE_REGION', 'REG_REGION_NOT_WORK_REGION', 'LIVE_REGION_NOT_WORK_REGION', \n",
    "               'REG_CITY_NOT_LIVE_CITY', 'REG_CITY_NOT_WORK_CITY', 'LIVE_CITY_NOT_WORK_CITY', 'FLAG_DOCUMENT_2', \n",
    "               'FLAG_DOCUMENT_3', 'FLAG_DOCUMENT_4', 'FLAG_DOCUMENT_5', 'FLAG_DOCUMENT_6', 'FLAG_DOCUMENT_7', \n",
    "               'FLAG_DOCUMENT_8', 'FLAG_DOCUMENT_9', 'FLAG_DOCUMENT_10', 'FLAG_DOCUMENT_11', 'FLAG_DOCUMENT_12', \n",
    "               'FLAG_DOCUMENT_13', 'FLAG_DOCUMENT_14', 'FLAG_DOCUMENT_15', 'FLAG_DOCUMENT_16', 'FLAG_DOCUMENT_17', \n",
    "               'FLAG_DOCUMENT_18', 'FLAG_DOCUMENT_19', 'FLAG_DOCUMENT_20', 'FLAG_DOCUMENT_21']\n",
    "\n",
    "cat_pipeline = Pipeline([\n",
    "        ('selector', DataFrameSelector(cat_attribs)),\n",
    "        #('imputer', SimpleImputer(strategy='most_frequent')),\n",
    "        ('imputer', SimpleImputer(strategy='constant', fill_value='missing')),\n",
    "        ('ohe', OneHotEncoder(sparse=False, handle_unknown=\"ignore\"))\n",
    "    ])\n",
    "\n",
    "data_prep_pipeline = FeatureUnion(transformer_list=[\n",
    "        (\"num_pipeline\", num_pipeline),\n",
    "        (\"cat_pipeline\", cat_pipeline)\n",
    "    ])\n",
    "\n",
    "selected_attribs = num_attribs_total + cat_attribs"
   ]
  },
  {
   "cell_type": "code",
   "execution_count": 17,
   "id": "5e050d57-4f31-40b0-bac3-0562b0d33f32",
   "metadata": {},
   "outputs": [],
   "source": [
    "y = datasets['application_train']['TARGET']\n",
    "X = preprocessing_transformations(datasets['application_train'])\n",
    "X_train, X_test, y_train, y_test = train_test_split(X, y, test_size=0.2, stratify=y, random_state=42)\n",
    "X_kaggle_test = datasets['application_test']"
   ]
  },
  {
   "cell_type": "code",
   "execution_count": 42,
   "id": "c3ca0454-006b-4960-ab45-be9360854dcb",
   "metadata": {},
   "outputs": [
    {
     "name": "stdout",
     "output_type": "stream",
     "text": [
      "CPU times: user 47.2 s, sys: 902 ms, total: 48.1 s\n",
      "Wall time: 48.5 s\n"
     ]
    }
   ],
   "source": [
    "%%time\n",
    "np.random.seed(42)\n",
    "full_pipeline_with_predictor = Pipeline([\n",
    "        (\"preparation\", data_prep_pipeline),\n",
    "        (\"linear\", LogisticRegression(penalty='l1', C=0.005, class_weight='balanced', solver='saga'))\n",
    "    ])\n",
    "model = full_pipeline_with_predictor.fit(X_train, y_train)"
   ]
  },
  {
   "cell_type": "markdown",
   "id": "9b453815-500f-4921-a000-4a3d219bdf28",
   "metadata": {
    "tags": []
   },
   "source": [
    "#### Missing Values"
   ]
  },
  {
   "cell_type": "code",
   "execution_count": 19,
   "id": "abb53866-1314-40f7-9575-c6aac7953561",
   "metadata": {},
   "outputs": [
    {
     "data": {
      "text/plain": [
       "EXT_SOURCE_1                  56.38\n",
       "WALLSMATERIAL_MODE            50.84\n",
       "HOUSETYPE_MODE                50.18\n",
       "EMERGENCYSTATE_MODE           47.40\n",
       "OCCUPATION_TYPE               31.35\n",
       "EXT_SOURCE_3                  19.83\n",
       "phone_to_employ_ratio         18.01\n",
       "days_employed_percentage      18.01\n",
       "ORGANIZATION_TYPE             18.01\n",
       "DAYS_EMPLOYED                 18.01\n",
       "car_to_employ_ratio           18.01\n",
       "AMT_REQ_CREDIT_BUREAU_HOUR    13.50\n",
       "AMT_REQ_CREDIT_BUREAU_YEAR    13.50\n",
       "AMT_REQ_CREDIT_BUREAU_QRT     13.50\n",
       "AMT_REQ_CREDIT_BUREAU_MON     13.50\n",
       "AMT_REQ_CREDIT_BUREAU_WEEK    13.50\n",
       "AMT_REQ_CREDIT_BUREAU_DAY     13.50\n",
       "NAME_TYPE_SUITE                0.42\n",
       "DEF_60_CNT_SOCIAL_CIRCLE       0.33\n",
       "OBS_60_CNT_SOCIAL_CIRCLE       0.33\n",
       "dtype: float64"
      ]
     },
     "execution_count": 19,
     "metadata": {},
     "output_type": "execute_result"
    }
   ],
   "source": [
    "X_sel = add_new_features(X)[selected_attribs]\n",
    "percent = (X_sel.isnull().sum()/X_sel.isnull().count()*100).sort_values(ascending = False).round(2)\n",
    "percent.head(20)"
   ]
  },
  {
   "cell_type": "code",
   "execution_count": 43,
   "id": "7974b6e9-89da-4ae0-86a7-580a4812a7c6",
   "metadata": {},
   "outputs": [
    {
     "data": {
      "text/plain": [
       "(255, 50, 205)"
      ]
     },
     "execution_count": 43,
     "metadata": {},
     "output_type": "execute_result"
    }
   ],
   "source": [
    "cat_features = [f'{base}_{c}'for base, ohe_c in zip(cat_attribs, cat_pipeline.named_steps['ohe'].categories_) for c in ohe_c ]\n",
    "features = num_attribs_total + cat_features\n",
    "len(features), len(num_attribs_total), len(cat_features)"
   ]
  },
  {
   "cell_type": "markdown",
   "id": "dc3ea772-6a43-4b9f-92a0-f1da488c17af",
   "metadata": {},
   "source": [
    "### Evaluate"
   ]
  },
  {
   "cell_type": "code",
   "execution_count": 44,
   "id": "16246205-1a91-46ad-aa56-94baa4e700d6",
   "metadata": {},
   "outputs": [
    {
     "data": {
      "text/plain": [
       "(0.7476472133471364, 0.7492941873314127)"
      ]
     },
     "execution_count": 44,
     "metadata": {},
     "output_type": "execute_result"
    }
   ],
   "source": [
    "y_train_pred_proba = model.predict_proba(X_train)[:, 1]\n",
    "y_test_pred_proba = model.predict_proba(X_test)[:, 1]\n",
    "roc_auc_score(y_train, y_train_pred_proba), roc_auc_score(y_test, y_test_pred_proba)"
   ]
  },
  {
   "cell_type": "code",
   "execution_count": 407,
   "id": "cb127a9b-d62d-4505-a95e-7b9c5eae6689",
   "metadata": {},
   "outputs": [],
   "source": [
    "#del expLog"
   ]
  },
  {
   "cell_type": "code",
   "execution_count": 21,
   "id": "d4f18eb8-e539-461f-b16f-d71480f61cc4",
   "metadata": {},
   "outputs": [
    {
     "name": "stderr",
     "output_type": "stream",
     "text": [
      "[Parallel(n_jobs=1)]: Using backend SequentialBackend with 1 concurrent workers.\n",
      "[Parallel(n_jobs=1)]: Done   5 out of   5 | elapsed:   40.5s finished\n"
     ]
    },
    {
     "data": {
      "text/html": [
       "<div>\n",
       "<style scoped>\n",
       "    .dataframe tbody tr th:only-of-type {\n",
       "        vertical-align: middle;\n",
       "    }\n",
       "\n",
       "    .dataframe tbody tr th {\n",
       "        vertical-align: top;\n",
       "    }\n",
       "\n",
       "    .dataframe thead th {\n",
       "        text-align: right;\n",
       "    }\n",
       "</style>\n",
       "<table border=\"1\" class=\"dataframe\">\n",
       "  <thead>\n",
       "    <tr style=\"text-align: right;\">\n",
       "      <th></th>\n",
       "      <th>exp_name</th>\n",
       "      <th>Train AUC</th>\n",
       "      <th>5-fold Valid AUC</th>\n",
       "      <th>5-fold Valid AUC std</th>\n",
       "      <th>Test  AUC</th>\n",
       "    </tr>\n",
       "  </thead>\n",
       "  <tbody>\n",
       "    <tr>\n",
       "      <th>0</th>\n",
       "      <td>Baseline_97_features</td>\n",
       "      <td>0.7511</td>\n",
       "      <td>0.7486</td>\n",
       "      <td>0.005</td>\n",
       "      <td>0.7517</td>\n",
       "    </tr>\n",
       "  </tbody>\n",
       "</table>\n",
       "</div>"
      ],
      "text/plain": [
       "               exp_name  Train AUC  5-fold Valid AUC  5-fold Valid AUC std  \\\n",
       "0  Baseline_97_features     0.7511            0.7486                 0.005   \n",
       "\n",
       "   Test  AUC  \n",
       "0     0.7517  "
      ]
     },
     "execution_count": 21,
     "metadata": {},
     "output_type": "execute_result"
    }
   ],
   "source": [
    "y_train_pred_proba = model.predict_proba(X_train)[:, 1]\n",
    "y_test_pred_proba = model.predict_proba(X_test)[:, 1]\n",
    "y_train_pred = y_train_pred_proba > 0.5\n",
    "y_test_pred = y_test_pred_proba > 0.5\n",
    "scores = cross_val_score(model, X_train, y_train, cv=5, scoring='roc_auc', verbose=1)\n",
    "\n",
    "\n",
    "try:\n",
    "    expLog\n",
    "except NameError:\n",
    "    expLog = pd.DataFrame(columns=[\"exp_name\", \n",
    "                                   \"Train AUC\", \n",
    "                                   \"5-fold Valid AUC\",\n",
    "                                   \"5-fold Valid AUC std\",\n",
    "                                   \"Test  AUC\"\n",
    "                                  ])\n",
    "\n",
    "exp_name = f\"Baseline_{len(selected_attribs)}_features\"\n",
    "expLog.loc[len(expLog)] = [f\"{exp_name}\"] + list(np.round(\n",
    "               [roc_auc_score(y_train, y_train_pred_proba),\n",
    "                scores.mean(),\n",
    "                scores.std(),\n",
    "                roc_auc_score(y_test, y_test_pred_proba)],\n",
    "    4)) \n",
    "expLog"
   ]
  },
  {
   "cell_type": "code",
   "execution_count": 22,
   "id": "b2ad6865-89d5-4dcb-8fcc-2a7e5a0d826c",
   "metadata": {},
   "outputs": [
    {
     "data": {
      "text/html": [
       "<script>\n",
       "alert(\"Hello! I am an alert box!\");\n",
       "</script>"
      ],
      "text/plain": [
       "<IPython.core.display.HTML object>"
      ]
     },
     "metadata": {},
     "output_type": "display_data"
    }
   ],
   "source": [
    "alert()"
   ]
  },
  {
   "cell_type": "code",
   "execution_count": 23,
   "id": "b8654dd6-ad87-4a32-80f2-8086ce70e9b2",
   "metadata": {},
   "outputs": [
    {
     "name": "stdout",
     "output_type": "stream",
     "text": [
      "              precision    recall  f1-score   support\n",
      "\n",
      "           0       0.96      0.69      0.80    226148\n",
      "           1       0.16      0.68      0.26     19860\n",
      "\n",
      "    accuracy                           0.69    246008\n",
      "   macro avg       0.56      0.69      0.53    246008\n",
      "weighted avg       0.90      0.69      0.76    246008\n",
      "\n"
     ]
    }
   ],
   "source": [
    "print(classification_report(y_train, y_train_pred_proba>0.5))"
   ]
  },
  {
   "cell_type": "code",
   "execution_count": 24,
   "id": "4be7895c-85e1-4813-9f17-2b43c7baea8f",
   "metadata": {},
   "outputs": [
    {
     "name": "stdout",
     "output_type": "stream",
     "text": [
      "              precision    recall  f1-score   support\n",
      "\n",
      "           0       0.96      0.69      0.80     56538\n",
      "           1       0.16      0.68      0.26      4965\n",
      "\n",
      "    accuracy                           0.69     61503\n",
      "   macro avg       0.56      0.68      0.53     61503\n",
      "weighted avg       0.90      0.69      0.76     61503\n",
      "\n"
     ]
    }
   ],
   "source": [
    "print(classification_report(y_test, y_test_pred_proba>0.5))"
   ]
  },
  {
   "cell_type": "markdown",
   "id": "06165d42-00b2-4ad4-9b6d-8eed145a548a",
   "metadata": {},
   "source": [
    "#### Confusion Matrix"
   ]
  },
  {
   "cell_type": "code",
   "execution_count": 25,
   "id": "3485cc46-5674-479e-bd6f-ed0cd263f5aa",
   "metadata": {},
   "outputs": [
    {
     "name": "stdout",
     "output_type": "stream",
     "text": [
      "scores\n",
      "\n",
      "precision 0.16260905092648226\n",
      "recall    0.6813695871097684\n",
      "f1        0.2625584508818565\n",
      "accuracy  0.6910100484537088\n"
     ]
    },
    {
     "data": {
      "image/png": "[encoded data removed]",
      "text/plain": [
       "<Figure size 432x288 with 2 Axes>"
      ]
     },
     "metadata": {
      "needs_background": "light"
     },
     "output_type": "display_data"
    }
   ],
   "source": [
    "show_scores(y_train, y_train_pred, percentages=True)"
   ]
  },
  {
   "cell_type": "code",
   "execution_count": 26,
   "id": "3482dbc9-99fe-4e7e-b81e-2ab7a8b2a5e5",
   "metadata": {},
   "outputs": [
    {
     "name": "stdout",
     "output_type": "stream",
     "text": [
      "scores\n",
      "\n",
      "precision 0.16167059616032334\n",
      "recall    0.676737160120846\n",
      "f1        0.26099114494329656\n",
      "accuracy  0.6906167178836805\n"
     ]
    },
    {
     "data": {
      "image/png": "[encoded data removed]",
      "text/plain": [
       "<Figure size 432x288 with 2 Axes>"
      ]
     },
     "metadata": {
      "needs_background": "light"
     },
     "output_type": "display_data"
    }
   ],
   "source": [
    "show_scores(y_test, y_test_pred, percentages=True)"
   ]
  },
  {
   "cell_type": "code",
   "execution_count": null,
   "id": "d0843661-59a9-4d07-b6fc-9cc288c4ab66",
   "metadata": {},
   "outputs": [],
   "source": []
  },
  {
   "cell_type": "markdown",
   "id": "5effd92f-297f-421e-999a-15b61b72a2d1",
   "metadata": {},
   "source": [
    "### Importances"
   ]
  },
  {
   "cell_type": "code",
   "execution_count": 60,
   "id": "1386959c-271f-4b5e-802e-28695c459939",
   "metadata": {},
   "outputs": [],
   "source": [
    "lm = full_pipeline_with_predictor['linear']\n",
    "imp = pd.DataFrame(lm.coef_.T/np.sum(np.abs(lm.coef_)), index=features, columns=['Imp'])\\\n",
    ".abs()\\\n",
    ".sort_values(by='Imp', ascending=False)"
   ]
  },
  {
   "cell_type": "code",
   "execution_count": 82,
   "id": "d6cb1dfe-fabb-4539-81b7-9e2f406b717d",
   "metadata": {},
   "outputs": [],
   "source": [
    "elim_f = sorted(imp.index[imp['Imp'] == 0].to_list())"
   ]
  },
  {
   "cell_type": "code",
   "execution_count": 84,
   "id": "202c8105-b396-439e-9d2b-f037a934b77c",
   "metadata": {},
   "outputs": [
    {
     "data": {
      "text/plain": [
       "{'AMT_INCOME_TOTAL',\n",
       " 'AMT_REQ_CREDIT_BUREAU_HOUR',\n",
       " 'CNT_CHILDREN',\n",
       " 'CNT_FAM_MEMBERS',\n",
       " 'OBS_60_CNT_SOCIAL_CIRCLE',\n",
       " 'REGION_RATING_CLIENT',\n",
       " 'car_to_birth_ratio',\n",
       " 'car_to_employ_ratio',\n",
       " 'credit_per_child',\n",
       " 'credit_per_non_child',\n",
       " 'income_per_non_child'}"
      ]
     },
     "execution_count": 84,
     "metadata": {},
     "output_type": "execute_result"
    }
   ],
   "source": [
    "# set([f if f in num_attribs_total else '_'.join(f.split('_')[:-1]) for f in elim_f])\n",
    "set([f for f in elim_f if f in num_attribs_total])"
   ]
  },
  {
   "cell_type": "code",
   "execution_count": 86,
   "id": "58fdc58a-d291-441c-a161-498176bf93e0",
   "metadata": {},
   "outputs": [
    {
     "data": {
      "text/plain": [
       "{'CODE_GENDER',\n",
       " 'EMERGENCYSTATE_MODE',\n",
       " 'FLAG_CONT_MOBILE',\n",
       " 'FLAG_DOCUMENT_10',\n",
       " 'FLAG_DOCUMENT_11',\n",
       " 'FLAG_DOCUMENT_12',\n",
       " 'FLAG_DOCUMENT_13',\n",
       " 'FLAG_DOCUMENT_14',\n",
       " 'FLAG_DOCUMENT_15',\n",
       " 'FLAG_DOCUMENT_16',\n",
       " 'FLAG_DOCUMENT_17',\n",
       " 'FLAG_DOCUMENT_18',\n",
       " 'FLAG_DOCUMENT_19',\n",
       " 'FLAG_DOCUMENT_2',\n",
       " 'FLAG_DOCUMENT_20',\n",
       " 'FLAG_DOCUMENT_21',\n",
       " 'FLAG_DOCUMENT_4',\n",
       " 'FLAG_DOCUMENT_5',\n",
       " 'FLAG_DOCUMENT_6',\n",
       " 'FLAG_DOCUMENT_7',\n",
       " 'FLAG_DOCUMENT_8',\n",
       " 'FLAG_DOCUMENT_9',\n",
       " 'FLAG_EMAIL',\n",
       " 'FLAG_EMP_PHONE',\n",
       " 'FLAG_MOBIL',\n",
       " 'FLAG_OWN_REALTY',\n",
       " 'FLAG_PHONE',\n",
       " 'HOUSETYPE_MODE',\n",
       " 'LIVE_CITY_NOT_WORK_CITY',\n",
       " 'LIVE_REGION_NOT_WORK_REGION',\n",
       " 'NAME_CONTRACT_TYPE',\n",
       " 'NAME_EDUCATION_TYPE',\n",
       " 'NAME_FAMILY_STATUS',\n",
       " 'NAME_HOUSING_TYPE',\n",
       " 'NAME_INCOME_TYPE',\n",
       " 'NAME_TYPE_SUITE',\n",
       " 'NAME_TYPE_SUITE_Other',\n",
       " 'OCCUPATION_TYPE',\n",
       " 'ORGANIZATION_TYPE',\n",
       " 'REG_CITY_NOT_WORK_CITY',\n",
       " 'REG_REGION_NOT_LIVE_REGION',\n",
       " 'REG_REGION_NOT_WORK_REGION',\n",
       " 'WALLSMATERIAL_MODE',\n",
       " 'WEEKDAY_APPR_PROCESS_START'}"
      ]
     },
     "execution_count": 86,
     "metadata": {},
     "output_type": "execute_result"
    }
   ],
   "source": [
    "set(['_'.join(f.split('_')[:-1]) for f in elim_f if f not in num_attribs_total])"
   ]
  }
 ],
 "metadata": {
  "kernelspec": {
   "display_name": "Python 3 (ipykernel)",
   "language": "python",
   "name": "python3"
  },
  "language_info": {
   "codemirror_mode": {
    "name": "ipython",
    "version": 3
   },
   "file_extension": ".py",
   "mimetype": "text/x-python",
   "name": "python",
   "nbconvert_exporter": "python",
   "pygments_lexer": "ipython3",
   "version": "3.9.6"
  }
 },
 "nbformat": 4,
 "nbformat_minor": 5
}
