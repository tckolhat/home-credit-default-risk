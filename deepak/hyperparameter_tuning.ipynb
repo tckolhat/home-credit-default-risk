{
 "cells": [
  {
   "cell_type": "code",
   "execution_count": 6,
   "id": "6e080e80-7de8-40e0-9247-1eedbade65e3",
   "metadata": {},
   "outputs": [],
   "source": [
    "import numpy as np\n",
    "import pandas as pd\n",
    "import matplotlib.pyplot as plt\n",
    "\n",
    "from sklearn.model_selection import train_test_split\n",
    "from sklearn.pipeline import Pipeline\n",
    "from sklearn.linear_model import LogisticRegression\n",
    "from sklearn.model_selection import GridSearchCV\n",
    "from sklearn.metrics import SCORERS\n",
    "from sklearn.metrics import roc_auc_score\n",
    "\n",
    "from sklearn.neighbors import KNeighborsClassifier"
   ]
  },
  {
   "cell_type": "code",
   "execution_count": 4,
   "id": "03f20ea0-b881-42d1-9bf8-aea3620d2578",
   "metadata": {},
   "outputs": [],
   "source": [
    "from hcdr_applications import load_datasets, preprocessing_transformations, make_prep_pipeline"
   ]
  },
  {
   "cell_type": "code",
   "execution_count": 5,
   "id": "797bf4c4-6742-4de7-b341-1931ef2b355d",
   "metadata": {
    "tags": []
   },
   "outputs": [],
   "source": [
    "def log_random(a, b, n):\n",
    "    loga, logb = np.log(a), np.log(b)\n",
    "    x = loga + (logb-loga)*np.random.random(n)\n",
    "    y = np.exp(x)\n",
    "    return y\n",
    "\n",
    "def log_linear(a, b, n):\n",
    "    loga, logb = np.log(a), np.log(b)\n",
    "    x = np.linspace(loga, logb, n)\n",
    "    return np.exp(x)\n",
    "    \n",
    "# sorted(np.round(log_random(0.01, 10, 10), 5)), sorted(np.round(log_linear(0.1, 10, 10), 5))"
   ]
  },
  {
   "cell_type": "code",
   "execution_count": 11,
   "id": "6a79d983-c073-4e4e-88a7-7c71bf60046f",
   "metadata": {},
   "outputs": [],
   "source": [
    "# load data\n",
    "DATA_DIR = \"../data\"\n",
    "# ds_names = (\"application_train\", \"application_test\", \"bureau\",\"bureau_balance\",\"credit_card_balance\",\"installments_payments\",\n",
    "#             \"previous_application\",\"POS_CASH_balance\")\n",
    "ds_names = (\"application_train\", \"application_test\")\n",
    "datasets = load_datasets(DATA_DIR, ds_names)"
   ]
  },
  {
   "cell_type": "code",
   "execution_count": 12,
   "id": "53ad2312-6422-4d2b-8be1-b0e5c6282e3f",
   "metadata": {},
   "outputs": [],
   "source": [
    "y = datasets['application_train']['TARGET']\n",
    "X = preprocessing_transformations(datasets['application_train'])\n",
    "X_train, X_test, y_train, y_test = train_test_split(\n",
    "    X, y, test_size=0.2, stratify=y, random_state=42)\n",
    "X_kaggle_test = datasets['application_test']\n",
    "\n",
    "data_prep_pipeline, num_attribs_total, cat_attribs = make_prep_pipeline()"
   ]
  },
  {
   "cell_type": "code",
   "execution_count": 55,
   "id": "ed32519d-412e-4fea-ace0-fe22f2d92914",
   "metadata": {},
   "outputs": [],
   "source": [
    "results = pd.DataFrame(columns=[\n",
    "    \"ExpID\", \n",
    "    \"Train Score\", \n",
    "    \"CV Score\",\n",
    "    \"CV Score std\",\n",
    "    \"Test Score\", \n",
    "    \"Train Time(s)\", \n",
    "    \"Test Time(s)\"\n",
    "])"
   ]
  },
  {
   "cell_type": "code",
   "execution_count": 87,
   "id": "eda7263b-f9df-47a2-8fbb-047e9052f064",
   "metadata": {},
   "outputs": [
    {
     "name": "stdout",
     "output_type": "stream",
     "text": [
      "CPU times: user 36.4 s, sys: 696 ms, total: 37.1 s\n",
      "Wall time: 37.3 s\n"
     ]
    }
   ],
   "source": [
    "%%time\n",
    "full_pipeline_with_predictor = Pipeline([\n",
    "    (\"preparation\", data_prep_pipeline),\n",
    "    (\"model\", LogisticRegression(solver='saga', class_weight='balanced', random_state=0))\n",
    "])\n",
    "model = full_pipeline_with_predictor.fit(X_train, y_train)"
   ]
  },
  {
   "cell_type": "code",
   "execution_count": null,
   "id": "68d8785d-2873-4d26-978e-56b6731092ee",
   "metadata": {},
   "outputs": [],
   "source": [
    "from scipy.stats import loguniform\n",
    "from sklearn.model_selection import RandomizedSearchCV\n",
    "distributions = {\n",
    "    'model__C': loguniform(0.1, 10),\n",
    "    'model__penalty':['l2', 'l1']\n",
    "}\n",
    "clf = RandomizedSearchCV(full_pipeline_with_predictor, \n",
    "                         distributions, \n",
    "                         random_state=0, cv=3, n_jobs=4, verbose=3, scoring='roc_auc')\n",
    "_ = clf.fit(X_train, y_train)"
   ]
  },
  {
   "cell_type": "code",
   "execution_count": 92,
   "id": "82457cf1-5444-436a-adaa-962bd6a9f64a",
   "metadata": {},
   "outputs": [
    {
     "data": {
      "text/plain": [
       "(0.7476238439141207, {'model__C': 0.12984521643751776, 'model__penalty': 'l2'})"
      ]
     },
     "execution_count": 92,
     "metadata": {},
     "output_type": "execute_result"
    }
   ],
   "source": [
    "clf.best_score_, clf.best_params_"
   ]
  },
  {
   "cell_type": "code",
   "execution_count": null,
   "id": "013dd2dd-4bb3-4e42-82ef-98a6b0893f67",
   "metadata": {},
   "outputs": [],
   "source": [
    "clf.cv_results_"
   ]
  },
  {
   "cell_type": "code",
   "execution_count": 100,
   "id": "fd6b68bd-caa9-4f48-a84f-b01c6b15b242",
   "metadata": {},
   "outputs": [
    {
     "data": {
      "text/plain": [
       "array([0.0001    , 0.00018738, 0.00035112, 0.00065793, 0.00123285,\n",
       "       0.00231013, 0.00432876, 0.00811131, 0.01519911, 0.02848036,\n",
       "       0.05336699, 0.1       ])"
      ]
     },
     "execution_count": 100,
     "metadata": {},
     "output_type": "execute_result"
    }
   ],
   "source": [
    "np.logspace(-4,-1,12)"
   ]
  },
  {
   "cell_type": "code",
   "execution_count": null,
   "id": "0e54eb29-7ef9-4e78-bd2f-89bd705f14f3",
   "metadata": {},
   "outputs": [],
   "source": [
    "def conductGridSearch(models, params_grid, prep_pipeline, scoring,\n",
    "                      X_train, y_train, X_test, y_test, \n",
    "                      results, prefix='', i=0, n_jobs=4, verbose=1):\n",
    "    # scoring: passed to grid search\n",
    "    i = 0\n",
    "    for (name, model) in models:\n",
    "        i += 1\n",
    "        # Print model and parameters\n",
    "        print('****** START',prefix, name,'*****')\n",
    "        parameters = params_grid.get(name, {})\n",
    "        print(\"Parameters:\")\n",
    "        if 'features' in param_grid:\n",
    "            for p in sorted(params_grid['features']):\n",
    "                print(\"\\t\"+str(p)+\": \"+ str(params_grid['features'][p]))\n",
    "        for p in sorted(parameters.keys()):\n",
    "            print(\"\\t\"+str(p)+\": \"+ str(parameters[p]))\n",
    "        \n",
    "        # generate the pipeline\n",
    "        full_pipeline_with_predictor = Pipeline([\n",
    "            (\"preparation\", prep_pipeline),\n",
    "            (\"predictor\", model)\n",
    "        ])\n",
    "        \n",
    "        # Execute the grid search\n",
    "        params = params_grid.get('features', {})\n",
    "        for p in parameters.keys():\n",
    "            pipe_key = 'predictor__'+str(p)\n",
    "            params[pipe_key] = parameters[p] \n",
    "        grid_search = GridSearchCV(full_pipeline_with_predictor, params, scoring=scoring, cv=5, \n",
    "                                   n_jobs=n_jobs, verbose=verbose)\n",
    "        grid_search.fit(X_train, y_train)\n",
    "        \n",
    "        \n",
    "        y_train_pred_proba = grid.best_estimator_.predict_proba(X_train)[:, 1]\n",
    "        y_test_pred_proba = grid.best_estimator_.predict_proba(X_test)[:, 1]\n",
    "        best_train_score = np.round(roc_auc_score(y_train, y_train_pred_proba), 5)\n",
    "        best_test_score = np.round(roc_auc_score(y_test, y_test_pred_proba), 5)\n",
    "        \n",
    "        # Best estimator score\n",
    "        best_cv_score = np.round(grid_search.best_score_, 5)\n",
    "        best_cv_std = np.round(grid.cv_results_['std_test_score'][grid.best_index_], 5)\n",
    "        \n",
    "        mean_fit_time = np.round(grid.cv_results_['mean_fit_time'][grid.best_index_], 5)\n",
    "        mean_score_time = np.round(grid.cv_results_['mean_score_time'][grid.best_index_], 5)\n",
    "        \n",
    "        # Collect the best parameters found by the grid search\n",
    "        print(\"Best Parameters:\")\n",
    "        best_parameters = grid_search.best_estimator_.get_params()\n",
    "        param_dump = []\n",
    "        for param_name in sorted(params.keys()):\n",
    "            param_dump.append((param_name, best_parameters[param_name]))\n",
    "            print(\"\\t\"+str(param_name)+\": \" + str(best_parameters[param_name]))\n",
    "        print(\"****** FINISH\",prefix,name,\" *****\")\n",
    "        print(\"\")\n",
    "        \n",
    "        # Record the results\n",
    "        results.loc[i] = [prefix+name, \n",
    "                          best_train_score, \n",
    "                          best_cv_score,\n",
    "                          best_cv_std,\n",
    "                          best_test_score,  \n",
    "                          mean_fit_time, \n",
    "                          mean_score_time]\n",
    "\n",
    "        \n",
    "models = [\n",
    "    # ('LogisticRegression', LogisticRegression(class_weight='balanced')),\n",
    "    ('KNeighborsClassifier', KNeighborsClassifier()),\n",
    "]\n",
    "\n",
    "param_grid = {\n",
    "    'LogisticRegression': {\n",
    "        'C': [0.003, 0.01]\n",
    "    },\n",
    "    'KNeighborsClassifier': {\n",
    "        'n_neighbors': [5, 7]\n",
    "        # 'weights': ['uniform', 'distance'], # distance\n",
    "        # 'p': [1, 2] # 2\n",
    "    }\n",
    "}\n",
    "\n",
    "conductGridSearch(models, param_grid, data_prep_pipeline, 'roc_auc', \n",
    "                 X_train, y_train, X_test, y_test,\n",
    "                 results, verbose=3)\n",
    "results"
   ]
  },
  {
   "cell_type": "code",
   "execution_count": 7,
   "id": "8b2dd322-3845-4ba1-9c55-903a1a678ae7",
   "metadata": {},
   "outputs": [],
   "source": [
    "knn_rocauc_n = np.array([(25, 0.68159), (39, 0.69831), (73, 0.71665), (133, 0.7266), (173, 0.7302), (193, 0.7316), (203, 0.7318), (223, 0.7328), (243, 0.7338), (283, 0.73505), (323, 0.73593), (363, 0.73671), (403, 0.73718), (443, 0.73762), (643, 0.73848), (843, 0.73906), (1043, 0.73933), (1443, 0.73971), (1643, 0.73976)])"
   ]
  },
  {
   "cell_type": "code",
   "execution_count": 10,
   "id": "369cd48c-df1d-4470-8f9f-5d50dd823341",
   "metadata": {},
   "outputs": [
    {
     "data": {
      "text/plain": [
       "Text(0, 0.5, 'n neighbors')"
      ]
     },
     "execution_count": 10,
     "metadata": {},
     "output_type": "execute_result"
    },
    {
     "data": {
      "image/png": "[encoded data removed]",
      "text/plain": [
       "<Figure size 432x288 with 1 Axes>"
      ]
     },
     "metadata": {
      "needs_background": "light"
     },
     "output_type": "display_data"
    }
   ],
   "source": [
    "plt.plot(knn_rocauc_n[:,0], knn_rocauc_n[:,1])\n",
    "plt.xlabel('ROC_AUC')\n",
    "plt.ylabel('n neighbors')"
   ]
  },
  {
   "cell_type": "code",
   "execution_count": 11,
   "id": "e46d1c81-bc63-4111-8b3e-503e8f431c15",
   "metadata": {},
   "outputs": [
    {
     "data": {
      "text/plain": [
       "array([0.0001    , 0.00011602, 0.0001346 , 0.00015615, 0.00018116,\n",
       "       0.00021017, 0.00024384, 0.00028289, 0.00032819, 0.00038075,\n",
       "       0.00044173, 0.00051248, 0.00059456, 0.00068978, 0.00080025,\n",
       "       0.00092841, 0.00107711, 0.00124961, 0.00144974, 0.00168192,\n",
       "       0.00195129, 0.0022638 , 0.00262636, 0.00304699, 0.00353498,\n",
       "       0.00410113, 0.00475794, 0.00551995, 0.006404  , 0.00742964,\n",
       "       0.00861954, 0.01      ])"
      ]
     },
     "execution_count": 11,
     "metadata": {},
     "output_type": "execute_result"
    }
   ],
   "source": [
    "np.logspace(-4, -2, 32)"
   ]
  },
  {
   "cell_type": "code",
   "execution_count": 13,
   "id": "5e168d87-9ac7-4d4b-b15a-f26467741c3f",
   "metadata": {},
   "outputs": [
    {
     "data": {
      "text/plain": [
       "array([0.0001    , 0.00041935, 0.00073871, 0.00105806, 0.00137742,\n",
       "       0.00169677, 0.00201613, 0.00233548, 0.00265484, 0.00297419,\n",
       "       0.00329355, 0.0036129 , 0.00393226, 0.00425161, 0.00457097,\n",
       "       0.00489032, 0.00520968, 0.00552903, 0.00584839, 0.00616774,\n",
       "       0.0064871 , 0.00680645, 0.00712581, 0.00744516, 0.00776452,\n",
       "       0.00808387, 0.00840323, 0.00872258, 0.00904194, 0.00936129,\n",
       "       0.00968065, 0.01      ])"
      ]
     },
     "execution_count": 13,
     "metadata": {},
     "output_type": "execute_result"
    }
   ],
   "source": [
    "np.linspace(1e-4, 1e-2, 32)"
   ]
  }
 ],
 "metadata": {
  "kernelspec": {
   "display_name": "Python 3 (ipykernel)",
   "language": "python",
   "name": "python3"
  },
  "language_info": {
   "codemirror_mode": {
    "name": "ipython",
    "version": 3
   },
   "file_extension": ".py",
   "mimetype": "text/x-python",
   "name": "python",
   "nbconvert_exporter": "python",
   "pygments_lexer": "ipython3",
   "version": "3.9.6"
  }
 },
 "nbformat": 4,
 "nbformat_minor": 5
}
