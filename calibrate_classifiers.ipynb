{
 "cells": [
  {
   "cell_type": "code",
   "execution_count": 55,
   "id": "8691f88b-2396-4bb5-9cb3-91626208f28c",
   "metadata": {},
   "outputs": [],
   "source": [
    "from hcdr import make_prep_pipeline, load_process_data\n",
    "from sklearn.preprocessing import FunctionTransformer\n",
    "from sklearn.metrics import roc_auc_score\n",
    "from sklearn.model_selection import cross_val_score\n",
    "from sklearn.feature_selection import SelectFromModel\n",
    "from sklearn.linear_model import LogisticRegression\n",
    "from sklearn.ensemble import RandomForestClassifier\n",
    "from sklearn.preprocessing import OneHotEncoder\n",
    "from sklearn.preprocessing import StandardScaler\n",
    "from sklearn.pipeline import FeatureUnion\n",
    "from sklearn.pipeline import Pipeline\n",
    "from sklearn.impute import SimpleImputer\n",
    "from sklearn.model_selection import train_test_split\n",
    "from sklearn.model_selection import RandomizedSearchCV\n",
    "from sklearn.linear_model import LogisticRegressionCV\n",
    "from sklearn.metrics import confusion_matrix, precision_score, recall_score, precision_recall_curve, f1_score\n",
    "import seaborn as sns\n",
    "from sklearn.base import BaseEstimator, TransformerMixin\n",
    "import numpy as np\n",
    "import pandas as pd\n",
    "import matplotlib.pyplot as plt\n",
    "import os\n",
    "import datetime\n",
    "import warnings\n",
    "import pprint\n",
    "\n",
    "from sklearn.svm import SVC\n",
    "from sklearn.svm import LinearSVC\n",
    "from sklearn.calibration import calibration_curve\n",
    "\n",
    "from sklearn.calibration import CalibratedClassifierCV\n",
    "from sklearn.metrics import brier_score_loss\n",
    "\n",
    "from sklearn.neighbors import KNeighborsClassifier\n",
    "from sklearn.metrics import balanced_accuracy_score"
   ]
  },
  {
   "cell_type": "code",
   "execution_count": 2,
   "id": "9f4a8782-6999-423b-9d44-6d50ccf35c6d",
   "metadata": {},
   "outputs": [],
   "source": [
    "from IPython.display import display, HTML, Javascript\n",
    "\n",
    "js_getResults = \"\"\"<script>\n",
    "alert(\"Hello! I am an alert box!\");\n",
    "</script>\"\"\"\n",
    "\n",
    "def alert():\n",
    "    display(HTML(js_getResults))"
   ]
  },
  {
   "cell_type": "code",
   "execution_count": 3,
   "id": "fb69e93d-4a08-4e69-8470-a1672f33576e",
   "metadata": {},
   "outputs": [
    {
     "name": "stdout",
     "output_type": "stream",
     "text": [
      "loaded data\n"
     ]
    },
    {
     "name": "stderr",
     "output_type": "stream",
     "text": [
      "/Users/deepakduggirala/Documents/courses/AML526/home-credit-default-risk/main/hcdr.py:58: SettingWithCopyWarning: \n",
      "A value is trying to be set on a copy of a slice from a DataFrame.\n",
      "Try using .loc[row_indexer,col_indexer] = value instead\n",
      "\n",
      "See the caveats in the documentation: https://pandas.pydata.org/pandas-docs/stable/user_guide/indexing.html#returning-a-view-versus-a-copy\n",
      "  X[mask] = np.NaN\n",
      "/Users/deepakduggirala/miniforge3/envs/ml/lib/python3.10/site-packages/pandas/core/frame.py:3718: SettingWithCopyWarning: \n",
      "A value is trying to be set on a copy of a slice from a DataFrame\n",
      "\n",
      "See the caveats in the documentation: https://pandas.pydata.org/pandas-docs/stable/user_guide/indexing.html#returning-a-view-versus-a-copy\n",
      "  self._where(-key, value, inplace=True)\n",
      "/Users/deepakduggirala/Documents/courses/AML526/home-credit-default-risk/main/hcdr.py:125: SettingWithCopyWarning: \n",
      "A value is trying to be set on a copy of a slice from a DataFrame\n",
      "\n",
      "See the caveats in the documentation: https://pandas.pydata.org/pandas-docs/stable/user_guide/indexing.html#returning-a-view-versus-a-copy\n",
      "  X[mask] = np.NaN\n",
      "/Users/deepakduggirala/Documents/courses/AML526/home-credit-default-risk/main/hcdr.py:175: SettingWithCopyWarning: \n",
      "A value is trying to be set on a copy of a slice from a DataFrame.\n",
      "Try using .loc[row_indexer,col_indexer] = value instead\n",
      "\n",
      "See the caveats in the documentation: https://pandas.pydata.org/pandas-docs/stable/user_guide/indexing.html#returning-a-view-versus-a-copy\n",
      "  X[mask] = np.NaN\n"
     ]
    },
    {
     "name": "stdout",
     "output_type": "stream",
     "text": [
      "CPU times: user 25.3 s, sys: 10.3 s, total: 35.7 s\n",
      "Wall time: 40.9 s\n"
     ]
    }
   ],
   "source": [
    "%%time\n",
    "processed_data, num_attribs, cat_attribs = load_process_data()\n",
    "y = processed_data['TARGET']\n",
    "X = processed_data\n",
    "\n",
    "data_prep_pipeline = make_prep_pipeline(num_attribs, cat_attribs)"
   ]
  },
  {
   "cell_type": "code",
   "execution_count": 4,
   "id": "db6d6326-b847-4ec0-8378-82bcecd42e6d",
   "metadata": {},
   "outputs": [
    {
     "data": {
      "text/plain": [
       "((184506, 354), (61502, 354), (61503, 354))"
      ]
     },
     "execution_count": 4,
     "metadata": {},
     "output_type": "execute_result"
    }
   ],
   "source": [
    "X_train, X_test, y_train, y_test = train_test_split(X, y, test_size=0.4, random_state=42)\n",
    "X_valid, X_test, y_valid, y_test = train_test_split(X_test, y_test, test_size=0.5, random_state=42)\n",
    "X_train.shape, X_valid.shape, X_test.shape"
   ]
  },
  {
   "cell_type": "code",
   "execution_count": 5,
   "id": "70f5af6b-f71a-449c-a273-8e3d9ba224fd",
   "metadata": {},
   "outputs": [
    {
     "name": "stdout",
     "output_type": "stream",
     "text": [
      "CPU times: user 31.8 s, sys: 1.9 s, total: 33.7 s\n",
      "Wall time: 35.2 s\n"
     ]
    }
   ],
   "source": [
    "%%time\n",
    "np.random.seed(42)\n",
    "pipeline_with_selector = Pipeline([\n",
    "    (\"preparation\", data_prep_pipeline),\n",
    "    (\"feature_selector\", SelectFromModel(LogisticRegression(\n",
    "        C=0.006,\n",
    "        penalty='l1',\n",
    "        solver='liblinear',\n",
    "        class_weight='balanced',\n",
    "        max_iter=1000,\n",
    "        random_state=0))),\n",
    "])\n",
    "\n",
    "_ = pipeline_with_selector.fit(X_train, y_train)"
   ]
  },
  {
   "cell_type": "code",
   "execution_count": null,
   "id": "8dc5de29-266b-45d8-8cf8-f42e45fd57d4",
   "metadata": {},
   "outputs": [],
   "source": [
    "# full_pipeline_with_predictor = Pipeline([(\"preparation\", ), (\"classifier\", LogisticRegression(max_iter=1000, class_weight=\"balanced\"))])"
   ]
  },
  {
   "cell_type": "code",
   "execution_count": 9,
   "id": "dcd087b1-6ae2-4bb4-aefb-2926eabf8034",
   "metadata": {},
   "outputs": [
    {
     "name": "stdout",
     "output_type": "stream",
     "text": [
      "features: 491, num_attribs: 287, cat_features: 204\n",
      "attribs: 334, features: 491, selected_features=173\n"
     ]
    }
   ],
   "source": [
    "cat_pipeline = data_prep_pipeline.transformer_list[1][1]\n",
    "cat_features = [f'{base}_{c}'for base, ohe_c in zip(\n",
    "    cat_attribs, cat_pipeline.named_steps['ohe'].categories_) for c in ohe_c]\n",
    "features = num_attribs + cat_features\n",
    "print(f'features: {len(features)}, num_attribs: {len(num_attribs)}, cat_features: {len(cat_features)}')\n",
    "\n",
    "selector_model = pipeline_with_selector.named_steps['feature_selector']\n",
    "selected_features = list(np.array(features)[selector_model.get_support()])\n",
    "print(f'attribs: {len(num_attribs + cat_attribs)}, features: {len(features)}, selected_features={len(selected_features)}')\n",
    "\n",
    "selected_attribs = set([f if f in num_attribs else '_'.join(f.split('_')[:-1]) for f in selected_features])\n",
    "unused_attribs = set(num_attribs+cat_attribs) - selected_attribs"
   ]
  },
  {
   "cell_type": "code",
   "execution_count": 10,
   "id": "26006b40-555e-45e4-a7a0-91a408cf58f8",
   "metadata": {},
   "outputs": [
    {
     "data": {
      "text/plain": [
       "((184506, 173), (61502, 173), (61503, 173))"
      ]
     },
     "execution_count": 10,
     "metadata": {},
     "output_type": "execute_result"
    }
   ],
   "source": [
    "X_train_xfm = pipeline_with_selector.transform(X_train)\n",
    "X_valid_xfm = pipeline_with_selector.transform(X_valid)\n",
    "X_test_xfm = pipeline_with_selector.transform(X_test)\n",
    "X_train_xfm.shape, X_valid_xfm.shape, X_test_xfm.shape"
   ]
  },
  {
   "cell_type": "markdown",
   "id": "ffb5c65b-6004-42ce-8c90-fcdaf6d73091",
   "metadata": {},
   "source": [
    "- model trained on imbalanced data without class weights\n",
    "    - before calibrating\n",
    "        - roc_auc: array([0.7724, 0.771 , 0.7701])\n",
    "        - brier_score_loss: 0.06664830707609969\n",
    "        - balanced accuracy: 0.5149346058272263\n",
    "    - after calibrating\n",
    "        - roc_auc: array([0.772 , 0.7724, 0.7696])\n",
    "        - brier_score_loss: 0.06664322893419379\n",
    "        - balanced accuracy: 0.5091304497535165\n",
    "        \n",
    "- model trained on imbalanced data with class weights='balanced'\n",
    "     - before calibrating\n",
    "        - roc_auc: array([0.773 , 0.7716, 0.7703])\n",
    "        - brier_score_loss: 0.19512646167105077\n",
    "        - balanced accuracy: 0.703257727000132\n",
    "    - after calibrating\n",
    "        - roc_auc: array([0.7724, 0.7729, 0.7699])\n",
    "        - brier_score_loss: 0.0667547326764966\n",
    "        - balanced accuracy: 0.5105770698589965\n",
    "- model trained on balanced data (under sampling)\n",
    "     - before calibrating\n",
    "        - roc_auc: array([0.7754, 0.7696, 0.7693])\n",
    "        - brier_score_loss: 0.19632197619141536\n",
    "        - balanced accuracy: 0.7014247479211023\n",
    "    - after calibrating on balanced validation set, if trained on imbalaned validation set, we see the same graph as the model trained on imbalanced data (does not look calibrated - briar score: 0.1968608664965747)\n",
    "        - roc_auc: array([0.7754, 0.7709, 0.7688])\n",
    "        - brier_score_loss: 0.0669254811821098\n",
    "        - balanced accuracy: 0.5137704482327218\n",
    "        \n",
    "If trained, calibrated and evaluated on balanced datasets, the briar score mostly remains at 0.197."
   ]
  },
  {
   "cell_type": "code",
   "execution_count": 142,
   "id": "a911a9b9-03ad-45aa-a233-e1a73e24f1c3",
   "metadata": {},
   "outputs": [
    {
     "name": "stdout",
     "output_type": "stream",
     "text": [
      "CPU times: user 20.1 s, sys: 3.1 s, total: 23.2 s\n",
      "Wall time: 3.61 s\n"
     ]
    },
    {
     "data": {
      "text/plain": [
       "LogisticRegression(class_weight='balanced', max_iter=1000)"
      ]
     },
     "execution_count": 142,
     "metadata": {},
     "output_type": "execute_result"
    }
   ],
   "source": [
    "%%time\n",
    "model = LogisticRegression(max_iter=1000, class_weight='balanced')\n",
    "model.fit(X_train_xfm, y_train)"
   ]
  },
  {
   "cell_type": "code",
   "execution_count": 143,
   "id": "01a08c53-eaaa-4e84-9c99-4e25a1b92048",
   "metadata": {},
   "outputs": [
    {
     "data": {
      "text/plain": [
       "array([0.773 , 0.7716, 0.7703])"
      ]
     },
     "execution_count": 143,
     "metadata": {},
     "output_type": "execute_result"
    }
   ],
   "source": [
    "y_train_pred_proba = model.predict_proba(X_train_xfm)[:, 1]\n",
    "y_valid_pred_proba = model.predict_proba(X_valid_xfm)[:, 1]\n",
    "y_test_pred_proba = model.predict_proba(X_test_xfm)[:, 1]\n",
    "np.round((\n",
    "    roc_auc_score(y_train, y_train_pred_proba), \n",
    "    roc_auc_score(y_valid, y_valid_pred_proba), \n",
    "    roc_auc_score(y_test, y_test_pred_proba)\n",
    "), 4)"
   ]
  },
  {
   "cell_type": "code",
   "execution_count": 144,
   "id": "c477f11a-c9de-4852-bfa8-cb58abfef07e",
   "metadata": {},
   "outputs": [
    {
     "data": {
      "text/plain": [
       "(array([ 2610.,  9283., 10981.,  9965.,  8618.,  7112.,  5499.,  4181.,\n",
       "         2601.,   653.]),\n",
       " array([8.92440119e-06, 1.00008032e-01, 2.00007140e-01, 3.00006247e-01,\n",
       "        4.00005355e-01, 5.00004462e-01, 6.00003570e-01, 7.00002677e-01,\n",
       "        8.00001785e-01, 9.00000892e-01, 1.00000000e+00]),\n",
       " <BarContainer object of 10 artists>)"
      ]
     },
     "execution_count": 144,
     "metadata": {},
     "output_type": "execute_result"
    },
    {
     "data": {
      "image/png": "[encoded data removed]",
      "text/plain": [
       "<Figure size 432x288 with 1 Axes>"
      ]
     },
     "metadata": {
      "needs_background": "light"
     },
     "output_type": "display_data"
    }
   ],
   "source": [
    "plt.hist(y_test_pred_proba)"
   ]
  },
  {
   "cell_type": "code",
   "execution_count": 154,
   "id": "c6bcfc1f-3678-4ce3-a450-90b5fa106eee",
   "metadata": {},
   "outputs": [
    {
     "data": {
      "text/plain": [
       "0.47013782542113325"
      ]
     },
     "execution_count": 154,
     "metadata": {},
     "output_type": "execute_result"
    }
   ],
   "source": [
    "mask = (y_test_pred_proba > 0.9)\n",
    "\n",
    "np.mean(y_test.take(np.where(mask)[0]))"
   ]
  },
  {
   "cell_type": "code",
   "execution_count": 97,
   "id": "ce73f739-df6e-438c-9b04-4b238d8c5e54",
   "metadata": {},
   "outputs": [
    {
     "data": {
      "text/plain": [
       "(20046, 4928)"
      ]
     },
     "execution_count": 97,
     "metadata": {},
     "output_type": "execute_result"
    }
   ],
   "source": [
    "np.sum(y_test_pred_proba > 0.5), np.sum(y_test)"
   ]
  },
  {
   "cell_type": "code",
   "execution_count": 101,
   "id": "e6975abf-6139-4ed6-a317-6fc055cf4c51",
   "metadata": {},
   "outputs": [
    {
     "data": {
      "text/plain": [
       "(array([0.01454637, 0.03604507, 0.079911  , 0.16993802, 0.33743085]),\n",
       " array([0.13571334, 0.29711846, 0.4935256 , 0.69017636, 0.85993747]))"
      ]
     },
     "execution_count": 101,
     "metadata": {},
     "output_type": "execute_result"
    }
   ],
   "source": [
    "prob_true, prob_pred"
   ]
  },
  {
   "cell_type": "code",
   "execution_count": 98,
   "id": "48ff4e0e-2ef7-413f-93fb-34b3534bb544",
   "metadata": {},
   "outputs": [
    {
     "data": {
      "text/plain": [
       "<matplotlib.legend.Legend at 0x14ce335b0>"
      ]
     },
     "execution_count": 98,
     "metadata": {},
     "output_type": "execute_result"
    },
    {
     "data": {
      "image/png": "[encoded data removed]",
      "text/plain": [
       "<Figure size 432x288 with 1 Axes>"
      ]
     },
     "metadata": {
      "needs_background": "light"
     },
     "output_type": "display_data"
    }
   ],
   "source": [
    "n_bins=5\n",
    "plt.plot(np.arange(0,1,1/n_bins), np.arange(0,1,1/n_bins), '--')\n",
    "y_test_pred_proba = model.predict_proba(X_test_xfm)[:,1]\n",
    "prob_true, prob_pred = calibration_curve(y_test, y_test_pred_proba, n_bins=n_bins)\n",
    "plt.plot(prob_pred, prob_true, 'r', label='lr' )\n",
    "plt.xlabel('Mean Predicted Probability')\n",
    "plt.ylabel('Fraction True')\n",
    "plt.legend() "
   ]
  },
  {
   "cell_type": "code",
   "execution_count": 102,
   "id": "309ef2b3-0c05-4074-9f36-212aa8432ff2",
   "metadata": {},
   "outputs": [
    {
     "data": {
      "text/plain": [
       "(0.19512646167105077, 0.4417312097543604)"
      ]
     },
     "execution_count": 102,
     "metadata": {},
     "output_type": "execute_result"
    }
   ],
   "source": [
    "brier_score_loss(y_test, y_test_pred_proba), np.sqrt(brier_score_loss(y_test, y_test_pred_proba))"
   ]
  },
  {
   "cell_type": "code",
   "execution_count": 140,
   "id": "a9953acb-f8ad-4df6-adce-e053f088c9b8",
   "metadata": {},
   "outputs": [
    {
     "data": {
      "text/plain": [
       "0.7037774890818417"
      ]
     },
     "execution_count": 140,
     "metadata": {},
     "output_type": "execute_result"
    }
   ],
   "source": [
    "balanced_accuracy_score(y_test, model.predict_proba(X_test_xfm)[:,1]>0.495)"
   ]
  },
  {
   "cell_type": "code",
   "execution_count": 86,
   "id": "4ff6c95e-8f2e-42b6-951e-47bbb8105be2",
   "metadata": {},
   "outputs": [
    {
     "data": {
      "text/plain": [
       "0.25"
      ]
     },
     "execution_count": 86,
     "metadata": {},
     "output_type": "execute_result"
    }
   ],
   "source": [
    "0.5**2 # brier score of an dummy estimator that always predicts with 0.5 probability"
   ]
  },
  {
   "cell_type": "code",
   "execution_count": 87,
   "id": "f0ff2807-5284-4f4b-ae62-e5c4330b5890",
   "metadata": {},
   "outputs": [
    {
     "data": {
      "text/plain": [
       "(61502.00000000001, 61502)"
      ]
     },
     "execution_count": 87,
     "metadata": {},
     "output_type": "execute_result"
    }
   ],
   "source": [
    "def get_sample_weights(y):\n",
    "    # only works if y is one dimensional array of 0s and 1s\n",
    "    f1 = np.sum(y)/y.shape[0]\n",
    "    f0 = 1-f1\n",
    "    w0,w1 = 0.5/f0, 0.5/f1\n",
    "    return np.where(y_valid==0, w0, w1)\n",
    "\n",
    "np.sum(get_sample_weights(y_valid)), y_valid.shape[0]"
   ]
  },
  {
   "cell_type": "code",
   "execution_count": 103,
   "id": "4a5c6689-dd25-4dae-b640-184ba1c5cfef",
   "metadata": {},
   "outputs": [
    {
     "name": "stdout",
     "output_type": "stream",
     "text": [
      "CPU times: user 107 ms, sys: 91.2 ms, total: 198 ms\n",
      "Wall time: 77.1 ms\n"
     ]
    },
    {
     "data": {
      "text/plain": [
       "CalibratedClassifierCV(base_estimator=LogisticRegression(class_weight='balanced',\n",
       "                                                         max_iter=1000),\n",
       "                       cv='prefit', method='isotonic')"
      ]
     },
     "execution_count": 103,
     "metadata": {},
     "output_type": "execute_result"
    }
   ],
   "source": [
    "%%time\n",
    "calib_model = CalibratedClassifierCV(base_estimator=model, method='isotonic', cv='prefit')\n",
    "calib_model.fit(X_valid_xfm, y_valid)"
   ]
  },
  {
   "cell_type": "code",
   "execution_count": 104,
   "id": "be2d0c1e-a507-4883-aa82-d785623495cf",
   "metadata": {},
   "outputs": [
    {
     "data": {
      "text/plain": [
       "<matplotlib.legend.Legend at 0x14cb3baf0>"
      ]
     },
     "execution_count": 104,
     "metadata": {},
     "output_type": "execute_result"
    },
    {
     "data": {
      "image/png": "[encoded data removed]",
      "text/plain": [
       "<Figure size 432x288 with 1 Axes>"
      ]
     },
     "metadata": {
      "needs_background": "light"
     },
     "output_type": "display_data"
    }
   ],
   "source": [
    "n_bins=5\n",
    "plt.plot(np.arange(0,1,1/n_bins), np.arange(0,1,1/n_bins), '--')\n",
    "y_test_pred_proba = calib_model.predict_proba(X_test_xfm)[:,1]\n",
    "prob_true, prob_pred = calibration_curve(y_test, y_test_pred_proba, n_bins=n_bins)\n",
    "plt.plot(prob_pred, prob_true, 'r', label='lr' )\n",
    "plt.xlabel('Mean Predicted Probability')\n",
    "plt.ylabel('Fraction True')\n",
    "plt.legend() "
   ]
  },
  {
   "cell_type": "code",
   "execution_count": 105,
   "id": "eb810ff6-a532-4b1d-b3a9-a9e033b0b76a",
   "metadata": {},
   "outputs": [
    {
     "data": {
      "text/plain": [
       "(0.0667547326764966, 0.2583693725589328)"
      ]
     },
     "execution_count": 105,
     "metadata": {},
     "output_type": "execute_result"
    }
   ],
   "source": [
    "brier_score_loss(y_test, y_test_pred_proba), np.sqrt(brier_score_loss(y_test, y_test_pred_proba))"
   ]
  },
  {
   "cell_type": "code",
   "execution_count": 106,
   "id": "a74dcd0a-d95a-4ea7-8c72-ae79bd0a58bc",
   "metadata": {},
   "outputs": [
    {
     "data": {
      "text/plain": [
       "array([0.7724, 0.7729, 0.7699])"
      ]
     },
     "execution_count": 106,
     "metadata": {},
     "output_type": "execute_result"
    }
   ],
   "source": [
    "y_train_pred_proba = calib_model.predict_proba(X_train_xfm)[:, 1]\n",
    "y_valid_pred_proba = calib_model.predict_proba(X_valid_xfm)[:, 1]\n",
    "y_test_pred_proba = calib_model.predict_proba(X_test_xfm)[:, 1]\n",
    "np.round((\n",
    "    roc_auc_score(y_train, y_train_pred_proba), \n",
    "    roc_auc_score(y_valid, y_valid_pred_proba), \n",
    "    roc_auc_score(y_test, y_test_pred_proba)\n",
    "), 4)"
   ]
  },
  {
   "cell_type": "code",
   "execution_count": null,
   "id": "f7c9fbf6-6702-4e47-866e-d632b925d638",
   "metadata": {},
   "outputs": [],
   "source": [
    "# array([0.773 , 0.7716, 0.7703])\n",
    "# array([0.7724, 0.771 , 0.7701])"
   ]
  },
  {
   "cell_type": "code",
   "execution_count": 109,
   "id": "941ee39a-62b7-426d-a1a9-435319188e01",
   "metadata": {},
   "outputs": [
    {
     "data": {
      "text/plain": [
       "(201, 4928)"
      ]
     },
     "execution_count": 109,
     "metadata": {},
     "output_type": "execute_result"
    }
   ],
   "source": [
    "np.sum(y_test_pred_proba > 0.5), np.sum(y_test)"
   ]
  },
  {
   "cell_type": "code",
   "execution_count": 108,
   "id": "0cc6ebf1-54d1-4496-a609-f53921b6772c",
   "metadata": {},
   "outputs": [
    {
     "data": {
      "text/plain": [
       "(array([33074., 15918.,  4704.,  4301.,  1348.,  1471.,   399.,    87.,\n",
       "          106.,    95.]),\n",
       " array([0.    , 0.0625, 0.125 , 0.1875, 0.25  , 0.3125, 0.375 , 0.4375,\n",
       "        0.5   , 0.5625, 0.625 ]),\n",
       " <BarContainer object of 10 artists>)"
      ]
     },
     "execution_count": 108,
     "metadata": {},
     "output_type": "execute_result"
    },
    {
     "data": {
      "image/png": "[encoded data removed]",
      "text/plain": [
       "<Figure size 432x288 with 1 Axes>"
      ]
     },
     "metadata": {
      "needs_background": "light"
     },
     "output_type": "display_data"
    }
   ],
   "source": [
    "plt.hist(y_test_pred_proba)"
   ]
  },
  {
   "cell_type": "code",
   "execution_count": 129,
   "id": "81e1ca37-d54f-4fb2-8a4d-4096383384f0",
   "metadata": {},
   "outputs": [
    {
     "data": {
      "text/plain": [
       "0.703875401002003"
      ]
     },
     "execution_count": 129,
     "metadata": {},
     "output_type": "execute_result"
    }
   ],
   "source": [
    "balanced_accuracy_score(y_test, calib_model.predict_proba(X_test_xfm)[:,1]>0.082)"
   ]
  },
  {
   "cell_type": "markdown",
   "id": "c981ba2d-db93-4efa-b562-7afa49d2250e",
   "metadata": {},
   "source": [
    "## Calibrating KNN"
   ]
  },
  {
   "cell_type": "code",
   "execution_count": 27,
   "id": "9089412e-20d1-456c-afd0-37346e6c0b2b",
   "metadata": {},
   "outputs": [
    {
     "name": "stdout",
     "output_type": "stream",
     "text": [
      "CPU times: user 24.7 ms, sys: 59.1 ms, total: 83.8 ms\n",
      "Wall time: 92.1 ms\n"
     ]
    },
    {
     "data": {
      "text/plain": [
       "KNeighborsClassifier(n_neighbors=701, weights='distance')"
      ]
     },
     "execution_count": 27,
     "metadata": {},
     "output_type": "execute_result"
    }
   ],
   "source": [
    "%%time\n",
    "model = KNeighborsClassifier(n_neighbors=701, weights='distance', p=2, n_jobs=)\n",
    "model.fit(X_train_xfm, y_train)"
   ]
  },
  {
   "cell_type": "code",
   "execution_count": 28,
   "id": "69802395-08d6-4276-95fa-dabeba76db4f",
   "metadata": {},
   "outputs": [
    {
     "data": {
      "text/plain": [
       "array([1.    , 0.7414, 0.737 ])"
      ]
     },
     "execution_count": 28,
     "metadata": {},
     "output_type": "execute_result"
    }
   ],
   "source": [
    "%%time\n",
    "y_train_pred_proba = model.predict_proba(X_train_xfm)[:, 1]\n",
    "y_valid_pred_proba = model.predict_proba(X_valid_xfm)[:, 1]\n",
    "y_test_pred_proba = model.predict_proba(X_test_xfm)[:, 1]\n",
    "np.round((\n",
    "    roc_auc_score(y_train, y_train_pred_proba), \n",
    "    roc_auc_score(y_valid, y_valid_pred_proba), \n",
    "    roc_auc_score(y_test, y_test_pred_proba)\n",
    "), 4)"
   ]
  },
  {
   "cell_type": "code",
   "execution_count": 34,
   "id": "f6d8a0c2-9e4a-46f8-b98e-ac54891135a6",
   "metadata": {},
   "outputs": [
    {
     "data": {
      "text/plain": [
       "(array([1.0779e+04, 2.4001e+04, 1.3557e+04, 6.8840e+03, 3.3730e+03,\n",
       "        1.6520e+03, 8.4100e+02, 3.3900e+02, 7.2000e+01, 5.0000e+00]),\n",
       " array([0.00577504, 0.03649519, 0.06721533, 0.09793548, 0.12865562,\n",
       "        0.15937576, 0.19009591, 0.22081605, 0.2515362 , 0.28225634,\n",
       "        0.31297648]),\n",
       " <BarContainer object of 10 artists>)"
      ]
     },
     "execution_count": 34,
     "metadata": {},
     "output_type": "execute_result"
    },
    {
     "data": {
      "image/png": "[encoded data removed]",
      "text/plain": [
       "<Figure size 432x288 with 1 Axes>"
      ]
     },
     "metadata": {
      "needs_background": "light"
     },
     "output_type": "display_data"
    }
   ],
   "source": [
    "plt.hist(y_test_pred_proba)"
   ]
  },
  {
   "cell_type": "code",
   "execution_count": 33,
   "id": "f24e7db2-9956-4948-94d8-718fdfa958bf",
   "metadata": {},
   "outputs": [
    {
     "data": {
      "text/plain": [
       "(array([0.0759901 , 0.35769657]), array([0.06973345, 0.22267102]))"
      ]
     },
     "execution_count": 33,
     "metadata": {},
     "output_type": "execute_result"
    }
   ],
   "source": [
    "prob_true, prob_pred"
   ]
  },
  {
   "cell_type": "code",
   "execution_count": 29,
   "id": "1ef2cbc7-c2db-4d59-ae6b-7c082536e36e",
   "metadata": {},
   "outputs": [
    {
     "data": {
      "text/plain": [
       "<matplotlib.legend.Legend at 0x1774c53a0>"
      ]
     },
     "execution_count": 29,
     "metadata": {},
     "output_type": "execute_result"
    },
    {
     "data": {
      "image/png": "[encoded data removed]",
      "text/plain": [
       "<Figure size 432x288 with 1 Axes>"
      ]
     },
     "metadata": {
      "needs_background": "light"
     },
     "output_type": "display_data"
    }
   ],
   "source": [
    "n_bins=5\n",
    "plt.plot(np.arange(0,1,1/n_bins), np.arange(0,1,1/n_bins), '--')\n",
    "y_test_pred_proba = model.predict_proba(X_test_xfm)[:,1]\n",
    "prob_true, prob_pred = calibration_curve(y_test, y_test_pred_proba, n_bins=n_bins)\n",
    "plt.plot(prob_pred, prob_true, 'r', label='lr' )\n",
    "plt.xlabel('Mean Predicted Probability')\n",
    "plt.ylabel('Fraction True')\n",
    "plt.legend() "
   ]
  },
  {
   "cell_type": "code",
   "execution_count": 36,
   "id": "cd0c8f3a-7499-434c-acdb-7b2071b0a68b",
   "metadata": {},
   "outputs": [
    {
     "data": {
      "text/plain": [
       "0.06976025677132337"
      ]
     },
     "execution_count": 36,
     "metadata": {},
     "output_type": "execute_result"
    }
   ],
   "source": [
    "brier_score_loss(y_test, y_test_pred_proba)"
   ]
  },
  {
   "cell_type": "code",
   "execution_count": 38,
   "id": "26272b4d-58f7-4be3-8cfd-f3e190af0481",
   "metadata": {},
   "outputs": [
    {
     "name": "stdout",
     "output_type": "stream",
     "text": [
      "CPU times: user 5min 28s, sys: 1min 39s, total: 7min 8s\n",
      "Wall time: 3min 13s\n"
     ]
    },
    {
     "data": {
      "text/plain": [
       "CalibratedClassifierCV(base_estimator=KNeighborsClassifier(n_neighbors=701,\n",
       "                                                           weights='distance'),\n",
       "                       cv='prefit', method='isotonic')"
      ]
     },
     "execution_count": 38,
     "metadata": {},
     "output_type": "execute_result"
    }
   ],
   "source": [
    "%%time\n",
    "base_model = KNeighborsClassifier(n_neighbors=701, weights='distance', p=2)\n",
    "base_model.fit(X_train_xfm, y_train)\n",
    "calib_model = CalibratedClassifierCV(base_estimator=base_model, method='isotonic', cv='prefit')\n",
    "calib_model.fit(X_valid_xfm, y_valid)"
   ]
  },
  {
   "cell_type": "code",
   "execution_count": 39,
   "id": "2a850493-7337-4c4d-b804-66344afe6167",
   "metadata": {},
   "outputs": [
    {
     "data": {
      "text/plain": [
       "<matplotlib.legend.Legend at 0x141888430>"
      ]
     },
     "execution_count": 39,
     "metadata": {},
     "output_type": "execute_result"
    },
    {
     "data": {
      "image/png": "[encoded data removed]",
      "text/plain": [
       "<Figure size 432x288 with 1 Axes>"
      ]
     },
     "metadata": {
      "needs_background": "light"
     },
     "output_type": "display_data"
    }
   ],
   "source": [
    "n_bins=5\n",
    "plt.plot(np.arange(0,1,1/n_bins), np.arange(0,1,1/n_bins), '--')\n",
    "y_test_pred_proba = calib_model.predict_proba(X_test_xfm)[:,1]\n",
    "prob_true, prob_pred = calibration_curve(y_test, y_test_pred_proba, n_bins=n_bins)\n",
    "plt.plot(prob_pred, prob_true, 'r', label='lr' )\n",
    "plt.xlabel('Mean Predicted Probability')\n",
    "plt.ylabel('Fraction True')\n",
    "plt.legend() "
   ]
  },
  {
   "cell_type": "code",
   "execution_count": 42,
   "id": "6cbce03b-32a2-4e46-a39a-620657348385",
   "metadata": {},
   "outputs": [
    {
     "data": {
      "text/plain": [
       "0.06890980804212246"
      ]
     },
     "execution_count": 42,
     "metadata": {},
     "output_type": "execute_result"
    }
   ],
   "source": [
    "brier_score_loss(y_test, y_test_pred_proba)"
   ]
  },
  {
   "cell_type": "code",
   "execution_count": 43,
   "id": "252fa5b4-ae2c-488e-b301-f36e09f4cfb3",
   "metadata": {},
   "outputs": [
    {
     "data": {
      "text/plain": [
       "(array([0.06421872, 0.24412752, 0.4224924 , 0.5       , 1.        ]),\n",
       " array([0.06436994, 0.24609477, 0.44168476, 0.70543112, 1.        ]))"
      ]
     },
     "execution_count": 43,
     "metadata": {},
     "output_type": "execute_result"
    }
   ],
   "source": [
    "prob_true, prob_pred "
   ]
  },
  {
   "cell_type": "code",
   "execution_count": 51,
   "id": "949983ce-6151-4492-bf42-05e54dad8e74",
   "metadata": {},
   "outputs": [
    {
     "data": {
      "text/plain": [
       "(array([4.3395e+04, 1.3006e+04, 4.4280e+03, 3.4000e+02, 2.9100e+02,\n",
       "        3.8000e+01, 2.0000e+00, 2.0000e+00, 0.0000e+00, 1.0000e+00]),\n",
       " array([0. , 0.1, 0.2, 0.3, 0.4, 0.5, 0.6, 0.7, 0.8, 0.9, 1. ]),\n",
       " <BarContainer object of 10 artists>)"
      ]
     },
     "execution_count": 51,
     "metadata": {},
     "output_type": "execute_result"
    },
    {
     "data": {
      "image/png": "[encoded data removed]",
      "text/plain": [
       "<Figure size 432x288 with 1 Axes>"
      ]
     },
     "metadata": {
      "needs_background": "light"
     },
     "output_type": "display_data"
    }
   ],
   "source": [
    "plt.hist(y_test_pred_proba)"
   ]
  },
  {
   "cell_type": "code",
   "execution_count": 58,
   "id": "8e0e81e9-c227-4c51-965b-4f69e5ee65de",
   "metadata": {},
   "outputs": [
    {
     "data": {
      "text/plain": [
       "(334, 4928)"
      ]
     },
     "execution_count": 58,
     "metadata": {},
     "output_type": "execute_result"
    }
   ],
   "source": [
    "np.sum(y_test_pred_proba>0.4), np.sum(y_test)"
   ]
  },
  {
   "cell_type": "code",
   "execution_count": 57,
   "id": "b2acc80e-54d3-4cb5-91d8-37d59e968cdf",
   "metadata": {},
   "outputs": [
    {
     "name": "stdout",
     "output_type": "stream",
     "text": [
      "CPU times: user 27min 8s, sys: 8min 7s, total: 35min 16s\n",
      "Wall time: 14min 38s\n"
     ]
    },
    {
     "data": {
      "text/plain": [
       "array([1.    , 0.7427, 0.7367])"
      ]
     },
     "execution_count": 57,
     "metadata": {},
     "output_type": "execute_result"
    }
   ],
   "source": [
    "%%time\n",
    "y_train_pred_proba = calib_model.predict_proba(X_train_xfm)[:, 1]\n",
    "y_valid_pred_proba = calib_model.predict_proba(X_valid_xfm)[:, 1]\n",
    "y_test_pred_proba = calib_model.predict_proba(X_test_xfm)[:, 1]\n",
    "np.round((\n",
    "    roc_auc_score(y_train, y_train_pred_proba), \n",
    "    roc_auc_score(y_valid, y_valid_pred_proba), \n",
    "    roc_auc_score(y_test, y_test_pred_proba)\n",
    "), 4)"
   ]
  },
  {
   "cell_type": "code",
   "execution_count": null,
   "id": "b9f35dc1-9798-4333-ac18-ce4cdb73128e",
   "metadata": {},
   "outputs": [],
   "source": []
  },
  {
   "cell_type": "code",
   "execution_count": null,
   "id": "c1b1d141-0b32-4ab5-89d6-aaf99649ced4",
   "metadata": {},
   "outputs": [],
   "source": [
    "n_jobs="
   ]
  },
  {
   "cell_type": "code",
   "execution_count": null,
   "id": "506b9d7a-de3e-462c-b299-9cc6d0290e3a",
   "metadata": {},
   "outputs": [],
   "source": []
  },
  {
   "cell_type": "code",
   "execution_count": null,
   "id": "756f5ad2-f6bd-42a2-926f-1b82e7bd0537",
   "metadata": {},
   "outputs": [],
   "source": []
  }
 ],
 "metadata": {
  "kernelspec": {
   "display_name": "Python 3 (ipykernel)",
   "language": "python",
   "name": "python3"
  },
  "language_info": {
   "codemirror_mode": {
    "name": "ipython",
    "version": 3
   },
   "file_extension": ".py",
   "mimetype": "text/x-python",
   "name": "python",
   "nbconvert_exporter": "python",
   "pygments_lexer": "ipython3",
   "version": "3.9.6"
  }
 },
 "nbformat": 4,
 "nbformat_minor": 5
}
