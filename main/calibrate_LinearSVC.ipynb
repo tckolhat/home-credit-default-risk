{
 "cells": [
  {
   "cell_type": "code",
   "execution_count": 1,
   "id": "190cdaa2-ab63-4736-824c-ad552ce758c0",
   "metadata": {},
   "outputs": [],
   "source": [
    "from hcdr import make_prep_pipeline, load_process_data\n",
    "from sklearn.preprocessing import FunctionTransformer\n",
    "from sklearn.metrics import roc_auc_score\n",
    "from sklearn.model_selection import cross_val_score\n",
    "from sklearn.feature_selection import SelectFromModel\n",
    "from sklearn.linear_model import LogisticRegression\n",
    "from sklearn.ensemble import RandomForestClassifier\n",
    "from sklearn.preprocessing import OneHotEncoder\n",
    "from sklearn.preprocessing import StandardScaler\n",
    "from sklearn.pipeline import FeatureUnion\n",
    "from sklearn.pipeline import Pipeline\n",
    "from sklearn.impute import SimpleImputer\n",
    "from sklearn.model_selection import train_test_split\n",
    "from sklearn.model_selection import RandomizedSearchCV\n",
    "from sklearn.linear_model import LogisticRegressionCV\n",
    "from sklearn.metrics import confusion_matrix, precision_score, recall_score, precision_recall_curve, f1_score\n",
    "import seaborn as sns\n",
    "from sklearn.base import BaseEstimator, TransformerMixin\n",
    "import numpy as np\n",
    "import pandas as pd\n",
    "import matplotlib.pyplot as plt\n",
    "import os\n",
    "import datetime\n",
    "import warnings\n",
    "import pprint\n",
    "\n",
    "from sklearn.svm import SVC\n",
    "from sklearn.svm import LinearSVC\n",
    "from sklearn.calibration import calibration_curve\n",
    "\n",
    "from sklearn.calibration import CalibratedClassifierCV\n",
    "from sklearn.metrics import brier_score_loss\n",
    "\n",
    "from sklearn.neighbors import KNeighborsClassifier\n",
    "\n",
    "from sklearn.metrics import accuracy_score"
   ]
  },
  {
   "cell_type": "code",
   "execution_count": 2,
   "id": "19ae1c59-698e-4d7c-95c7-3b40efda56a3",
   "metadata": {},
   "outputs": [],
   "source": [
    "from IPython.display import display, HTML, Javascript\n",
    "\n",
    "js_getResults = \"\"\"<script>\n",
    "alert(\"Hello! I am an alert box!\");\n",
    "</script>\"\"\"\n",
    "\n",
    "def alert():\n",
    "    display(HTML(js_getResults))"
   ]
  },
  {
   "cell_type": "code",
   "execution_count": 3,
   "id": "00d6de21-bf3d-4ffc-88f6-a6c12dcda558",
   "metadata": {},
   "outputs": [
    {
     "name": "stdout",
     "output_type": "stream",
     "text": [
      "loaded data\n"
     ]
    },
    {
     "name": "stderr",
     "output_type": "stream",
     "text": [
      "/Users/deepakduggirala/Documents/courses/AML526/home-credit-default-risk/main/hcdr.py:58: SettingWithCopyWarning: \n",
      "A value is trying to be set on a copy of a slice from a DataFrame.\n",
      "Try using .loc[row_indexer,col_indexer] = value instead\n",
      "\n",
      "See the caveats in the documentation: https://pandas.pydata.org/pandas-docs/stable/user_guide/indexing.html#returning-a-view-versus-a-copy\n",
      "  X[mask] = np.NaN\n",
      "/Users/deepakduggirala/miniforge3/envs/ml/lib/python3.10/site-packages/pandas/core/frame.py:3718: SettingWithCopyWarning: \n",
      "A value is trying to be set on a copy of a slice from a DataFrame\n",
      "\n",
      "See the caveats in the documentation: https://pandas.pydata.org/pandas-docs/stable/user_guide/indexing.html#returning-a-view-versus-a-copy\n",
      "  self._where(-key, value, inplace=True)\n",
      "/Users/deepakduggirala/Documents/courses/AML526/home-credit-default-risk/main/hcdr.py:125: SettingWithCopyWarning: \n",
      "A value is trying to be set on a copy of a slice from a DataFrame\n",
      "\n",
      "See the caveats in the documentation: https://pandas.pydata.org/pandas-docs/stable/user_guide/indexing.html#returning-a-view-versus-a-copy\n",
      "  X[mask] = np.NaN\n",
      "/Users/deepakduggirala/Documents/courses/AML526/home-credit-default-risk/main/hcdr.py:175: SettingWithCopyWarning: \n",
      "A value is trying to be set on a copy of a slice from a DataFrame.\n",
      "Try using .loc[row_indexer,col_indexer] = value instead\n",
      "\n",
      "See the caveats in the documentation: https://pandas.pydata.org/pandas-docs/stable/user_guide/indexing.html#returning-a-view-versus-a-copy\n",
      "  X[mask] = np.NaN\n"
     ]
    },
    {
     "name": "stdout",
     "output_type": "stream",
     "text": [
      "CPU times: user 25.1 s, sys: 11.3 s, total: 36.4 s\n",
      "Wall time: 42.6 s\n"
     ]
    }
   ],
   "source": [
    "%%time\n",
    "processed_data, num_attribs, cat_attribs = load_process_data()\n",
    "y = processed_data['TARGET']\n",
    "X = processed_data\n",
    "\n",
    "data_prep_pipeline = make_prep_pipeline(num_attribs, cat_attribs)"
   ]
  },
  {
   "cell_type": "code",
   "execution_count": 4,
   "id": "6a0549c1-15b2-4d74-821a-477761a91c6a",
   "metadata": {},
   "outputs": [
    {
     "data": {
      "text/plain": [
       "((184506, 354), (61502, 354), (61503, 354))"
      ]
     },
     "execution_count": 4,
     "metadata": {},
     "output_type": "execute_result"
    }
   ],
   "source": [
    "X_train, X_test, y_train, y_test = train_test_split(X, y, test_size=0.4, random_state=42)\n",
    "X_valid, X_test, y_valid, y_test = train_test_split(X_test, y_test, test_size=0.5, random_state=42)\n",
    "X_train.shape, X_valid.shape, X_test.shape"
   ]
  },
  {
   "cell_type": "code",
   "execution_count": 5,
   "id": "5b09cdc0-fbab-431d-bc65-18a2f6a9a64f",
   "metadata": {},
   "outputs": [
    {
     "name": "stdout",
     "output_type": "stream",
     "text": [
      "CPU times: user 31.4 s, sys: 1.66 s, total: 33 s\n",
      "Wall time: 33.6 s\n"
     ]
    }
   ],
   "source": [
    "%%time\n",
    "np.random.seed(42)\n",
    "pipeline_with_selector = Pipeline([\n",
    "    (\"preparation\", data_prep_pipeline),\n",
    "    (\"feature_selector\", SelectFromModel(LogisticRegression(\n",
    "        C=0.006,\n",
    "        penalty='l1',\n",
    "        solver='liblinear',\n",
    "        class_weight='balanced',\n",
    "        max_iter=1000,\n",
    "        random_state=0))),\n",
    "])\n",
    "\n",
    "_ = pipeline_with_selector.fit(X_train, y_train)"
   ]
  },
  {
   "cell_type": "code",
   "execution_count": 6,
   "id": "25197127-223c-411d-99b8-48f2b8935ef6",
   "metadata": {},
   "outputs": [
    {
     "name": "stdout",
     "output_type": "stream",
     "text": [
      "features: 491, num_attribs: 287, cat_features: 204\n",
      "attribs: 334, features: 491, selected_features=173\n"
     ]
    }
   ],
   "source": [
    "cat_pipeline = data_prep_pipeline.transformer_list[1][1]\n",
    "cat_features = [f'{base}_{c}'for base, ohe_c in zip(\n",
    "    cat_attribs, cat_pipeline.named_steps['ohe'].categories_) for c in ohe_c]\n",
    "features = num_attribs + cat_features\n",
    "print(f'features: {len(features)}, num_attribs: {len(num_attribs)}, cat_features: {len(cat_features)}')\n",
    "\n",
    "selector_model = pipeline_with_selector.named_steps['feature_selector']\n",
    "selected_features = list(np.array(features)[selector_model.get_support()])\n",
    "print(f'attribs: {len(num_attribs + cat_attribs)}, features: {len(features)}, selected_features={len(selected_features)}')\n",
    "\n",
    "selected_attribs = set([f if f in num_attribs else '_'.join(f.split('_')[:-1]) for f in selected_features])\n",
    "unused_attribs = set(num_attribs+cat_attribs) - selected_attribs"
   ]
  },
  {
   "cell_type": "code",
   "execution_count": 7,
   "id": "056bb51e-25be-42b0-bd12-e1df2f769bd0",
   "metadata": {},
   "outputs": [
    {
     "data": {
      "text/plain": [
       "((184506, 173), (61502, 173), (61503, 173))"
      ]
     },
     "execution_count": 7,
     "metadata": {},
     "output_type": "execute_result"
    }
   ],
   "source": [
    "X_train_xfm = pipeline_with_selector.transform(X_train)\n",
    "X_valid_xfm = pipeline_with_selector.transform(X_valid)\n",
    "X_test_xfm = pipeline_with_selector.transform(X_test)\n",
    "X_train_xfm.shape, X_valid_xfm.shape, X_test_xfm.shape"
   ]
  },
  {
   "cell_type": "code",
   "execution_count": 8,
   "id": "0b49c12e-6d71-4bba-ab56-c1a50aa70122",
   "metadata": {},
   "outputs": [
    {
     "name": "stdout",
     "output_type": "stream",
     "text": [
      "CPU times: user 41.9 s, sys: 337 ms, total: 42.2 s\n",
      "Wall time: 42.7 s\n"
     ]
    },
    {
     "data": {
      "text/plain": [
       "LinearSVC(class_weight='balanced', dual=False, max_iter=10000, random_state=0)"
      ]
     },
     "execution_count": 8,
     "metadata": {},
     "output_type": "execute_result"
    }
   ],
   "source": [
    "%%time\n",
    "model = LinearSVC(class_weight='balanced', random_state=0, max_iter=10000, dual=False)\n",
    "model.fit(X_train_xfm, y_train)"
   ]
  },
  {
   "cell_type": "code",
   "execution_count": 9,
   "id": "fd775e11-77c7-47c9-af62-ea3d431f49f9",
   "metadata": {},
   "outputs": [],
   "source": [
    "def get_sample_weights(y):\n",
    "    # only works if y is one dimensional array of 0s and 1s\n",
    "    f1 = np.sum(y)/y.shape[0]\n",
    "    f0 = 1-f1\n",
    "    w0,w1 = 0.5/f0, 0.5/f1\n",
    "    return np.where(y_valid==0, w0, w1)"
   ]
  },
  {
   "cell_type": "code",
   "execution_count": 10,
   "id": "a2602273-0d31-458e-9391-ce08aa148b17",
   "metadata": {},
   "outputs": [
    {
     "name": "stdout",
     "output_type": "stream",
     "text": [
      "CPU times: user 111 ms, sys: 91.1 ms, total: 203 ms\n",
      "Wall time: 63.5 ms\n"
     ]
    },
    {
     "data": {
      "text/plain": [
       "CalibratedClassifierCV(base_estimator=LinearSVC(class_weight='balanced',\n",
       "                                                dual=False, max_iter=10000,\n",
       "                                                random_state=0),\n",
       "                       cv='prefit', method='isotonic')"
      ]
     },
     "execution_count": 10,
     "metadata": {},
     "output_type": "execute_result"
    }
   ],
   "source": [
    "%%time\n",
    "calib_model = CalibratedClassifierCV(base_estimator=model, method='isotonic', cv='prefit')\n",
    "calib_model.fit(X_valid_xfm, y_valid, sample_weight=get_sample_weights(y_valid))"
   ]
  },
  {
   "cell_type": "code",
   "execution_count": 11,
   "id": "7fdaa68f-cbbf-4b56-a5e4-48d48c243587",
   "metadata": {},
   "outputs": [
    {
     "data": {
      "text/plain": [
       "<matplotlib.legend.Legend at 0x165625c30>"
      ]
     },
     "execution_count": 11,
     "metadata": {},
     "output_type": "execute_result"
    },
    {
     "data": {
      "image/png": "[encoded data removed]",
      "text/plain": [
       "<Figure size 432x288 with 1 Axes>"
      ]
     },
     "metadata": {
      "needs_background": "light"
     },
     "output_type": "display_data"
    }
   ],
   "source": [
    "n_bins=5\n",
    "plt.plot(np.arange(0,1,1/n_bins), np.arange(0,1,1/n_bins), '--')\n",
    "y_test_pred_proba = calib_model.predict_proba(X_test_xfm)[:,1]\n",
    "prob_true, prob_pred = calibration_curve(y_test, y_test_pred_proba, n_bins=n_bins)\n",
    "plt.plot(prob_pred, prob_true, 'r', label='lr' )\n",
    "plt.xlabel('Mean Predicted Probability')\n",
    "plt.ylabel('Fraction True')\n",
    "plt.legend() "
   ]
  },
  {
   "cell_type": "code",
   "execution_count": 12,
   "id": "cd35e87e-1619-4964-9c06-f0b3ad5fd335",
   "metadata": {},
   "outputs": [
    {
     "data": {
      "text/plain": [
       "0.1958401798155941"
      ]
     },
     "execution_count": 12,
     "metadata": {},
     "output_type": "execute_result"
    }
   ],
   "source": [
    "brier_score_loss(y_test, y_test_pred_proba)"
   ]
  },
  {
   "cell_type": "code",
   "execution_count": 13,
   "id": "498b72a9-98f1-432b-9de4-fcff390b34de",
   "metadata": {},
   "outputs": [
    {
     "data": {
      "text/plain": [
       "(array([0.01603329, 0.03748252, 0.07571437, 0.17451066, 0.3768315 ]),\n",
       " array([0.1480211 , 0.29592362, 0.49031243, 0.69750526, 0.87114577]))"
      ]
     },
     "execution_count": 13,
     "metadata": {},
     "output_type": "execute_result"
    }
   ],
   "source": [
    "prob_true, prob_pred"
   ]
  },
  {
   "cell_type": "code",
   "execution_count": 14,
   "id": "aff41f63-e56e-433a-8e2e-476e953a44d4",
   "metadata": {},
   "outputs": [
    {
     "data": {
      "text/plain": [
       "(array([ 1749., 12319.,  8866.,  7706.,  9332.,  7296.,  5595.,  4275.,\n",
       "         2717.,  1648.]),\n",
       " array([0.        , 0.09471501, 0.18943002, 0.28414503, 0.37886004,\n",
       "        0.47357505, 0.56829006, 0.66300507, 0.75772008, 0.85243509,\n",
       "        0.9471501 ]),\n",
       " <BarContainer object of 10 artists>)"
      ]
     },
     "execution_count": 14,
     "metadata": {},
     "output_type": "execute_result"
    },
    {
     "data": {
      "image/png": "[encoded data removed]",
      "text/plain": [
       "<Figure size 432x288 with 1 Axes>"
      ]
     },
     "metadata": {
      "needs_background": "light"
     },
     "output_type": "display_data"
    }
   ],
   "source": [
    "plt.hist(y_test_pred_proba)"
   ]
  },
  {
   "cell_type": "code",
   "execution_count": 15,
   "id": "8283d8a8-7d87-43ca-9b29-945545ac1df0",
   "metadata": {},
   "outputs": [
    {
     "data": {
      "text/plain": [
       "(20953, 4928, 0.693819813667626, 0.9198738272929776)"
      ]
     },
     "execution_count": 15,
     "metadata": {},
     "output_type": "execute_result"
    }
   ],
   "source": [
    "thresh=0.5\n",
    "np.sum(y_test_pred_proba>thresh), np.sum(y_test), accuracy_score(y_test, y_test_pred_proba>thresh), 1-np.mean(y_test)"
   ]
  },
  {
   "cell_type": "code",
   "execution_count": 16,
   "id": "9af58717-6dee-47f2-ac0e-27db8168e58f",
   "metadata": {},
   "outputs": [
    {
     "data": {
      "text/plain": [
       "array([0.7723, 0.7728, 0.7699])"
      ]
     },
     "execution_count": 16,
     "metadata": {},
     "output_type": "execute_result"
    }
   ],
   "source": [
    "y_train_pred_proba = calib_model.predict_proba(X_train_xfm)[:, 1]\n",
    "y_valid_pred_proba = calib_model.predict_proba(X_valid_xfm)[:, 1]\n",
    "y_test_pred_proba = calib_model.predict_proba(X_test_xfm)[:, 1]\n",
    "np.round((\n",
    "    roc_auc_score(y_train, y_train_pred_proba), \n",
    "    roc_auc_score(y_valid, y_valid_pred_proba), \n",
    "    roc_auc_score(y_test, y_test_pred_proba)\n",
    "), 4)"
   ]
  }
 ],
 "metadata": {
  "kernelspec": {
   "display_name": "Python 3 (ipykernel)",
   "language": "python",
   "name": "python3"
  },
  "language_info": {
   "codemirror_mode": {
    "name": "ipython",
    "version": 3
   },
   "file_extension": ".py",
   "mimetype": "text/x-python",
   "name": "python",
   "nbconvert_exporter": "python",
   "pygments_lexer": "ipython3",
   "version": "3.9.6"
  }
 },
 "nbformat": 4,
 "nbformat_minor": 5
}
