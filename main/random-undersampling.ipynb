{
 "cells": [
  {
   "cell_type": "code",
   "execution_count": null,
   "id": "27a15fbc-de42-4925-bc97-310184204999",
   "metadata": {},
   "outputs": [],
   "source": []
  },
  {
   "cell_type": "code",
   "execution_count": 90,
   "id": "2447f75a-97a4-4a31-83b8-cca13427047c",
   "metadata": {},
   "outputs": [],
   "source": [
    "from hcdr import make_prep_pipeline, load_process_data\n",
    "from sklearn.preprocessing import FunctionTransformer\n",
    "from sklearn.metrics import roc_auc_score\n",
    "from sklearn.model_selection import cross_val_score\n",
    "from sklearn.feature_selection import SelectFromModel\n",
    "from sklearn.linear_model import LogisticRegression\n",
    "from sklearn.ensemble import RandomForestClassifier\n",
    "from sklearn.preprocessing import OneHotEncoder\n",
    "from sklearn.preprocessing import StandardScaler\n",
    "from sklearn.pipeline import FeatureUnion\n",
    "from sklearn.pipeline import Pipeline\n",
    "from sklearn.impute import SimpleImputer\n",
    "from sklearn.model_selection import train_test_split\n",
    "from sklearn.model_selection import RandomizedSearchCV\n",
    "from sklearn.linear_model import LogisticRegressionCV\n",
    "from sklearn.metrics import confusion_matrix, precision_score, recall_score, precision_recall_curve, f1_score\n",
    "import seaborn as sns\n",
    "from sklearn.base import BaseEstimator, TransformerMixin\n",
    "import numpy as np\n",
    "import pandas as pd\n",
    "import matplotlib.pyplot as plt\n",
    "import os\n",
    "import datetime\n",
    "import warnings\n",
    "import pprint\n",
    "\n",
    "from sklearn.svm import SVC\n",
    "from sklearn.svm import LinearSVC\n",
    "from sklearn.calibration import calibration_curve\n",
    "\n",
    "from sklearn.calibration import CalibratedClassifierCV\n",
    "from sklearn.metrics import brier_score_loss\n",
    "\n",
    "from sklearn.neighbors import KNeighborsClassifier\n",
    "from sklearn.metrics import balanced_accuracy_score"
   ]
  },
  {
   "cell_type": "code",
   "execution_count": 2,
   "id": "3a87b892-bd7d-4bbc-9cc5-c96a83651ae6",
   "metadata": {},
   "outputs": [],
   "source": [
    "from IPython.display import display, HTML, Javascript\n",
    "\n",
    "js_getResults = \"\"\"<script>\n",
    "alert(\"Hello! I am an alert box!\");\n",
    "</script>\"\"\"\n",
    "\n",
    "def alert():\n",
    "    display(HTML(js_getResults))"
   ]
  },
  {
   "cell_type": "code",
   "execution_count": 3,
   "id": "a16d6474-46f7-4020-b9d9-a4604386f512",
   "metadata": {},
   "outputs": [
    {
     "name": "stdout",
     "output_type": "stream",
     "text": [
      "loaded data\n"
     ]
    },
    {
     "name": "stderr",
     "output_type": "stream",
     "text": [
      "/Users/deepakduggirala/Documents/courses/AML526/home-credit-default-risk/main/hcdr.py:58: SettingWithCopyWarning: \n",
      "A value is trying to be set on a copy of a slice from a DataFrame.\n",
      "Try using .loc[row_indexer,col_indexer] = value instead\n",
      "\n",
      "See the caveats in the documentation: https://pandas.pydata.org/pandas-docs/stable/user_guide/indexing.html#returning-a-view-versus-a-copy\n",
      "  X[mask] = np.NaN\n",
      "/Users/deepakduggirala/miniforge3/envs/ml/lib/python3.10/site-packages/pandas/core/frame.py:3718: SettingWithCopyWarning: \n",
      "A value is trying to be set on a copy of a slice from a DataFrame\n",
      "\n",
      "See the caveats in the documentation: https://pandas.pydata.org/pandas-docs/stable/user_guide/indexing.html#returning-a-view-versus-a-copy\n",
      "  self._where(-key, value, inplace=True)\n",
      "/Users/deepakduggirala/Documents/courses/AML526/home-credit-default-risk/main/hcdr.py:125: SettingWithCopyWarning: \n",
      "A value is trying to be set on a copy of a slice from a DataFrame\n",
      "\n",
      "See the caveats in the documentation: https://pandas.pydata.org/pandas-docs/stable/user_guide/indexing.html#returning-a-view-versus-a-copy\n",
      "  X[mask] = np.NaN\n",
      "/Users/deepakduggirala/Documents/courses/AML526/home-credit-default-risk/main/hcdr.py:175: SettingWithCopyWarning: \n",
      "A value is trying to be set on a copy of a slice from a DataFrame.\n",
      "Try using .loc[row_indexer,col_indexer] = value instead\n",
      "\n",
      "See the caveats in the documentation: https://pandas.pydata.org/pandas-docs/stable/user_guide/indexing.html#returning-a-view-versus-a-copy\n",
      "  X[mask] = np.NaN\n"
     ]
    },
    {
     "name": "stdout",
     "output_type": "stream",
     "text": [
      "CPU times: user 25.8 s, sys: 11.3 s, total: 37.1 s\n",
      "Wall time: 43.2 s\n"
     ]
    }
   ],
   "source": [
    "%%time\n",
    "processed_data, num_attribs, cat_attribs = load_process_data()\n",
    "y = processed_data['TARGET']\n",
    "X = processed_data\n",
    "\n",
    "data_prep_pipeline = make_prep_pipeline(num_attribs, cat_attribs)"
   ]
  },
  {
   "cell_type": "code",
   "execution_count": 4,
   "id": "0039f402-e79c-4037-a757-f803344da46a",
   "metadata": {},
   "outputs": [
    {
     "data": {
      "text/plain": [
       "((184506, 354), (61502, 354), (61503, 354))"
      ]
     },
     "execution_count": 4,
     "metadata": {},
     "output_type": "execute_result"
    }
   ],
   "source": [
    "X_train, X_test, y_train, y_test = train_test_split(X, y, test_size=0.4, random_state=42)\n",
    "X_valid, X_test, y_valid, y_test = train_test_split(X_test, y_test, test_size=0.5, random_state=42)\n",
    "X_train.shape, X_valid.shape, X_test.shape"
   ]
  },
  {
   "cell_type": "code",
   "execution_count": 5,
   "id": "60b9d52a-26df-40c4-8321-c9f7d099ce3b",
   "metadata": {},
   "outputs": [
    {
     "name": "stdout",
     "output_type": "stream",
     "text": [
      "CPU times: user 31.4 s, sys: 1.57 s, total: 33 s\n",
      "Wall time: 33.4 s\n"
     ]
    }
   ],
   "source": [
    "%%time\n",
    "np.random.seed(42)\n",
    "pipeline_with_selector = Pipeline([\n",
    "    (\"preparation\", data_prep_pipeline),\n",
    "    (\"feature_selector\", SelectFromModel(LogisticRegression(\n",
    "        C=0.006,\n",
    "        penalty='l1',\n",
    "        solver='liblinear',\n",
    "        class_weight='balanced',\n",
    "        max_iter=1000,\n",
    "        random_state=0))),\n",
    "])\n",
    "\n",
    "_ = pipeline_with_selector.fit(X_train, y_train)"
   ]
  },
  {
   "cell_type": "code",
   "execution_count": 6,
   "id": "45990cb2-8099-44ed-b28d-cf3fe60e04c9",
   "metadata": {},
   "outputs": [],
   "source": [
    "# full_pipeline_with_predictor = Pipeline([(\"preparation\", ), (\"classifier\", LogisticRegression(max_iter=1000, class_weight=\"balanced\"))])"
   ]
  },
  {
   "cell_type": "code",
   "execution_count": 7,
   "id": "bc8a5f77-e6c4-4b7b-924a-ec3c9d73fa3c",
   "metadata": {},
   "outputs": [
    {
     "name": "stdout",
     "output_type": "stream",
     "text": [
      "features: 491, num_attribs: 287, cat_features: 204\n",
      "attribs: 334, features: 491, selected_features=173\n"
     ]
    }
   ],
   "source": [
    "cat_pipeline = data_prep_pipeline.transformer_list[1][1]\n",
    "cat_features = [f'{base}_{c}'for base, ohe_c in zip(\n",
    "    cat_attribs, cat_pipeline.named_steps['ohe'].categories_) for c in ohe_c]\n",
    "features = num_attribs + cat_features\n",
    "print(f'features: {len(features)}, num_attribs: {len(num_attribs)}, cat_features: {len(cat_features)}')\n",
    "\n",
    "selector_model = pipeline_with_selector.named_steps['feature_selector']\n",
    "selected_features = list(np.array(features)[selector_model.get_support()])\n",
    "print(f'attribs: {len(num_attribs + cat_attribs)}, features: {len(features)}, selected_features={len(selected_features)}')\n",
    "\n",
    "selected_attribs = set([f if f in num_attribs else '_'.join(f.split('_')[:-1]) for f in selected_features])\n",
    "unused_attribs = set(num_attribs+cat_attribs) - selected_attribs"
   ]
  },
  {
   "cell_type": "code",
   "execution_count": 124,
   "id": "69973245-761f-4320-a53f-e89c16643fad",
   "metadata": {},
   "outputs": [
    {
     "data": {
      "text/plain": [
       "((184506, 173), (61502, 173), (61503, 173))"
      ]
     },
     "execution_count": 124,
     "metadata": {},
     "output_type": "execute_result"
    }
   ],
   "source": [
    "X_train_xfm = pipeline_with_selector.transform(X_train)\n",
    "X_valid_xfm = pipeline_with_selector.transform(X_valid)\n",
    "X_test_xfm = pipeline_with_selector.transform(X_test)\n",
    "X_train_xfm.shape, X_valid_xfm.shape, X_test_xfm.shape"
   ]
  },
  {
   "cell_type": "code",
   "execution_count": 125,
   "id": "3d30a822-f82c-4b1d-933f-7359dc627a8a",
   "metadata": {},
   "outputs": [
    {
     "name": "stdout",
     "output_type": "stream",
     "text": [
      "(184506, 173)\n",
      "(29878, 173)\n",
      "[14939 14939]\n"
     ]
    }
   ],
   "source": [
    "from imblearn.under_sampling import RandomUnderSampler\n",
    "rus = RandomUnderSampler(replacement=False)\n",
    "X_train_subsample, y_train_subsample = rus.fit_resample(\n",
    "    X_train_xfm, y_train)\n",
    "print(X_train_xfm.shape)\n",
    "print(X_train_subsample.shape)\n",
    "print(np.bincount(y_train_subsample))"
   ]
  },
  {
   "cell_type": "code",
   "execution_count": 126,
   "id": "f77a6df7-4b8e-4799-bdc2-9e9baea61278",
   "metadata": {},
   "outputs": [
    {
     "name": "stdout",
     "output_type": "stream",
     "text": [
      "CPU times: user 2.83 s, sys: 684 ms, total: 3.52 s\n",
      "Wall time: 532 ms\n"
     ]
    },
    {
     "data": {
      "text/plain": [
       "LogisticRegression(max_iter=1000)"
      ]
     },
     "execution_count": 126,
     "metadata": {},
     "output_type": "execute_result"
    }
   ],
   "source": [
    "%%time\n",
    "model = LogisticRegression(max_iter=1000)\n",
    "model.fit(X_train_subsample, y_train_subsample)"
   ]
  },
  {
   "cell_type": "code",
   "execution_count": 127,
   "id": "f62674a8-eb5d-4423-9eb3-b85b21633b1f",
   "metadata": {},
   "outputs": [
    {
     "data": {
      "text/plain": [
       "array([0.7732, 0.7697, 0.7679])"
      ]
     },
     "execution_count": 127,
     "metadata": {},
     "output_type": "execute_result"
    }
   ],
   "source": [
    "y_train_resample_pred_proba = model.predict_proba(X_train_subsample)[:, 1]\n",
    "y_valid_pred_proba = model.predict_proba(X_valid_xfm)[:, 1]\n",
    "y_test_pred_proba = model.predict_proba(X_test_xfm)[:, 1]\n",
    "np.round((\n",
    "    roc_auc_score(y_train_subsample, y_train_resample_pred_proba),\n",
    "    roc_auc_score(y_valid, y_valid_pred_proba), \n",
    "    roc_auc_score(y_test, y_test_pred_proba)\n",
    "), 4)"
   ]
  },
  {
   "cell_type": "code",
   "execution_count": 128,
   "id": "bc62fa37-b2c3-43b8-932f-716ce29c0ee5",
   "metadata": {},
   "outputs": [],
   "source": [
    "rus = RandomUnderSampler(replacement=False)\n",
    "X_test_subsample, y_test_subsample = rus.fit_resample(\n",
    "    X_test_xfm, y_test)"
   ]
  },
  {
   "cell_type": "code",
   "execution_count": 129,
   "id": "5ac05928-d702-495d-abc7-3691ce0340cd",
   "metadata": {},
   "outputs": [
    {
     "data": {
      "text/plain": [
       "(array([ 803., 2840., 3747., 3717., 3803., 3919., 3794., 3508., 2866.,\n",
       "         881.]),\n",
       " array([4.01906745e-10, 9.99999925e-02, 1.99999985e-01, 2.99999977e-01,\n",
       "        3.99999969e-01, 4.99999961e-01, 5.99999953e-01, 6.99999945e-01,\n",
       "        7.99999937e-01, 8.99999929e-01, 9.99999921e-01]),\n",
       " <BarContainer object of 10 artists>)"
      ]
     },
     "execution_count": 129,
     "metadata": {},
     "output_type": "execute_result"
    },
    {
     "data": {
      "image/png": "[encoded data removed]",
      "text/plain": [
       "<Figure size 432x288 with 1 Axes>"
      ]
     },
     "metadata": {
      "needs_background": "light"
     },
     "output_type": "display_data"
    }
   ],
   "source": [
    "plt.hist(y_train_resample_pred_proba)"
   ]
  },
  {
   "cell_type": "code",
   "execution_count": 131,
   "id": "98d3cd2f-9b2c-4d89-9976-16bed3797205",
   "metadata": {},
   "outputs": [
    {
     "data": {
      "text/plain": [
       "<matplotlib.legend.Legend at 0x1140c85e0>"
      ]
     },
     "execution_count": 131,
     "metadata": {},
     "output_type": "execute_result"
    },
    {
     "data": {
      "image/png": "[encoded data removed]",
      "text/plain": [
       "<Figure size 432x288 with 1 Axes>"
      ]
     },
     "metadata": {
      "needs_background": "light"
     },
     "output_type": "display_data"
    }
   ],
   "source": [
    "n_bins=5\n",
    "plt.plot(np.arange(0,1,1/n_bins), np.arange(0,1,1/n_bins), '--')\n",
    "y_test_pred_proba = model.predict_proba(X_test_subsample)[:,1]\n",
    "prob_true, prob_pred = calibration_curve(y_test_subsample, y_test_pred_proba, n_bins=n_bins)\n",
    "plt.plot(prob_pred, prob_true, 'r', label='lr' )\n",
    "plt.xlabel('Mean Predicted Probability')\n",
    "plt.ylabel('Fraction True')\n",
    "plt.legend() "
   ]
  },
  {
   "cell_type": "code",
   "execution_count": 133,
   "id": "8a89e94b-c25d-402c-9e5c-57d87944cc45",
   "metadata": {},
   "outputs": [
    {
     "data": {
      "text/plain": [
       "0.19710648447820198"
      ]
     },
     "execution_count": 133,
     "metadata": {},
     "output_type": "execute_result"
    }
   ],
   "source": [
    "brier_score_loss(y_test_subsample, y_test_pred_proba)"
   ]
  },
  {
   "cell_type": "code",
   "execution_count": 134,
   "id": "808f9683-9579-4964-87da-b3fa7bf5bfbf",
   "metadata": {},
   "outputs": [],
   "source": [
    "rus = RandomUnderSampler(replacement=False)\n",
    "X_valid_subsample, y_valid_subsample = rus.fit_resample(\n",
    "    X_valid_xfm, y_valid)"
   ]
  },
  {
   "cell_type": "code",
   "execution_count": 136,
   "id": "6c4c58c2-ef61-47ab-8980-39c0e3e3281f",
   "metadata": {},
   "outputs": [
    {
     "name": "stdout",
     "output_type": "stream",
     "text": [
      "CPU times: user 12.5 ms, sys: 12.3 ms, total: 24.8 ms\n",
      "Wall time: 13.3 ms\n"
     ]
    },
    {
     "data": {
      "text/plain": [
       "CalibratedClassifierCV(base_estimator=LogisticRegression(max_iter=1000),\n",
       "                       cv='prefit', method='isotonic')"
      ]
     },
     "execution_count": 136,
     "metadata": {},
     "output_type": "execute_result"
    }
   ],
   "source": [
    "%%time\n",
    "calib_model = CalibratedClassifierCV(base_estimator=model, method='isotonic', cv='prefit')\n",
    "calib_model.fit(X_valid_subsample, y_valid_subsample)"
   ]
  },
  {
   "cell_type": "code",
   "execution_count": 137,
   "id": "f6b44a8f-5a05-498e-b8ef-cf1619e03132",
   "metadata": {},
   "outputs": [
    {
     "data": {
      "text/plain": [
       "<matplotlib.legend.Legend at 0x1122d96c0>"
      ]
     },
     "execution_count": 137,
     "metadata": {},
     "output_type": "execute_result"
    },
    {
     "data": {
      "image/png": "[encoded data removed]",
      "text/plain": [
       "<Figure size 432x288 with 1 Axes>"
      ]
     },
     "metadata": {
      "needs_background": "light"
     },
     "output_type": "display_data"
    }
   ],
   "source": [
    "n_bins=5\n",
    "plt.plot(np.arange(0,1,1/n_bins), np.arange(0,1,1/n_bins), '--')\n",
    "y_test_pred_proba = calib_model.predict_proba(X_test_subsample)[:,1]\n",
    "prob_true, prob_pred = calibration_curve(y_test_subsample, y_test_pred_proba, n_bins=n_bins)\n",
    "plt.plot(prob_pred, prob_true, 'r', label='lr' )\n",
    "plt.xlabel('Mean Predicted Probability')\n",
    "plt.ylabel('Fraction True')\n",
    "plt.legend() "
   ]
  },
  {
   "cell_type": "code",
   "execution_count": 138,
   "id": "d89f360c-5d40-48b6-90a1-b0c8db27ef35",
   "metadata": {},
   "outputs": [
    {
     "data": {
      "text/plain": [
       "(0.19731820547512355, 0.44420513895622993)"
      ]
     },
     "execution_count": 138,
     "metadata": {},
     "output_type": "execute_result"
    }
   ],
   "source": [
    "brier_score_loss(y_test_subsample, y_test_pred_proba), np.sqrt(brier_score_loss(y_test_subsample, y_test_pred_proba))"
   ]
  },
  {
   "cell_type": "code",
   "execution_count": 139,
   "id": "8c2ba6d8-def7-4982-844e-160716dacf64",
   "metadata": {},
   "outputs": [
    {
     "data": {
      "text/plain": [
       "(array([ 180., 1348.,  854.,  881., 1261., 1684., 1025.,  919., 1309.,\n",
       "         395.]),\n",
       " array([0.        , 0.09710145, 0.1942029 , 0.29130435, 0.3884058 ,\n",
       "        0.48550725, 0.5826087 , 0.67971014, 0.77681159, 0.87391304,\n",
       "        0.97101449]),\n",
       " <BarContainer object of 10 artists>)"
      ]
     },
     "execution_count": 139,
     "metadata": {},
     "output_type": "execute_result"
    },
    {
     "data": {
      "image/png": "[encoded data removed]",
      "text/plain": [
       "<Figure size 432x288 with 1 Axes>"
      ]
     },
     "metadata": {
      "needs_background": "light"
     },
     "output_type": "display_data"
    }
   ],
   "source": [
    "plt.hist(y_test_pred_proba)"
   ]
  },
  {
   "cell_type": "code",
   "execution_count": 106,
   "id": "7e857c2a-c613-4bea-b6bc-fbb752c519aa",
   "metadata": {},
   "outputs": [
    {
     "data": {
      "text/plain": [
       "(264, 4928, (61503,))"
      ]
     },
     "execution_count": 106,
     "metadata": {},
     "output_type": "execute_result"
    }
   ],
   "source": [
    "np.sum(y_test_pred_proba > 0.5), np.sum(y_test), y_test.shape"
   ]
  },
  {
   "cell_type": "code",
   "execution_count": 141,
   "id": "ea05f8fe-891b-4ea4-9f10-30d13c405cc3",
   "metadata": {},
   "outputs": [
    {
     "data": {
      "text/plain": [
       "array([0.7732, 0.7707, 0.7654])"
      ]
     },
     "execution_count": 141,
     "metadata": {},
     "output_type": "execute_result"
    }
   ],
   "source": [
    "y_train_resample_pred_proba = model.predict_proba(X_train_subsample)[:, 1]\n",
    "y_valid_pred_proba = calib_model.predict_proba(X_valid_xfm)[:, 1]\n",
    "y_test_pred_proba = calib_model.predict_proba(X_test_subsample)[:, 1]\n",
    "np.round((\n",
    "    roc_auc_score(y_train_subsample, y_train_resample_pred_proba),\n",
    "    roc_auc_score(y_valid, y_valid_pred_proba), \n",
    "    roc_auc_score(y_test_subsample, y_test_pred_proba)\n",
    "), 4)"
   ]
  },
  {
   "cell_type": "code",
   "execution_count": 142,
   "id": "cdda0167-14fd-48a2-bff7-2264af54a789",
   "metadata": {},
   "outputs": [
    {
     "data": {
      "text/plain": [
       "(0.6997133409564364, 0.6993838360325049)"
      ]
     },
     "execution_count": 142,
     "metadata": {},
     "output_type": "execute_result"
    }
   ],
   "source": [
    "balanced_accuracy_score(y_test, model.predict(X_test_xfm)), balanced_accuracy_score(y_test, calib_model.predict(X_test_xfm))"
   ]
  },
  {
   "cell_type": "code",
   "execution_count": 143,
   "id": "c26ed15f-930e-46ec-8217-9137ee2cb277",
   "metadata": {},
   "outputs": [
    {
     "data": {
      "text/plain": [
       "(0.6985592532467533, 0.6981534090909091)"
      ]
     },
     "execution_count": 143,
     "metadata": {},
     "output_type": "execute_result"
    }
   ],
   "source": [
    "balanced_accuracy_score(y_test_subsample, model.predict(X_test_subsample)), balanced_accuracy_score(y_test_subsample, calib_model.predict(X_test_subsample))"
   ]
  },
  {
   "cell_type": "code",
   "execution_count": null,
   "id": "3b920fe4-1a46-4a64-91a6-c0d5b11aaf8a",
   "metadata": {},
   "outputs": [],
   "source": [
    "# array([0.7754, 0.7718, 0.7696, 0.7693])"
   ]
  },
  {
   "cell_type": "code",
   "execution_count": null,
   "id": "64209076-c324-42ab-a235-f6db14653ccc",
   "metadata": {},
   "outputs": [],
   "source": []
  },
  {
   "cell_type": "code",
   "execution_count": null,
   "id": "a78faca5-d798-4f26-8852-e434ca25181a",
   "metadata": {},
   "outputs": [],
   "source": []
  },
  {
   "cell_type": "code",
   "execution_count": 56,
   "id": "4e061d4d-28c9-415b-bddb-045685b4933b",
   "metadata": {},
   "outputs": [
    {
     "name": "stdout",
     "output_type": "stream",
     "text": [
      "CPU times: user 23.9 ms, sys: 59.8 ms, total: 83.6 ms\n",
      "Wall time: 126 ms\n"
     ]
    },
    {
     "data": {
      "text/plain": [
       "KNeighborsClassifier(n_neighbors=701, weights='distance')"
      ]
     },
     "execution_count": 56,
     "metadata": {},
     "output_type": "execute_result"
    }
   ],
   "source": [
    "%%time\n",
    "model = KNeighborsClassifier(n_neighbors=701, weights='distance', p=2)\n",
    "model.fit(X_train_xfm, y_train)"
   ]
  },
  {
   "cell_type": "code",
   "execution_count": null,
   "id": "756e77a7-12f8-418e-a7dc-07508bac173b",
   "metadata": {},
   "outputs": [],
   "source": [
    "%%time\n",
    "y_train_pred_proba = model.predict_proba(X_train_subsample)[:, 1]\n",
    "y_valid_pred_proba = model.predict_proba(X_valid_subsample)[:, 1]\n",
    "# y_test_pred_proba = model.predict_proba(X_test_xfm)[:, 1]"
   ]
  },
  {
   "cell_type": "code",
   "execution_count": 61,
   "id": "a8e2be8c-b09f-4aee-9432-79b180fa4527",
   "metadata": {},
   "outputs": [
    {
     "data": {
      "text/plain": [
       "array([1.    , 0.7371])"
      ]
     },
     "execution_count": 61,
     "metadata": {},
     "output_type": "execute_result"
    }
   ],
   "source": [
    "np.round((\n",
    "    roc_auc_score(y_train_subsample, y_train_pred_proba), \n",
    "    roc_auc_score(y_valid_subsample, y_valid_pred_proba), \n",
    "    # roc_auc_score(y_test, y_test_pred_proba)\n",
    "), 4)"
   ]
  },
  {
   "cell_type": "code",
   "execution_count": 62,
   "id": "0295d414-6c49-4bdf-b28e-2a1b2187d74b",
   "metadata": {},
   "outputs": [
    {
     "data": {
      "text/plain": [
       "(array([1076., 2808., 2260., 1542., 1018.,  581.,  360.,  190.,   56.,\n",
       "          25.]),\n",
       " array([0.00847242, 0.03687076, 0.06526909, 0.09366743, 0.12206577,\n",
       "        0.1504641 , 0.17886244, 0.20726077, 0.23565911, 0.26405744,\n",
       "        0.29245578]),\n",
       " <BarContainer object of 10 artists>)"
      ]
     },
     "execution_count": 62,
     "metadata": {},
     "output_type": "execute_result"
    },
    {
     "data": {
      "image/png": "[encoded data removed]",
      "text/plain": [
       "<Figure size 432x288 with 1 Axes>"
      ]
     },
     "metadata": {
      "needs_background": "light"
     },
     "output_type": "display_data"
    }
   ],
   "source": [
    "plt.hist(y_valid_pred_proba)"
   ]
  },
  {
   "cell_type": "code",
   "execution_count": 63,
   "id": "5e20f601-1cde-4b6b-872e-2518b1b8cb7b",
   "metadata": {},
   "outputs": [
    {
     "data": {
      "text/plain": [
       "(array([0.01496679, 0.03545621, 0.07993631, 0.16685491, 0.33225901]),\n",
       " array([0.13569351, 0.29706202, 0.49297651, 0.69047987, 0.86147261]))"
      ]
     },
     "execution_count": 63,
     "metadata": {},
     "output_type": "execute_result"
    }
   ],
   "source": [
    "prob_true, prob_pred"
   ]
  },
  {
   "cell_type": "code",
   "execution_count": null,
   "id": "db679c76-a02d-402e-a1e2-398bce6b73af",
   "metadata": {},
   "outputs": [],
   "source": [
    "%%time\n",
    "n_bins=5\n",
    "plt.plot(np.arange(0,1,1/n_bins), np.arange(0,1,1/n_bins), '--')\n",
    "y_test_pred_proba = model.predict_proba(X_test_xfm)[:,1]\n",
    "prob_true, prob_pred = calibration_curve(y_test, y_test_pred_proba, n_bins=n_bins)\n",
    "plt.plot(prob_pred, prob_true, 'r', label='lr' )\n",
    "plt.xlabel('Mean Predicted Probability')\n",
    "plt.ylabel('Fraction True')\n",
    "plt.legend() "
   ]
  }
 ],
 "metadata": {
  "kernelspec": {
   "display_name": "Python 3 (ipykernel)",
   "language": "python",
   "name": "python3"
  },
  "language_info": {
   "codemirror_mode": {
    "name": "ipython",
    "version": 3
   },
   "file_extension": ".py",
   "mimetype": "text/x-python",
   "name": "python",
   "nbconvert_exporter": "python",
   "pygments_lexer": "ipython3",
   "version": "3.9.6"
  }
 },
 "nbformat": 4,
 "nbformat_minor": 5
}
